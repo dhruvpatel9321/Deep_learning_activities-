{
  "nbformat": 4,
  "nbformat_minor": 0,
  "metadata": {
    "kernelspec": {
      "display_name": "Python 3",
      "language": "python",
      "name": "python3"
    },
    "language_info": {
      "codemirror_mode": {
        "name": "ipython",
        "version": 3
      },
      "file_extension": ".py",
      "mimetype": "text/x-python",
      "name": "python",
      "nbconvert_exporter": "python",
      "pygments_lexer": "ipython3",
      "version": "3.7.4"
    },
    "colab": {
      "name": "DL__Subjective Assignment - 2 - Python Function and List.ipynb",
      "provenance": [],
      "collapsed_sections": []
    }
  },
  "cells": [
    {
      "cell_type": "markdown",
      "metadata": {
        "id": "8nvfZ3KBh599",
        "colab_type": "text"
      },
      "source": [
        "# Assignments"
      ]
    },
    {
      "cell_type": "markdown",
      "metadata": {
        "id": "kOGNShjlh5-A",
        "colab_type": "text"
      },
      "source": [
        "Q1. Write the Python function to get a string made of 4 copies of the last\n",
        "two characters of the specified string (length must be at least 2).\n",
        "\n",
        "    Sample function and result :\n",
        "    insert-end ('Python') -> abababab\n",
        "    insert-end('Exercises') -> jkjkjkjk"
      ]
    },
    {
      "cell_type": "code",
      "metadata": {
        "id": "9PzTllg9h5-C",
        "colab_type": "code",
        "colab": {
          "base_uri": "https://localhost:8080/",
          "height": 51
        },
        "outputId": "484cd952-d867-45d2-a26d-09381d3f9532"
      },
      "source": [
        "def insert_end(str):\n",
        "\tsub_str = str[-2:]\n",
        "\treturn sub_str * 4\n",
        "\n",
        "print(insert_end('Python'))\n",
        "print(insert_end('Exercises'))\n"
      ],
      "execution_count": 1,
      "outputs": [
        {
          "output_type": "stream",
          "text": [
            "onononon\n",
            "eseseses\n"
          ],
          "name": "stdout"
        }
      ]
    },
    {
      "cell_type": "markdown",
      "metadata": {
        "id": "i86-clA1h5-M",
        "colab_type": "text"
      },
      "source": [
        "Q2. Write the python function to get a string made of its first three\n",
        "characters of a specified string. If the length of the string is less than 3\n",
        "then return the original string.\n",
        "    \n",
        "    Sample function and result :\n",
        "    first-three('ipy') -> ipy\n",
        "    first-three('python') -> pyt"
      ]
    },
    {
      "cell_type": "code",
      "metadata": {
        "id": "OefbGUGVh5-N",
        "colab_type": "code",
        "colab": {
          "base_uri": "https://localhost:8080/",
          "height": 51
        },
        "outputId": "b89b2030-10e4-4cc5-8f6c-74ad168ae53f"
      },
      "source": [
        "def first_three(str):\n",
        "\treturn str[:3] if len(str) > 3 else str\n",
        "\n",
        "print(first_three('ipy'))\n",
        "print(first_three('python'))\n"
      ],
      "execution_count": 8,
      "outputs": [
        {
          "output_type": "stream",
          "text": [
            "ipy\n",
            "pyt\n"
          ],
          "name": "stdout"
        }
      ]
    },
    {
      "cell_type": "markdown",
      "metadata": {
        "id": "ztavghUbh5-V",
        "colab_type": "text"
      },
      "source": [
        "Q3. Write the Python program to find smallest window that contains all\n",
        "characters of the given string?\n",
        "\n",
        "    Original Strings:\n",
        "    asdaewsqgtwwsa\n",
        "    Smallest window that contains all characters of the said string:\n",
        "    Daewsqgt"
      ]
    },
    {
      "cell_type": "code",
      "metadata": {
        "id": "51cRkwkph5-Z",
        "colab_type": "code",
        "colab": {
          "base_uri": "https://localhost:8080/",
          "height": 102
        },
        "outputId": "9d46ac48-01fa-4c86-e360-e6f2a78d68fa"
      },
      "source": [
        "from collections import defaultdict   \n",
        "\n",
        "def find_sub_string(str): \n",
        "    str_len = len(str) \n",
        "      \n",
        "    # Count all distinct characters. \n",
        "    dist_count_char = len(set([x for x in str])) \n",
        "  \n",
        "    ctr, start_pos, start_pos_index, min_len = 0, 0, -1, 9999999999\n",
        "    curr_count = defaultdict(lambda: 0) \n",
        "    for i in range(str_len): \n",
        "        curr_count[str[i]] += 1\n",
        " \n",
        "        if curr_count[str[i]] == 1: \n",
        "            ctr += 1\n",
        "  \n",
        "        if ctr == dist_count_char: \n",
        "            while curr_count[str[start_pos]] > 1: \n",
        "                if curr_count[str[start_pos]] > 1: \n",
        "                    curr_count[str[start_pos]] -= 1\n",
        "                start_pos += 1\n",
        "  \n",
        "            len_window = i - start_pos + 1\n",
        "            if min_len > len_window: \n",
        "                min_len = len_window \n",
        "                start_pos_index = start_pos \n",
        "    return str[start_pos_index: start_pos_index + min_len] \n",
        "      \n",
        "str1 = \"asdaewsqgtwwsa\"\n",
        "print(\"Original Strings:\\n\",str1)\n",
        "print(\"\\nSmallest window that contains all characters of the said string:\")\n",
        "print(find_sub_string(str1)) \n"
      ],
      "execution_count": 9,
      "outputs": [
        {
          "output_type": "stream",
          "text": [
            "Original Strings:\n",
            " asdaewsqgtwwsa\n",
            "\n",
            "Smallest window that contains all characters of the said string:\n",
            "daewsqgt\n"
          ],
          "name": "stdout"
        }
      ]
    },
    {
      "cell_type": "markdown",
      "metadata": {
        "id": "js5-v_Zeh5-f",
        "colab_type": "text"
      },
      "source": [
        "Q4. Write the Python program to count number of substrings from a\n",
        "given string of lowercase alphabets with exactly k distinct (given)\n",
        "characters?\n",
        "\n",
        "    Input a string (lowercase alphabets): wolf\n",
        "    Input k: 4\n",
        "    Number of substrings with exactly 4 distinct characters: 1"
      ]
    },
    {
      "cell_type": "code",
      "metadata": {
        "id": "rrZ0XVnph5-g",
        "colab_type": "code",
        "colab": {
          "base_uri": "https://localhost:8080/",
          "height": 68
        },
        "outputId": "46926bc6-6d5f-44d9-c869-a91c6d981d72"
      },
      "source": [
        "def count_k_dist(str1, k): \n",
        "\tstr_len = len(str1) \n",
        "\t\n",
        "\tresult = 0\n",
        "\n",
        "\tctr = [0] * 27\n",
        "\n",
        "\tfor i in range(0, str_len): \n",
        "\t\tdist_ctr = 0\n",
        "\n",
        "\t\tctr = [0] * 27\n",
        "\n",
        "\t\tfor j in range(i, str_len): \n",
        "\t\t\t\n",
        "\t\t\tif(ctr[ord(str1[j]) - 97] == 0): \n",
        "\t\t\t\tdist_ctr += 1\n",
        "\n",
        "\t\t\tctr[ord(str1[j]) - 97] += 1\n",
        "\n",
        "\t\t\tif(dist_ctr == k): \n",
        "\t\t\t\tresult += 1\n",
        "\t\t\tif(dist_ctr > k): \n",
        "\t\t\t\tbreak\n",
        "\n",
        "\treturn result \n",
        "\n",
        "str1 = input(\"Input a string (lowercase alphabets):\")\n",
        "k = int(input(\"Input k: \"))\n",
        "print(\"Number of substrings with exactly\", k, \"distinct characters : \", end = \"\") \n",
        "print(count_k_dist(str1, k))\n"
      ],
      "execution_count": 5,
      "outputs": [
        {
          "output_type": "stream",
          "text": [
            "Input a string (lowercase alphabets):wolf\n",
            "Input k: 4\n",
            "Number of substrings with exactly 4 distinct characters : 1\n"
          ],
          "name": "stdout"
        }
      ]
    },
    {
      "cell_type": "markdown",
      "metadata": {
        "id": "U8hWprQqh5-l",
        "colab_type": "text"
      },
      "source": [
        "Q5. Write the Python program to count number of non-empty\n",
        "substrings of the given string?\n",
        "\n",
        "    Input a string: w3resource\n",
        "    Number of substrings:\n",
        "    55"
      ]
    },
    {
      "cell_type": "code",
      "metadata": {
        "id": "SrMZXhdxh5-n",
        "colab_type": "code",
        "colab": {
          "base_uri": "https://localhost:8080/",
          "height": 68
        },
        "outputId": "dc140077-77f9-4e4a-ee95-8c11ca29a354"
      },
      "source": [
        "def number_of_substrings(str): \n",
        "\tstr_len = len(str); \n",
        "\treturn int(str_len * (str_len + 1) / 2); \n",
        "\n",
        "str1 = input(\"Input a string: \")\n",
        "print(\"Number of substrings:\") \n",
        "print(number_of_substrings(str1))\n"
      ],
      "execution_count": 10,
      "outputs": [
        {
          "output_type": "stream",
          "text": [
            "Input a string: w3resource\n",
            "Number of substrings:\n",
            "55\n"
          ],
          "name": "stdout"
        }
      ]
    },
    {
      "cell_type": "markdown",
      "metadata": {
        "id": "0F6R0I3ph5-t",
        "colab_type": "text"
      },
      "source": [
        "Q6. Write the Python program to count the number of strings where the\n",
        "string length is 2 or more, and first and last character are same\n",
        "from a given list of strings.\n",
        "\n",
        "    Sample List : ['abc', 'xyz', 'wxw', '1331']\n",
        "    Expected Result: 2"
      ]
    },
    {
      "cell_type": "code",
      "metadata": {
        "id": "I691Oenxh5-u",
        "colab_type": "code",
        "colab": {
          "base_uri": "https://localhost:8080/",
          "height": 34
        },
        "outputId": "47c6054c-20f7-469e-bf8f-72b0b90da37e"
      },
      "source": [
        "def match_words(words):\n",
        "  ctr = 0\n",
        "\n",
        "  for word in words:\n",
        "    if len(word) > 1 and word[0] == word[-1]:\n",
        "      ctr += 1\n",
        "  return ctr\n",
        "\n",
        "print(match_words(['abc', 'xyz', 'aba', '1331']))\n"
      ],
      "execution_count": 12,
      "outputs": [
        {
          "output_type": "stream",
          "text": [
            "2\n"
          ],
          "name": "stdout"
        }
      ]
    },
    {
      "cell_type": "markdown",
      "metadata": {
        "id": "3sLqGZMBh5-y",
        "colab_type": "text"
      },
      "source": [
        "Q7. Write the Python program to get a list, sorted in increasing order by\n",
        "the last element in each tuple from the given list of non-empty\n",
        "tuples?\n",
        "\n",
        "    Sample List - [ (2, 5), (1, 2), (4, 4), (2, 3), (2, 1) ]\n",
        "    Expected Result - [ (2, 1), (1, 2), (2, 3), (4, 4), (2, 5) ]"
      ]
    },
    {
      "cell_type": "code",
      "metadata": {
        "id": "9lR_r1awh5-0",
        "colab_type": "code",
        "colab": {
          "base_uri": "https://localhost:8080/",
          "height": 34
        },
        "outputId": "32c7fe3c-3f64-4e69-d94c-f06f664dd09e"
      },
      "source": [
        "def last(n): return n[-1]\n",
        "\n",
        "def sort_list_last(tuples):\n",
        "  return sorted(tuples, key=last)\n",
        "\n",
        "print(sort_list_last([(2, 5), (1, 2), (4, 4), (2, 3), (2, 1)]))\n"
      ],
      "execution_count": 13,
      "outputs": [
        {
          "output_type": "stream",
          "text": [
            "[(2, 1), (1, 2), (2, 3), (4, 4), (2, 5)]\n"
          ],
          "name": "stdout"
        }
      ]
    },
    {
      "cell_type": "markdown",
      "metadata": {
        "id": "rq-GnW7eh5-6",
        "colab_type": "text"
      },
      "source": [
        "Q8. Write the Python program to remove duplicates from a list?"
      ]
    },
    {
      "cell_type": "code",
      "metadata": {
        "id": "UTWx3H12h5-7",
        "colab_type": "code",
        "colab": {
          "base_uri": "https://localhost:8080/",
          "height": 34
        },
        "outputId": "a9439c0f-dcb9-436d-d7e7-6d01bd632818"
      },
      "source": [
        "a = [10,20,30,20,10,50,60,40,80,50,40]\n",
        "\n",
        "dup_items = set()\n",
        "uniq_items = []\n",
        "for x in a:\n",
        "    if x not in dup_items:\n",
        "        uniq_items.append(x)\n",
        "        dup_items.add(x)\n",
        "\n",
        "print(dup_items)\n"
      ],
      "execution_count": 14,
      "outputs": [
        {
          "output_type": "stream",
          "text": [
            "{40, 10, 80, 50, 20, 60, 30}\n"
          ],
          "name": "stdout"
        }
      ]
    },
    {
      "cell_type": "markdown",
      "metadata": {
        "id": "XYTB9lXqh5-_",
        "colab_type": "text"
      },
      "source": [
        "Q9. Write the Python program to find the list of words that are longer\n",
        "than n from a given list of words?"
      ]
    },
    {
      "cell_type": "code",
      "metadata": {
        "id": "aJK1nF-Fh5_A",
        "colab_type": "code",
        "colab": {
          "base_uri": "https://localhost:8080/",
          "height": 34
        },
        "outputId": "14611a05-baef-466c-85c9-d2f0160ca507"
      },
      "source": [
        "def long_words(n, str):\n",
        "    word_len = []\n",
        "    txt = str.split(\" \")\n",
        "    for x in txt:\n",
        "        if len(x) > n:\n",
        "            word_len.append(x)\n",
        "    return word_len\t\n",
        "print(long_words(3, \"The quick brown fox jumps over the lazy dog\"))\n"
      ],
      "execution_count": 15,
      "outputs": [
        {
          "output_type": "stream",
          "text": [
            "['quick', 'brown', 'jumps', 'over', 'lazy']\n"
          ],
          "name": "stdout"
        }
      ]
    },
    {
      "cell_type": "markdown",
      "metadata": {
        "id": "ghIvlZ4hh5_F",
        "colab_type": "text"
      },
      "source": [
        "Q10. Write the Python program to print a specified list after removing the\n",
        "0th, 4th, and 5th elements?\n",
        "    \n",
        "    Sample List - ['Red', 'Green', 'White', 'Black', 'Pink', 'Yellow']\n",
        "    Expected Output - ['Green', 'White', 'Black']"
      ]
    },
    {
      "cell_type": "code",
      "metadata": {
        "id": "WpSjcXybh5_G",
        "colab_type": "code",
        "colab": {
          "base_uri": "https://localhost:8080/",
          "height": 34
        },
        "outputId": "be7796b0-613d-4cdb-d88a-ea9d602ebd12"
      },
      "source": [
        "color = ['Red', 'Green', 'White', 'Black', 'Pink', 'Yellow']\n",
        "color = [x for (i,x) in enumerate(color) if i not in (0,4,5)]\n",
        "print(color)\n"
      ],
      "execution_count": 16,
      "outputs": [
        {
          "output_type": "stream",
          "text": [
            "['Green', 'White', 'Black']\n"
          ],
          "name": "stdout"
        }
      ]
    },
    {
      "cell_type": "markdown",
      "metadata": {
        "id": "behzHMwMh5_L",
        "colab_type": "text"
      },
      "source": [
        "Q11. Write the Python program to generate all permutations of a list in\n",
        "Python?"
      ]
    },
    {
      "cell_type": "code",
      "metadata": {
        "id": "zBJBUerEh5_M",
        "colab_type": "code",
        "colab": {
          "base_uri": "https://localhost:8080/",
          "height": 34
        },
        "outputId": "ecc7f6a4-7eb7-4490-d286-aca13343d088"
      },
      "source": [
        "import itertools\n",
        "print(list(itertools.permutations([1,2,3])))\n"
      ],
      "execution_count": 17,
      "outputs": [
        {
          "output_type": "stream",
          "text": [
            "[(1, 2, 3), (1, 3, 2), (2, 1, 3), (2, 3, 1), (3, 1, 2), (3, 2, 1)]\n"
          ],
          "name": "stdout"
        }
      ]
    },
    {
      "cell_type": "markdown",
      "metadata": {
        "id": "8i3pdbGlh5_R",
        "colab_type": "text"
      },
      "source": [
        "Q12. Write the Python program to convert a pair of values into a sorted\n",
        "unique array?\n",
        " \n",
        "    Original List- [ (1, 2), (3, 4), (1, 2), (5, 6), (7, 8), (1, 2), (3, 4), (3, 4), (7, 8), (9, 10) ]\n",
        "    Sorted Unique Data- [ 1, 2, 3, 4, 5, 6, 7, 8, 9, 10 ] \n"
      ]
    },
    {
      "cell_type": "code",
      "metadata": {
        "id": "OrzVEmcIh5_S",
        "colab_type": "code",
        "colab": {
          "base_uri": "https://localhost:8080/",
          "height": 51
        },
        "outputId": "9145c55b-ae6b-434a-946c-518f0268a69e"
      },
      "source": [
        "L = [(1, 2), (3, 4), (1, 2), (5, 6), (7, 8), (1, 2), (3, 4), (3, 4),\n",
        " (7, 8), (9, 10)]\n",
        "print(\"Original List: \", L)\n",
        "print(\"Sorted Unique Data:\",sorted(set().union(*L)))\n",
        "\n"
      ],
      "execution_count": 18,
      "outputs": [
        {
          "output_type": "stream",
          "text": [
            "Original List:  [(1, 2), (3, 4), (1, 2), (5, 6), (7, 8), (1, 2), (3, 4), (3, 4), (7, 8), (9, 10)]\n",
            "Sorted Unique Data: [1, 2, 3, 4, 5, 6, 7, 8, 9, 10]\n"
          ],
          "name": "stdout"
        }
      ]
    },
    {
      "cell_type": "markdown",
      "metadata": {
        "id": "dUJnQHjth5_X",
        "colab_type": "text"
      },
      "source": [
        "## Great job!"
      ]
    }
  ]
}
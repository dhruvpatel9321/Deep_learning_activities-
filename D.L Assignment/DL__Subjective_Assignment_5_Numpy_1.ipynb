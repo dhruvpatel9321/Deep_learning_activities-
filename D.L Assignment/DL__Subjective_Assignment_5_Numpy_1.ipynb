{
  "nbformat": 4,
  "nbformat_minor": 0,
  "metadata": {
    "kernelspec": {
      "display_name": "Python 3",
      "language": "python",
      "name": "python3"
    },
    "language_info": {
      "codemirror_mode": {
        "name": "ipython",
        "version": 3
      },
      "file_extension": ".py",
      "mimetype": "text/x-python",
      "name": "python",
      "nbconvert_exporter": "python",
      "pygments_lexer": "ipython3",
      "version": "3.7.4"
    },
    "colab": {
      "name": "DL__Subjective Assignment - 5 - Numpy 1.ipynb",
      "provenance": [],
      "collapsed_sections": []
    }
  },
  "cells": [
    {
      "cell_type": "markdown",
      "metadata": {
        "id": "PXqlrEwulVWl",
        "colab_type": "text"
      },
      "source": [
        "# Assignment"
      ]
    },
    {
      "cell_type": "markdown",
      "metadata": {
        "id": "GDti6hJqlVWm",
        "colab_type": "text"
      },
      "source": [
        "Q1. Write the NumPy program to create a 2d array with 6 on the border\n",
        "and 0 inside?\n",
        "\n",
        "    Expected OutputOriginal array-\n",
        "    [ [6 6 6 6 6]\n",
        "     [ 6 6 6 6 6]\n",
        "     [ 6 6 6 6 6 ]\n",
        "    [ 6 6 6 6 6 ]\n",
        "    [ 6 6 6 6 ] ].\n",
        "    6 on the border and 0 inside in the array-\n",
        "    [[ 6 6 6 6 6]\n",
        "    [ 6 0 0 0 6]\n",
        "    [ 6 0 0 0 6]\n",
        "    [ 6 0 0 0 6]\n",
        "    [ 6 6 6 6 6]]."
      ]
    },
    {
      "cell_type": "code",
      "metadata": {
        "id": "FUHHdA8QlVWn",
        "colab_type": "code",
        "outputId": "6e271192-ec15-4259-c969-8b7f06b4262c",
        "colab": {
          "base_uri": "https://localhost:8080/",
          "height": 221
        }
      },
      "source": [
        "import numpy as np\n",
        "x = np.ones((5,5))*6\n",
        "print(\"Original array:\")\n",
        "print(x)\n",
        "print(\"1 on the border and 0 inside in the array\")\n",
        "x[1:-1,1:-1] = 0\n",
        "print(x)\n"
      ],
      "execution_count": 0,
      "outputs": [
        {
          "output_type": "stream",
          "text": [
            "Original array:\n",
            "[[6. 6. 6. 6. 6.]\n",
            " [6. 6. 6. 6. 6.]\n",
            " [6. 6. 6. 6. 6.]\n",
            " [6. 6. 6. 6. 6.]\n",
            " [6. 6. 6. 6. 6.]]\n",
            "1 on the border and 0 inside in the array\n",
            "[[6. 6. 6. 6. 6.]\n",
            " [6. 0. 0. 0. 6.]\n",
            " [6. 0. 0. 0. 6.]\n",
            " [6. 0. 0. 0. 6.]\n",
            " [6. 6. 6. 6. 6.]]\n"
          ],
          "name": "stdout"
        }
      ]
    },
    {
      "cell_type": "markdown",
      "metadata": {
        "id": "5E0HK65ZlVWs",
        "colab_type": "text"
      },
      "source": [
        "Q2. Write the NumPy program to create a 8x8 matrix and fill it with the\n",
        "checkerboard pattern?\n",
        "    \n",
        "    Checkerboard pattern-\n",
        "    [[3 9 3 9 3 9 3 9]\n",
        "    [9 3 9 3 9 3 9 3]\n",
        "    [3 9 3 9 3 9 3 9]\n",
        "    [9 3 9 3 9 3 9 3]\n",
        "    [3 9 3 9 3 9 3 9]\n",
        "    [9 3 9 3 9 3 9 3]\n",
        "    [3 9 3 9 3 9 3 9]\n",
        "    [9 3 9 3 9 3 9 3]]."
      ]
    },
    {
      "cell_type": "code",
      "metadata": {
        "id": "FgcRIUGelVWs",
        "colab_type": "code",
        "colab": {
          "base_uri": "https://localhost:8080/",
          "height": 170
        },
        "outputId": "d45ae3bb-0994-4db3-ff96-34c735a0b589"
      },
      "source": [
        "import numpy as np\n",
        "x = np.ones((3,3))\n",
        "print(\"Checkerboard pattern:\")\n",
        "x = np.zeros((8,8),dtype=int)\n",
        "x[1::2,1::2] = 3\n",
        "x[1::2,0::2] = 9\n",
        "x[::2,1::2] = 9\n",
        "x[::2,0::2] = 3\n",
        "print(x)\n"
      ],
      "execution_count": 6,
      "outputs": [
        {
          "output_type": "stream",
          "text": [
            "Checkerboard pattern:\n",
            "[[3 9 3 9 3 9 3 9]\n",
            " [9 3 9 3 9 3 9 3]\n",
            " [3 9 3 9 3 9 3 9]\n",
            " [9 3 9 3 9 3 9 3]\n",
            " [3 9 3 9 3 9 3 9]\n",
            " [9 3 9 3 9 3 9 3]\n",
            " [3 9 3 9 3 9 3 9]\n",
            " [9 3 9 3 9 3 9 3]]\n"
          ],
          "name": "stdout"
        }
      ]
    },
    {
      "cell_type": "markdown",
      "metadata": {
        "id": "AyJ6R-X8lVWw",
        "colab_type": "text"
      },
      "source": [
        "Q3. Write the NumPy program to create an empty and a full array.\n",
        " \n",
        "     Expected Output-\n",
        "    [[4.45057637e-308 1.78021527e-306 8.45549797e-307 1.37962049e-306]\n",
        "    [1.11260619e-306 1.78010255e-306 9.79054228e-307 4.45057637e-308]\n",
        "    [8.45596650e-307 9.34602321e-307 4.94065646e-322 0.00000000e+000]]\n",
        "    [[6 6 6]\n",
        "    [6 6 6]\n",
        "    [6 6 6]]\n"
      ]
    },
    {
      "cell_type": "code",
      "metadata": {
        "id": "RoLJS_H3lVWw",
        "colab_type": "code",
        "colab": {
          "base_uri": "https://localhost:8080/",
          "height": 119
        },
        "outputId": "5f1057f5-ad27-476b-e399-f5e706514993"
      },
      "source": [
        "import numpy as np\n",
        "# Create an empty array\n",
        "x = np.empty((3,4))\n",
        "print(x)\n",
        "# Create a full array\n",
        "y = np.full((3,3),6)\n",
        "print(y)\n",
        "\n"
      ],
      "execution_count": 11,
      "outputs": [
        {
          "output_type": "stream",
          "text": [
            "[[3.14081405e-316 0.00000000e+000 0.00000000e+000 0.00000000e+000]\n",
            " [0.00000000e+000 6.36598737e-314 0.00000000e+000 0.00000000e+000]\n",
            " [0.00000000e+000 0.00000000e+000 2.33419537e-313 1.72053718e+243]]\n",
            "[[6 6 6]\n",
            " [6 6 6]\n",
            " [6 6 6]]\n"
          ],
          "name": "stdout"
        }
      ]
    },
    {
      "cell_type": "markdown",
      "metadata": {
        "id": "nzdkR-3KlVW0",
        "colab_type": "text"
      },
      "source": [
        "Q4. Write the NumPy program to convert the values of Centigrade\n",
        "degrees into the Fahrenheit degrees and the centigrade values are\n",
        "stored in the NumPy array.\n",
        "    \n",
        "    Sample Array -[0, 12, 45.21 ,34, 99.91]\n",
        "    Expected OutputValues in Fahrenheit degrees-\n",
        "    [ 0. 12. 45.21 34. 99.91]\n",
        "    Values in Centigrade degrees-\n",
        "    [-17.77777778 -11.11111111 7.33888889 1.11111111 37.72777778]"
      ]
    },
    {
      "cell_type": "code",
      "metadata": {
        "id": "vF2t4v6ylVW3",
        "colab_type": "code",
        "colab": {
          "base_uri": "https://localhost:8080/",
          "height": 85
        },
        "outputId": "2c262714-0a46-428c-a955-35c485e12a2b"
      },
      "source": [
        "import numpy as np\n",
        "fvalues = [0, 12, 45.21, 34, 99.91]\n",
        "F = np.array(fvalues)\n",
        "print(\"Values in Fahrenheit degrees:\")\n",
        "print(F)\n",
        "print(\"Values in  Centigrade degrees:\") \n",
        "print(5*F/9 - 5*32/9)\n"
      ],
      "execution_count": 12,
      "outputs": [
        {
          "output_type": "stream",
          "text": [
            "Values in Fahrenheit degrees:\n",
            "[ 0.   12.   45.21 34.   99.91]\n",
            "Values in  Centigrade degrees:\n",
            "[-17.77777778 -11.11111111   7.33888889   1.11111111  37.72777778]\n"
          ],
          "name": "stdout"
        }
      ]
    },
    {
      "cell_type": "markdown",
      "metadata": {
        "id": "0Qv6KCqnlVW7",
        "colab_type": "text"
      },
      "source": [
        "Q5. Write the NumPy program to find the real and imaginary parts of an\n",
        "array of complex numbers?\n",
        "\n",
        "    Expected OutputOriginal array [ 1.00000000+0.j 0.70710678+0.70710678j]\n",
        "    Real part of the array-\n",
        "    [ 1. 0.70710678]\n",
        "    Imaginary part of the array-\n",
        "    [ 0. 0.70710678]"
      ]
    },
    {
      "cell_type": "code",
      "metadata": {
        "id": "5AV68yo8lVW7",
        "colab_type": "code",
        "colab": {
          "base_uri": "https://localhost:8080/",
          "height": 153
        },
        "outputId": "40f2e531-007c-4cd5-a7a6-7fd01cf2074b"
      },
      "source": [
        "import numpy as np\n",
        "x = np.sqrt([1+0j])\n",
        "y = np.sqrt([0+1j])\n",
        "print(\"Original array:x \",x)\n",
        "print(\"Original array:y \",y)\n",
        "print(\"Real part of the array:\")\n",
        "print(x.real)\n",
        "print(y.real)\n",
        "print(\"Imaginary part of the array:\")\n",
        "print(x.imag)\n",
        "print(y.imag)\n"
      ],
      "execution_count": 13,
      "outputs": [
        {
          "output_type": "stream",
          "text": [
            "Original array:x  [1.+0.j]\n",
            "Original array:y  [0.70710678+0.70710678j]\n",
            "Real part of the array:\n",
            "[1.]\n",
            "[0.70710678]\n",
            "Imaginary part of the array:\n",
            "[0.]\n",
            "[0.70710678]\n"
          ],
          "name": "stdout"
        }
      ]
    },
    {
      "cell_type": "markdown",
      "metadata": {
        "id": "Msh7TCA5lVW_",
        "colab_type": "text"
      },
      "source": [
        "Q6. Write the NumPy program to test whether each element of a 1-D\n",
        "array is also present in the second array?\n",
        "\n",
        "    Expected OutputArray1: [ 0 10 20 40 60]\n",
        "    Array2: [0, 40]\n",
        "    Compare each element of array1 and array2\n",
        "    [ True False False True False]\n"
      ]
    },
    {
      "cell_type": "code",
      "metadata": {
        "id": "KIT-_vyflVW_",
        "colab_type": "code",
        "colab": {
          "base_uri": "https://localhost:8080/",
          "height": 85
        },
        "outputId": "3addc2ab-32fe-40b5-8bc1-d4e2f8191012"
      },
      "source": [
        "import numpy as np\n",
        "array1 = np.array([0, 10, 20, 40, 60])\n",
        "print(\"Array1: \",array1)\n",
        "array2 = [0, 40]\n",
        "print(\"Array2: \",array2)\n",
        "print(\"Compare each element of array1 and array2\")\n",
        "print(np.in1d(array1, array2))\n"
      ],
      "execution_count": 14,
      "outputs": [
        {
          "output_type": "stream",
          "text": [
            "Array1:  [ 0 10 20 40 60]\n",
            "Array2:  [0, 40]\n",
            "Compare each element of array1 and array2\n",
            "[ True False False  True False]\n"
          ],
          "name": "stdout"
        }
      ]
    },
    {
      "cell_type": "markdown",
      "metadata": {
        "id": "h0Keze5plVXC",
        "colab_type": "text"
      },
      "source": [
        "Q7. Write the NumPy program to find common values between two\n",
        "arrays?\n",
        "    \n",
        "    Expected OutputArray1: [ 0 10 20 40 60]\n",
        "    Array2: [10, 30, 40]\n",
        "    Common values between two arrays-\n",
        "    [10 40]"
      ]
    },
    {
      "cell_type": "code",
      "metadata": {
        "id": "B2IihxUtlVXD",
        "colab_type": "code",
        "colab": {
          "base_uri": "https://localhost:8080/",
          "height": 85
        },
        "outputId": "bc3b5003-8271-4733-f47b-a029d01b5840"
      },
      "source": [
        "import numpy as np\n",
        "array1 = np.array([0, 10, 20, 40, 60])\n",
        "print(\"Array1: \",array1)\n",
        "array2 = [10, 30, 40]\n",
        "print(\"Array2: \",array2)\n",
        "print(\"Common values between two arrays:\")\n",
        "print(np.intersect1d(array1, array2))\n"
      ],
      "execution_count": 15,
      "outputs": [
        {
          "output_type": "stream",
          "text": [
            "Array1:  [ 0 10 20 40 60]\n",
            "Array2:  [10, 30, 40]\n",
            "Common values between two arrays:\n",
            "[10 40]\n"
          ],
          "name": "stdout"
        }
      ]
    },
    {
      "cell_type": "markdown",
      "metadata": {
        "id": "EEt6B031lVXG",
        "colab_type": "text"
      },
      "source": [
        "Q8. Write the NumPy program to get the unique elements of an array?\n",
        "\n",
        "    Expected OutputOriginal array-\n",
        "    [10 10 20 20 30 30]\n",
        "    Unique elements of the above array-\n",
        "    [10 20 30]\n",
        "    P a g e 14 | 44\n",
        "    Original array-\n",
        "    [[1 1]\n",
        "    [2 3]]\n",
        "    Unique elements of the above array-\n",
        "    [1 2 3]"
      ]
    },
    {
      "cell_type": "code",
      "metadata": {
        "id": "CzByES_IlVXH",
        "colab_type": "code",
        "colab": {
          "base_uri": "https://localhost:8080/",
          "height": 170
        },
        "outputId": "93b1781e-b13e-4ab8-bfb7-bfe4688e37c7"
      },
      "source": [
        "import numpy as np\n",
        "x = np.array([10, 10, 20, 20, 30, 30])\n",
        "print(\"Original array:\")\n",
        "print(x)\n",
        "print(\"Unique elements of the above array:\")\n",
        "print(np.unique(x))\n",
        "x = np.array([[1, 1], [2, 3]])\n",
        "print(\"Original array:\")\n",
        "print(x)\n",
        "print(\"Unique elements of the above array:\")\n",
        "print(np.unique(x))\n"
      ],
      "execution_count": 16,
      "outputs": [
        {
          "output_type": "stream",
          "text": [
            "Original array:\n",
            "[10 10 20 20 30 30]\n",
            "Unique elements of the above array:\n",
            "[10 20 30]\n",
            "Original array:\n",
            "[[1 1]\n",
            " [2 3]]\n",
            "Unique elements of the above array:\n",
            "[1 2 3]\n"
          ],
          "name": "stdout"
        }
      ]
    },
    {
      "cell_type": "markdown",
      "metadata": {
        "id": "8K8jk97plVXK",
        "colab_type": "text"
      },
      "source": [
        "**Q9**. Write the NumPy program to find the set exclusive-or of two arrays.\n",
        "Set exclusive-or will return the sorted, unique values that are in\n",
        "only one (not both) of the input arrays?\n",
        "\n",
        "    Array1- [ 0 10 20 40 60 80]\n",
        "    Array2- [10, 30, 40, 50, 70]\n",
        "    Unique values that are in only one (not both) of the input arrays-\n",
        "    [ 0 20 30 50 60 70 80]"
      ]
    },
    {
      "cell_type": "code",
      "metadata": {
        "id": "2iwE2oWIlVXL",
        "colab_type": "code",
        "colab": {
          "base_uri": "https://localhost:8080/",
          "height": 85
        },
        "outputId": "08a6d30d-2b55-472c-d525-961cd621f93c"
      },
      "source": [
        "import numpy as np\n",
        "array1 = np.array([0, 10, 20, 40, 60, 80])\n",
        "print(\"Array1: \",array1)\n",
        "array2 = [10, 30, 40, 50, 70]\n",
        "print(\"Array2: \",array2)\n",
        "print(\"Unique values that are in only one (not both) of the input arrays:\")\n",
        "print(np.setxor1d(array1, array2))\n"
      ],
      "execution_count": 17,
      "outputs": [
        {
          "output_type": "stream",
          "text": [
            "Array1:  [ 0 10 20 40 60 80]\n",
            "Array2:  [10, 30, 40, 50, 70]\n",
            "Unique values that are in only one (not both) of the input arrays:\n",
            "[ 0 20 30 50 60 70 80]\n"
          ],
          "name": "stdout"
        }
      ]
    },
    {
      "cell_type": "markdown",
      "metadata": {
        "id": "hjb8oThklVXP",
        "colab_type": "text"
      },
      "source": [
        "Q10. Write the NumPy program to test if all elements in an array\n",
        "evaluate to True ?\n",
        " \n",
        "Note: 0 evaluates to False in NumPy"
      ]
    },
    {
      "cell_type": "code",
      "metadata": {
        "id": "f-xZd4vIlVXR",
        "colab_type": "code",
        "colab": {
          "base_uri": "https://localhost:8080/",
          "height": 85
        },
        "outputId": "67b0769a-a0e0-4504-c6bb-8c029b55200a"
      },
      "source": [
        "import numpy as np\n",
        "print(np.all([[True,False],[True,True]]))\n",
        "print(np.all([[True,True],[True,True]]))\n",
        "print(np.all([10, 20, 0, -50]))\n",
        "print(np.all([10, 20, -50]))\n"
      ],
      "execution_count": 18,
      "outputs": [
        {
          "output_type": "stream",
          "text": [
            "False\n",
            "True\n",
            "False\n",
            "True\n"
          ],
          "name": "stdout"
        }
      ]
    },
    {
      "cell_type": "markdown",
      "metadata": {
        "id": "O0CvGFHRlVXX",
        "colab_type": "text"
      },
      "source": [
        "Q11. Write the NumPy program to test whether any array element along\n",
        "the given axis evaluates to True?\n",
        " \n",
        "Note: 0 evaluates to False in NumPy"
      ]
    },
    {
      "cell_type": "code",
      "metadata": {
        "id": "FG0pxR2VlVXY",
        "colab_type": "code",
        "colab": {
          "base_uri": "https://localhost:8080/",
          "height": 85
        },
        "outputId": "24828de5-75b7-4886-a820-cc3363785c6b"
      },
      "source": [
        "import numpy as np\n",
        "print(np.any([[False,False],[False,False]]))\n",
        "print(np.any([[True,True],[True,True]]))\n",
        "print(np.any([10, 20, 0, -50]))\n",
        "print(np.any([10, 20, -50]))\n"
      ],
      "execution_count": 19,
      "outputs": [
        {
          "output_type": "stream",
          "text": [
            "False\n",
            "True\n",
            "True\n",
            "True\n"
          ],
          "name": "stdout"
        }
      ]
    },
    {
      "cell_type": "markdown",
      "metadata": {
        "id": "aC1c_Wm3lVXb",
        "colab_type": "text"
      },
      "source": [
        "Q12. Write the NumPy program to construct an array by repeating?\n",
        "\n",
        "    Sample array- [1, 2, 3, 4]\n",
        "    Expected OutputOriginal array\n",
        "    [1, 2, 3, 4]\n",
        "    Repeating 2 times\n",
        "    [1 2 3 4 1 2 3 4]\n",
        "    Repeating 3 times\n",
        "    [1 2 3 4 1 2 3 4 1 2 3 4]"
      ]
    },
    {
      "cell_type": "code",
      "metadata": {
        "id": "x1J33_m0lVXb",
        "colab_type": "code",
        "colab": {
          "base_uri": "https://localhost:8080/",
          "height": 119
        },
        "outputId": "93c517bd-667c-4f96-b3b0-8a1443c561cd"
      },
      "source": [
        "import numpy as np\n",
        "a = [1, 2, 3, 4]\n",
        "print(\"Original array\")\n",
        "print(a)\n",
        "print(\"Repeating 2 times\")\n",
        "x = np.tile(a, 2)\n",
        "print(x)\n",
        "print(\"Repeating 3 times\")\n",
        "x = np.tile(a, 3)\n",
        "print(x)\n"
      ],
      "execution_count": 20,
      "outputs": [
        {
          "output_type": "stream",
          "text": [
            "Original array\n",
            "[1, 2, 3, 4]\n",
            "Repeating 2 times\n",
            "[1 2 3 4 1 2 3 4]\n",
            "Repeating 3 times\n",
            "[1 2 3 4 1 2 3 4 1 2 3 4]\n"
          ],
          "name": "stdout"
        }
      ]
    },
    {
      "cell_type": "markdown",
      "metadata": {
        "id": "lYed1LyzlVXe",
        "colab_type": "text"
      },
      "source": [
        "Q13. Write the NumPy program to find the indices of the maximum and\n",
        "minimum values with the given axis of an array?\n",
        "\n",
        "    Original array- [1 2 3 4 5 6]\n",
        "    Maximum Values- 5\n",
        "    Minimum Values- 0"
      ]
    },
    {
      "cell_type": "code",
      "metadata": {
        "id": "k3K6CW61lVXf",
        "colab_type": "code",
        "colab": {
          "base_uri": "https://localhost:8080/",
          "height": 68
        },
        "outputId": "a7a330a8-ab64-4947-88b5-dc5fb0a97ff9"
      },
      "source": [
        "import numpy as np\n",
        "x = np.array([1, 2, 3, 4, 5, 6])\n",
        "print(\"Original array: \",x)\n",
        "print(\"Maximum Values: \",np.argmax(x))\n",
        "print(\"Minimum Values: \",np.argmin(x))\n"
      ],
      "execution_count": 21,
      "outputs": [
        {
          "output_type": "stream",
          "text": [
            "Original array:  [1 2 3 4 5 6]\n",
            "Maximum Values:  5\n",
            "Minimum Values:  0\n"
          ],
          "name": "stdout"
        }
      ]
    },
    {
      "cell_type": "markdown",
      "metadata": {
        "id": "605PgfK5lVXi",
        "colab_type": "text"
      },
      "source": [
        "Q14. Write the NumPy program compare two arrays using numpy?\n",
        "\n",
        "    Array a- [1 2]\n",
        "    Array b- [4 5]\n",
        "    a > b\n",
        "    [False False]\n",
        "    a >= b\n",
        "    [False False]\n",
        "    a < b\n",
        "    [ True True]\n",
        "    a <= b\n",
        "    [ True True]\n"
      ]
    },
    {
      "cell_type": "code",
      "metadata": {
        "id": "_6SKnISNlVXj",
        "colab_type": "code",
        "colab": {
          "base_uri": "https://localhost:8080/",
          "height": 187
        },
        "outputId": "556b7099-ccf9-490d-fb50-dc858aea554e"
      },
      "source": [
        "import numpy as np\n",
        "a = np.array([1, 2])\n",
        "b = np.array([4, 5])\n",
        "print(\"Array a: \",a)\n",
        "print(\"Array b: \",b)\n",
        "print(\"a > b\")\n",
        "print(np.greater(a, b))\n",
        "print(\"a >= b\")\n",
        "print(np.greater_equal(a, b))\n",
        "print(\"a < b\")\n",
        "print(np.less(a, b))\n",
        "print(\"a <= b\")\n",
        "print(np.less_equal(a, b))\n"
      ],
      "execution_count": 22,
      "outputs": [
        {
          "output_type": "stream",
          "text": [
            "Array a:  [1 2]\n",
            "Array b:  [4 5]\n",
            "a > b\n",
            "[False False]\n",
            "a >= b\n",
            "[False False]\n",
            "a < b\n",
            "[ True  True]\n",
            "a <= b\n",
            "[ True  True]\n"
          ],
          "name": "stdout"
        }
      ]
    },
    {
      "cell_type": "markdown",
      "metadata": {
        "id": "elyE0aoWlVXp",
        "colab_type": "text"
      },
      "source": [
        "Q15. Write the NumPy program to sort an along the first, last axis of an\n",
        "array?\n",
        "\n",
        "    Sample array- [[2,5],[4,4]]\n",
        "    Expected OutputOriginal array:\n",
        "    [[4 6]\n",
        "    [2 1]]\n",
        "    Sort along the first axis:\n",
        "    [[2 1]\n",
        "    [4 6]]\n",
        "    Sort along the last axis-\n",
        "    [[1 2]\n",
        "    [4 6]]"
      ]
    },
    {
      "cell_type": "code",
      "metadata": {
        "id": "KHIUitjjlVXp",
        "colab_type": "code",
        "colab": {
          "base_uri": "https://localhost:8080/",
          "height": 170
        },
        "outputId": "67e48188-ce38-485a-a48c-b93541cd421e"
      },
      "source": [
        "import numpy as np\n",
        "a = np.array([[4, 6],[2, 1]])\n",
        "print(\"Original array: \")\n",
        "print(a)\n",
        "print(\"Sort along the first axis: \")\n",
        "x = np.sort(a, axis=0)\n",
        "print(x)\n",
        "print(\"Sort along the last axis: \")\n",
        "y = np.sort(x, axis=1)\n",
        "print(y)\n"
      ],
      "execution_count": 23,
      "outputs": [
        {
          "output_type": "stream",
          "text": [
            "Original array: \n",
            "[[4 6]\n",
            " [2 1]]\n",
            "Sort along the first axis: \n",
            "[[2 1]\n",
            " [4 6]]\n",
            "Sort along the last axis: \n",
            "[[1 2]\n",
            " [4 6]]\n"
          ],
          "name": "stdout"
        }
      ]
    },
    {
      "cell_type": "markdown",
      "metadata": {
        "id": "Jc8V_qKzlVXs",
        "colab_type": "text"
      },
      "source": [
        "Q16. Write the NumPy program to sort pairs of first name and last name\n",
        "return their indices (first by last name, then by first name).\n",
        "\n",
        "    first_names - ( Betsey, Shelley, Lanell, Genesis, Margery )\n",
        "    last_names - ( Battle, Brien, Plotner, Stahl, Woolum )\n",
        "    Expected Output-\n",
        "    [1 3 2 4 0]"
      ]
    },
    {
      "cell_type": "code",
      "metadata": {
        "id": "jSU0w1vylVXs",
        "colab_type": "code",
        "colab": {
          "base_uri": "https://localhost:8080/",
          "height": 34
        },
        "outputId": "688dd6ab-ab5a-4217-c997-4ba39f8d55a1"
      },
      "source": [
        "import numpy as np\n",
        "first_names =    ('Margery', 'Betsey', 'Shelley', 'Lanell', 'Genesis') # rechanging the order\n",
        "last_names = ('Woolum', 'Battle', 'Plotner', 'Brien', 'Stahl')\n",
        "x = np.lexsort((first_names, last_names))\n",
        "print(x)\n"
      ],
      "execution_count": 26,
      "outputs": [
        {
          "output_type": "stream",
          "text": [
            "[1 3 2 4 0]\n"
          ],
          "name": "stdout"
        }
      ]
    },
    {
      "cell_type": "markdown",
      "metadata": {
        "id": "Yd4jmF8-lVXv",
        "colab_type": "text"
      },
      "source": [
        "Q17. Write the NumPy program to get the values and indices of the\n",
        "elements that are bigger than 10 in the given array?\n",
        "\n",
        "    Original array-\n",
        "    [[ 0 10 20]\n",
        "    [20 30 40]]\n",
        "    Values bigger than 10 = [20 20 30 40]\n",
        "    Their indices are (array([0, 1, 1, 1]), array([2, 0, 1, 2]))"
      ]
    },
    {
      "cell_type": "code",
      "metadata": {
        "id": "9XuaVLd7lVXw",
        "colab_type": "code",
        "colab": {
          "base_uri": "https://localhost:8080/",
          "height": 102
        },
        "outputId": "0b095dd2-fe43-43fc-b4b5-3a665eb7d421"
      },
      "source": [
        "import numpy as np\n",
        "x = np.array([[0, 10, 20], [20, 30, 40]])\n",
        "print(\"Original array: \")\n",
        "print(x)\n",
        "print(\"Values bigger than 10 =\", x[x>10])\n",
        "print(\"Their indices are \", np.nonzero(x > 10))\n"
      ],
      "execution_count": 27,
      "outputs": [
        {
          "output_type": "stream",
          "text": [
            "Original array: \n",
            "[[ 0 10 20]\n",
            " [20 30 40]]\n",
            "Values bigger than 10 = [20 20 30 40]\n",
            "Their indices are  (array([0, 1, 1, 1]), array([2, 0, 1, 2]))\n"
          ],
          "name": "stdout"
        }
      ]
    },
    {
      "cell_type": "markdown",
      "metadata": {
        "id": "NgqASc2alVXy",
        "colab_type": "text"
      },
      "source": [
        "Q18. Write the NumPy program to find the memory size of a NumPy\n",
        "array?\n",
        "\n",
        "    Expected Output128 bytes\n"
      ]
    },
    {
      "cell_type": "code",
      "metadata": {
        "id": "iHxdnKJnlVXz",
        "colab_type": "code",
        "colab": {
          "base_uri": "https://localhost:8080/",
          "height": 34
        },
        "outputId": "17896ca1-87c2-4f0a-8c56-8351a5fded34"
      },
      "source": [
        "import numpy as np\n",
        "n = np.zeros((8,2))\n",
        "print(\"%d bytes\" % (n.size * n.itemsize))\n"
      ],
      "execution_count": 32,
      "outputs": [
        {
          "output_type": "stream",
          "text": [
            "128 bytes\n"
          ],
          "name": "stdout"
        }
      ]
    },
    {
      "cell_type": "markdown",
      "metadata": {
        "id": "bVWpxDiWlVX2",
        "colab_type": "text"
      },
      "source": [
        "## Great Job!"
      ]
    }
  ]
}
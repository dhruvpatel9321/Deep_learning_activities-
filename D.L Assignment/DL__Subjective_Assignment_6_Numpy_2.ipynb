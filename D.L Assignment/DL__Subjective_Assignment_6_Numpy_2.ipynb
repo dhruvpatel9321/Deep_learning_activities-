{
  "nbformat": 4,
  "nbformat_minor": 0,
  "metadata": {
    "kernelspec": {
      "display_name": "Python 3",
      "language": "python",
      "name": "python3"
    },
    "language_info": {
      "codemirror_mode": {
        "name": "ipython",
        "version": 3
      },
      "file_extension": ".py",
      "mimetype": "text/x-python",
      "name": "python",
      "nbconvert_exporter": "python",
      "pygments_lexer": "ipython3",
      "version": "3.7.4"
    },
    "colab": {
      "name": "DL__Subjective Assignment - 6 - Numpy 2.ipynb",
      "provenance": [],
      "collapsed_sections": []
    }
  },
  "cells": [
    {
      "cell_type": "markdown",
      "metadata": {
        "id": "7SzYZie1oq48",
        "colab_type": "text"
      },
      "source": [
        "# Assignment"
      ]
    },
    {
      "cell_type": "markdown",
      "metadata": {
        "id": "nFZpYrwVoq4-",
        "colab_type": "text"
      },
      "source": [
        "Q1. Write the NumPy program to create an array of ones and an array\n",
        "of zeros?\n",
        "\n",
        "    Expected OutputCreate an array of zeros\n",
        "    Default type is float\n",
        "    [[ 0. 0.]]\n",
        "    Type changes to int\n",
        "    [[0 0]]\n",
        "    Create an array of ones\n",
        "    Default type is float\n",
        "    [[ 1. 1.]]\n",
        "    Type changes to int\n",
        "    [[1 1]]"
      ]
    },
    {
      "cell_type": "code",
      "metadata": {
        "id": "KVDjdL-coq4_",
        "colab_type": "code",
        "colab": {
          "base_uri": "https://localhost:8080/",
          "height": 187
        },
        "outputId": "360807f6-c5e8-4ed0-829f-a8049940b2c2"
      },
      "source": [
        "import numpy as np\n",
        "print(\"Create an array of zeros\")\n",
        "x = np.zeros((1,2))\n",
        "print(\"Default type is float\")\n",
        "print(x)\n",
        "print(\"Type changes to int\")\n",
        "x = np.zeros((1,2), dtype = np.int)\n",
        "print(x)\n",
        "print(\"Create an array of ones\")\n",
        "y= np.ones((1,2)) \n",
        "print(\"Default type is float\")\n",
        "print(y)\n",
        "print(\"Type changes to int\")\n",
        "y = np.ones((1,2), dtype = np.int)\n",
        "print(y)\n"
      ],
      "execution_count": 1,
      "outputs": [
        {
          "output_type": "stream",
          "text": [
            "Create an array of zeros\n",
            "Default type is float\n",
            "[[0. 0.]]\n",
            "Type changes to int\n",
            "[[0 0]]\n",
            "Create an array of ones\n",
            "Default type is float\n",
            "[[1. 1.]]\n",
            "Type changes to int\n",
            "[[1 1]]\n"
          ],
          "name": "stdout"
        }
      ]
    },
    {
      "cell_type": "markdown",
      "metadata": {
        "id": "B5HqFipRoq5F",
        "colab_type": "text"
      },
      "source": [
        "Q2. Write the NumPy program to change the dimension of an array?\n",
        "\n",
        "    Expected Output6 rows and 0 columns\n",
        "    (6,)\n",
        "    (3, 3) -> 3 rows and 3 columns\n",
        "    [[1 2 3]\n",
        "    [4 5 6]\n",
        "    [7 8 9]]\n",
        "    Change array shape to (3, 3) -> 3 rows and 3 columns\n",
        "    [[1 2 3]\n",
        "    [4 5 6]\n",
        "    [7 8 9]]"
      ]
    },
    {
      "cell_type": "code",
      "metadata": {
        "id": "6oGrGhB3oq5G",
        "colab_type": "code",
        "colab": {
          "base_uri": "https://localhost:8080/",
          "height": 187
        },
        "outputId": "4fbefd3f-cc2e-4109-8a86-8735425f0fb9"
      },
      "source": [
        "import numpy as np\n",
        "x = np.array([1, 2, 3, 4, 5, 6])\n",
        "print(\"6 rows and 0 columns\")\n",
        "print(x.shape)\n",
        "\n",
        "y = np.array([[1, 2, 3],[4, 5, 6],[7,8,9]])\n",
        "print(\"(3, 3) -> 3 rows and 3 columns \")\n",
        "print(y)\n",
        "\n",
        "x = np.array([1,2,3,4,5,6,7,8,9])\n",
        "print(\"Change array shape to (3, 3) -> 3 rows and 3 columns \")\n",
        "x.shape = (3, 3)\n",
        "print(x)\n"
      ],
      "execution_count": 2,
      "outputs": [
        {
          "output_type": "stream",
          "text": [
            "6 rows and 0 columns\n",
            "(6,)\n",
            "(3, 3) -> 3 rows and 3 columns \n",
            "[[1 2 3]\n",
            " [4 5 6]\n",
            " [7 8 9]]\n",
            "Change array shape to (3, 3) -> 3 rows and 3 columns \n",
            "[[1 2 3]\n",
            " [4 5 6]\n",
            " [7 8 9]]\n"
          ],
          "name": "stdout"
        }
      ]
    },
    {
      "cell_type": "markdown",
      "metadata": {
        "id": "RAg6ds2uoq5L",
        "colab_type": "text"
      },
      "source": [
        "Q3. Write the NumPy program to create a new shape to an array\n",
        "without changing its data ?\n",
        "\n",
        "    Reshape 3x2-\n",
        "    [[1 2]\n",
        "    [3 4]\n",
        "    [5 6]]\n",
        "    Reshape 2x3-\n",
        "    [[1 2 3]\n",
        "    [4 5 6]]"
      ]
    },
    {
      "cell_type": "code",
      "metadata": {
        "id": "eHb8fL4Zoq5M",
        "colab_type": "code",
        "colab": {
          "base_uri": "https://localhost:8080/",
          "height": 136
        },
        "outputId": "dd29f090-9aea-4e71-a8cc-add8dfd84da4"
      },
      "source": [
        "import numpy as np\n",
        "x = np.array([1, 2, 3, 4, 5, 6])\n",
        "y = np.reshape(x,(3,2))\n",
        "print(\"Reshape 3x2:\")\n",
        "print(y)\n",
        "z = np.reshape(x,(2,3))\n",
        "print(\"Reshape 2x3:\")\n",
        "print(z)\n"
      ],
      "execution_count": 3,
      "outputs": [
        {
          "output_type": "stream",
          "text": [
            "Reshape 3x2:\n",
            "[[1 2]\n",
            " [3 4]\n",
            " [5 6]]\n",
            "Reshape 2x3:\n",
            "[[1 2 3]\n",
            " [4 5 6]]\n"
          ],
          "name": "stdout"
        }
      ]
    },
    {
      "cell_type": "markdown",
      "metadata": {
        "id": "Gq76ZtyCoq5P",
        "colab_type": "text"
      },
      "source": [
        "Q4. Write the NumPy program to create a new array of 3*5, filled with\n",
        "2?\n",
        "\n",
        "    Expected Output-\n",
        "    [[2 2 2 2 2]\n",
        "    [2 2 2 2 2]\n",
        "    [2 2 2 2 2]]\n",
        "    [[2 2 2 2 2]\n",
        "    [2 2 2 2 2]\n",
        "    [2 2 2 2 2]]"
      ]
    },
    {
      "cell_type": "code",
      "metadata": {
        "id": "Qnmuqfh2oq5P",
        "colab_type": "code",
        "colab": {
          "base_uri": "https://localhost:8080/",
          "height": 119
        },
        "outputId": "477918a9-4ab9-4b12-cc32-7f7dc5bf0dc7"
      },
      "source": [
        "import numpy as np\n",
        "#using no.full\n",
        "x = np.full((3, 5), 2, dtype=np.uint)\n",
        "print(x)\n",
        "#using no.ones\n",
        "y = np.ones([3, 5], dtype=np.uint) *2\n",
        "print(y)\n"
      ],
      "execution_count": 4,
      "outputs": [
        {
          "output_type": "stream",
          "text": [
            "[[2 2 2 2 2]\n",
            " [2 2 2 2 2]\n",
            " [2 2 2 2 2]]\n",
            "[[2 2 2 2 2]\n",
            " [2 2 2 2 2]\n",
            " [2 2 2 2 2]]\n"
          ],
          "name": "stdout"
        }
      ]
    },
    {
      "cell_type": "markdown",
      "metadata": {
        "id": "euBfNOBLoq5U",
        "colab_type": "text"
      },
      "source": [
        "Q5. Write the NumPy program to create a 3-D array with ones on a\n",
        "diagonal and zeros elsewhere?\n",
        "\n",
        "    Expected Output-\n",
        "    [[ 1. 0. 0.]\n",
        "    [ 0. 1. 0.]\n",
        "    [ 0. 0. 1.]]"
      ]
    },
    {
      "cell_type": "code",
      "metadata": {
        "id": "olbe9VKmoq5U",
        "colab_type": "code",
        "colab": {
          "base_uri": "https://localhost:8080/",
          "height": 68
        },
        "outputId": "ca8cb0b6-8345-4886-95b2-8b517feb123c"
      },
      "source": [
        "import numpy as np\n",
        "x = np.eye(3)\n",
        "print(x)\n"
      ],
      "execution_count": 5,
      "outputs": [
        {
          "output_type": "stream",
          "text": [
            "[[1. 0. 0.]\n",
            " [0. 1. 0.]\n",
            " [0. 0. 1.]]\n"
          ],
          "name": "stdout"
        }
      ]
    },
    {
      "cell_type": "markdown",
      "metadata": {
        "id": "qV6WSMM1oq5X",
        "colab_type": "text"
      },
      "source": [
        "Q6. Write the NumPy program to split an array of 14 elements into the\n",
        "3 arrays and each of which has 2, 4, and 8 elements in original\n",
        "order?\n",
        "\n",
        "    Expected OutputOriginal array- [ 1 2 3 4 5 6 7 8 9 10 11 12 13 14]\n",
        "    After splitting-\n",
        "    [array([1, 2]), array([3, 4, 5, 6]), array([ 7, 8, 9, 10, 11, 12, 13, 14])]"
      ]
    },
    {
      "cell_type": "code",
      "metadata": {
        "id": "zfSnPXMGoq5Y",
        "colab_type": "code",
        "colab": {
          "base_uri": "https://localhost:8080/",
          "height": 68
        },
        "outputId": "3b4ce1e9-057f-4272-d334-e0db6ec0cbc9"
      },
      "source": [
        "import numpy as np\n",
        "x = np.arange(1, 15)\n",
        "print(\"Original array:\",x)\n",
        "print(\"After splitting:\")\n",
        "print(np.split(x, [2, 6]))\n"
      ],
      "execution_count": 6,
      "outputs": [
        {
          "output_type": "stream",
          "text": [
            "Original array: [ 1  2  3  4  5  6  7  8  9 10 11 12 13 14]\n",
            "After splitting:\n",
            "[array([1, 2]), array([3, 4, 5, 6]), array([ 7,  8,  9, 10, 11, 12, 13, 14])]\n"
          ],
          "name": "stdout"
        }
      ]
    },
    {
      "cell_type": "markdown",
      "metadata": {
        "id": "m-kupspToq5b",
        "colab_type": "text"
      },
      "source": [
        "Q7. Write the NumPy program to split of an array of shape 4x4 it into\n",
        "two arrays along the second axis ?\n",
        "\n",
        "    Sample array -\n",
        "    [[ 0 1 2 3]\n",
        "    [ 4 5 6 7]\n",
        "    [ 8 9 10 11]\n",
        "    [12 13 14 15]]\n",
        "    Expected Output-\n",
        "    [array([[ 0, 1],\n",
        "    [ 4, 5],\n",
        "    [ 8, 9],\n",
        "    [12, 13]]), array([[ 2, 3],\n",
        "    [ 6, 7],\n",
        "    [10, 11],\n",
        "    [14, 15]]), array([], shape=(4, 0), dtype=int64)]"
      ]
    },
    {
      "cell_type": "code",
      "metadata": {
        "id": "xPlBbrRIoq5b",
        "colab_type": "code",
        "colab": {
          "base_uri": "https://localhost:8080/",
          "height": 221
        },
        "outputId": "c2b05700-6e38-4ebf-91ed-bc598e129831"
      },
      "source": [
        "import numpy as np\n",
        "x = np.arange(16).reshape((4, 4))\n",
        "print(\"Original array:\",x)\n",
        "print(\"After splitting horizontally:\")\n",
        "print(np.hsplit(x, [2, 6]))\n"
      ],
      "execution_count": 7,
      "outputs": [
        {
          "output_type": "stream",
          "text": [
            "Original array: [[ 0  1  2  3]\n",
            " [ 4  5  6  7]\n",
            " [ 8  9 10 11]\n",
            " [12 13 14 15]]\n",
            "After splitting horizontally:\n",
            "[array([[ 0,  1],\n",
            "       [ 4,  5],\n",
            "       [ 8,  9],\n",
            "       [12, 13]]), array([[ 2,  3],\n",
            "       [ 6,  7],\n",
            "       [10, 11],\n",
            "       [14, 15]]), array([], shape=(4, 0), dtype=int64)]\n"
          ],
          "name": "stdout"
        }
      ]
    },
    {
      "cell_type": "markdown",
      "metadata": {
        "id": "YccUSlDooq5e",
        "colab_type": "text"
      },
      "source": [
        "Q8. Write the NumPy program to create a 5x5 matrix with row values\n",
        "ranging from 0 to 4?\n",
        "\n",
        "    Original array-\n",
        "    [[ 0. 0. 0. 0. 0.]\n",
        "    [ 0. 0. 0. 0. 0.]\n",
        "    [ 0. 0. 0. 0. 0.]\n",
        "    [ 0. 0. 0. 0. 0.]\n",
        "    [ 0. 0. 0. 0. 0.]]\n",
        "    Row values ranging from 0 to 4.\n",
        "    [[ 0. 1. 2. 3. 4.]\n",
        "    [ 0. 1. 2. 3. 4.]\n",
        "    [ 0. 1. 2. 3. 4.]\n",
        "    [ 0. 1. 2. 3. 4.]\n",
        "    [ 0. 1. 2. 3. 4.]]"
      ]
    },
    {
      "cell_type": "code",
      "metadata": {
        "id": "TByU7bJmoq5f",
        "colab_type": "code",
        "colab": {
          "base_uri": "https://localhost:8080/",
          "height": 221
        },
        "outputId": "a474eeb2-cea0-4fa6-fbd2-c040c0d99de4"
      },
      "source": [
        "import numpy as np\n",
        "x = np.zeros((5,5))\n",
        "print(\"Original array:\")\n",
        "print(x)\n",
        "print(\"Row values ranging from 0 to 4.\")\n",
        "x += np.arange(5)\n",
        "print(x)\n"
      ],
      "execution_count": 8,
      "outputs": [
        {
          "output_type": "stream",
          "text": [
            "Original array:\n",
            "[[0. 0. 0. 0. 0.]\n",
            " [0. 0. 0. 0. 0.]\n",
            " [0. 0. 0. 0. 0.]\n",
            " [0. 0. 0. 0. 0.]\n",
            " [0. 0. 0. 0. 0.]]\n",
            "Row values ranging from 0 to 4.\n",
            "[[0. 1. 2. 3. 4.]\n",
            " [0. 1. 2. 3. 4.]\n",
            " [0. 1. 2. 3. 4.]\n",
            " [0. 1. 2. 3. 4.]\n",
            " [0. 1. 2. 3. 4.]]\n"
          ],
          "name": "stdout"
        }
      ]
    },
    {
      "cell_type": "markdown",
      "metadata": {
        "id": "bOkuXvbLoq5h",
        "colab_type": "text"
      },
      "source": [
        "Q9. Write the NumPy program to create an array of zeros and three\n",
        "column types (integer, float, character)?\n",
        "\n",
        "    Expected Output-\n",
        "    [(1, 2., b'Albert Einstein') (2, 2., b'Edmond Halley')\n",
        "    (3, 3., b'Gertrude B. Elion')]"
      ]
    },
    {
      "cell_type": "code",
      "metadata": {
        "id": "k_xeH3pcoq5i",
        "colab_type": "code",
        "colab": {
          "base_uri": "https://localhost:8080/",
          "height": 51
        },
        "outputId": "a56fc6f7-2b05-4042-b666-2cc2017345bb"
      },
      "source": [
        "import numpy as np\n",
        "x = np.zeros((3,), dtype=('i4,f4,a40'))\n",
        "new_data = [(1, 2., \"Albert Einstein\"), (2, 2., \"Edmond Halley\"), (3, 3., \"Gertrude B. Elion\")]\n",
        "x[:] = new_data\n",
        "print(x)\n"
      ],
      "execution_count": 9,
      "outputs": [
        {
          "output_type": "stream",
          "text": [
            "[(1, 2., b'Albert Einstein') (2, 2., b'Edmond Halley')\n",
            " (3, 3., b'Gertrude B. Elion')]\n"
          ],
          "name": "stdout"
        }
      ]
    },
    {
      "cell_type": "markdown",
      "metadata": {
        "id": "Q01cZ5-zoq5n",
        "colab_type": "text"
      },
      "source": [
        "Q10. Write the NumPy program to remove the negative values in the\n",
        "numpy array with 0?\n",
        "\n",
        "    Expected OutputOriginal array:\n",
        "    [-1 -4 0 2 3 4 5 -6]\n",
        "    Replace the negative values of the said array with 0-\n",
        "    [0 0 0 2 3 4 5 0]"
      ]
    },
    {
      "cell_type": "code",
      "metadata": {
        "id": "2ae06cFkoq5p",
        "colab_type": "code",
        "colab": {
          "base_uri": "https://localhost:8080/",
          "height": 85
        },
        "outputId": "3008eb3e-cdda-4f13-907b-8594a59ba272"
      },
      "source": [
        "import numpy as np\n",
        "x = np.array([-1, -4, 0, 2, 3, 4, 5, -6])\n",
        "print(\"Original array:\")\n",
        "print(x)\n",
        "print(\"Replace the negative values of the said array with 0:\")\n",
        "x[x < 0] = 0\n",
        "print(x)\n",
        "\n"
      ],
      "execution_count": 10,
      "outputs": [
        {
          "output_type": "stream",
          "text": [
            "Original array:\n",
            "[-1 -4  0  2  3  4  5 -6]\n",
            "Replace the negative values of the said array with 0:\n",
            "[0 0 0 2 3 4 5 0]\n"
          ],
          "name": "stdout"
        }
      ]
    },
    {
      "cell_type": "markdown",
      "metadata": {
        "id": "VHRpQB-aoq5t",
        "colab_type": "text"
      },
      "source": [
        "Q11. Write the NumPy program to compute the histogram of a set of\n",
        "data?"
      ]
    },
    {
      "cell_type": "code",
      "metadata": {
        "id": "YzgaY8mOoq5t",
        "colab_type": "code",
        "colab": {
          "base_uri": "https://localhost:8080/",
          "height": 265
        },
        "outputId": "2d1e6adf-2d33-4b5e-f8a5-db3f0423deef"
      },
      "source": [
        "import numpy as np    \n",
        "import matplotlib.pyplot as plt\n",
        "plt.hist([2, 1, 1], bins=[0, 1, 2, 3, 5])\n",
        "plt.show()\n"
      ],
      "execution_count": 17,
      "outputs": [
        {
          "output_type": "display_data",
          "data": {
            "image/png": "[encoded data removed]",
            "text/plain": [
              "<Figure size 432x288 with 1 Axes>"
            ]
          },
          "metadata": {
            "tags": []
          }
        }
      ]
    },
    {
      "cell_type": "markdown",
      "metadata": {
        "id": "xJqzIjZVoq5w",
        "colab_type": "text"
      },
      "source": [
        "Q12. Write the NumPy program to compute the line graph of a set of\n",
        "data?"
      ]
    },
    {
      "cell_type": "code",
      "metadata": {
        "id": "WCs4HBbboq5w",
        "colab_type": "code",
        "colab": {
          "base_uri": "https://localhost:8080/",
          "height": 265
        },
        "outputId": "7c4c7832-74bd-4852-a0b0-426ecd2aec9f"
      },
      "source": [
        "import numpy as np    \n",
        "import matplotlib.pyplot as plt\n",
        "arr = np.random.randint(1, 50, 10)\n",
        "y, x = np.histogram(arr, bins=np.arange(51))\n",
        "fig, ax = plt.subplots()\n",
        "ax.plot(x[:-1], y)\n",
        "fig.show()\n"
      ],
      "execution_count": 18,
      "outputs": [
        {
          "output_type": "display_data",
          "data": {
            "image/png": "[encoded data removed]",
            "text/plain": [
              "<Figure size 432x288 with 1 Axes>"
            ]
          },
          "metadata": {
            "tags": []
          }
        }
      ]
    },
    {
      "cell_type": "markdown",
      "metadata": {
        "id": "N6bEwVYboq5z",
        "colab_type": "text"
      },
      "source": [
        "Q13. Write the NumPy program to extracts all the elements from second\n",
        "row from given (4x4) array?\n",
        "    \n",
        "    Sample OutputOriginal array-\n",
        "    [[ 0 1 2 3]\n",
        "    [ 4 5 6 7]\n",
        "    [ 8 9 10 11]\n",
        "    [12 13 14 15]]\n",
        "    Extracted data- Second row\n",
        "    [4 5 6 7]"
      ]
    },
    {
      "cell_type": "code",
      "metadata": {
        "id": "IaYx4A5coq5z",
        "colab_type": "code",
        "colab": {
          "base_uri": "https://localhost:8080/",
          "height": 153
        },
        "outputId": "27cd279e-8a7d-46eb-ffa9-6963782cd0fa"
      },
      "source": [
        "import numpy as np\n",
        "arra_data = np.arange(0,16).reshape((4, 4))\n",
        "print(\"Original array:\")\n",
        "print(arra_data)\n",
        "print(\"\\nExtracted data: Second row\")\n",
        "print(arra_data[1,:])\n"
      ],
      "execution_count": 19,
      "outputs": [
        {
          "output_type": "stream",
          "text": [
            "Original array:\n",
            "[[ 0  1  2  3]\n",
            " [ 4  5  6  7]\n",
            " [ 8  9 10 11]\n",
            " [12 13 14 15]]\n",
            "\n",
            "Extracted data: Second row\n",
            "[4 5 6 7]\n"
          ],
          "name": "stdout"
        }
      ]
    },
    {
      "cell_type": "markdown",
      "metadata": {
        "id": "r1zE6_eAoq52",
        "colab_type": "text"
      },
      "source": [
        "Q14. Write the NumPy program to extract first element of the second\n",
        "row and fourth element of fourth row from a given (4x4) array?\n",
        "\n",
        "    Sample OutputOriginal array-\n",
        "    [[ 0 1 2 3]\n",
        "    [ 4 5 6 7]\n",
        "    [ 8 9 10 11]\n",
        "    [12 13 14 15]]\n",
        "    Extracted data- First element of the second row and fourth element of fourth row\n",
        "    [ 4 15]\n"
      ]
    },
    {
      "cell_type": "code",
      "metadata": {
        "id": "YNvqOjgOoq53",
        "colab_type": "code",
        "colab": {
          "base_uri": "https://localhost:8080/",
          "height": 153
        },
        "outputId": "7d8028b4-f49d-472a-8dd2-bd7b2e3b0710"
      },
      "source": [
        "import numpy as np\n",
        "arra_data = np.arange(0,16).reshape((4, 4))\n",
        "print(\"Original array:\")\n",
        "print(arra_data)\n",
        "print(\"\\nExtracted data: First element of the second row and fourth element of fourth row  \")\n",
        "print(arra_data[[1,3], [0,3]])\n"
      ],
      "execution_count": 20,
      "outputs": [
        {
          "output_type": "stream",
          "text": [
            "Original array:\n",
            "[[ 0  1  2  3]\n",
            " [ 4  5  6  7]\n",
            " [ 8  9 10 11]\n",
            " [12 13 14 15]]\n",
            "\n",
            "Extracted data: First element of the second row and fourth element of fourth row  \n",
            "[ 4 15]\n"
          ],
          "name": "stdout"
        }
      ]
    },
    {
      "cell_type": "markdown",
      "metadata": {
        "id": "qIvYU4K4oq56",
        "colab_type": "text"
      },
      "source": [
        "Q15. Write the NumPy program to add two arrays A and B of sizes (3,3)\n",
        "and (,3)?\n",
        "\n",
        "    Sample OutputOriginal arrayArray-1\n",
        "    [[1 1 1]\n",
        "    [1 1 1]\n",
        "    [1 1 1]]\n",
        "    Array-2\n",
        "    [0 1 2]\n",
        "    A + B:\n",
        "    [[1 2 3]\n",
        "    [1 2 3]\n",
        "    [1 2 3]]"
      ]
    },
    {
      "cell_type": "code",
      "metadata": {
        "id": "X2ljUiGnoq56",
        "colab_type": "code",
        "colab": {
          "base_uri": "https://localhost:8080/",
          "height": 204
        },
        "outputId": "67c72358-b78f-4e88-92cc-156bed0762f3"
      },
      "source": [
        "import numpy as np\n",
        "A = np.ones((3,3))\n",
        "B = np.arange(3)\n",
        "print(\"Original array:\")\n",
        "print(\"Array-1\")\n",
        "print(A)\n",
        "print(\"Array-2\")\n",
        "print(B)\n",
        "print(\"A + B:\")\n",
        "new_array = A + B\n",
        "print(new_array)\n"
      ],
      "execution_count": 21,
      "outputs": [
        {
          "output_type": "stream",
          "text": [
            "Original array:\n",
            "Array-1\n",
            "[[1. 1. 1.]\n",
            " [1. 1. 1.]\n",
            " [1. 1. 1.]]\n",
            "Array-2\n",
            "[0 1 2]\n",
            "A + B:\n",
            "[[1. 2. 3.]\n",
            " [1. 2. 3.]\n",
            " [1. 2. 3.]]\n"
          ],
          "name": "stdout"
        }
      ]
    },
    {
      "cell_type": "markdown",
      "metadata": {
        "id": "6DlCQZWgoq5-",
        "colab_type": "text"
      },
      "source": [
        "Q16. Write the NumPy program to copy data from a given array to\n",
        "another array?\n",
        "\n",
        "    Sample OutputOriginal array-\n",
        "    [24 27 30 29 18 14]\n",
        "    Copy of the said array-\n",
        "    [24 27 30 29 18 14]"
      ]
    },
    {
      "cell_type": "code",
      "metadata": {
        "id": "EV9FLSRFoq5_",
        "colab_type": "code",
        "colab": {
          "base_uri": "https://localhost:8080/",
          "height": 102
        },
        "outputId": "992581a4-1d48-445a-c1ed-298e507f8095"
      },
      "source": [
        "import numpy as np\n",
        "x = np.array([24, 27, 30, 29, 18, 14])\n",
        "print(\"Original array:\")\n",
        "print(x)\n",
        "y = np.empty_like (x)\n",
        "y[:] = x\n",
        "print(\"\\nCopy of the said array:\")\n",
        "print(y)\n"
      ],
      "execution_count": 22,
      "outputs": [
        {
          "output_type": "stream",
          "text": [
            "Original array:\n",
            "[24 27 30 29 18 14]\n",
            "\n",
            "Copy of the said array:\n",
            "[24 27 30 29 18 14]\n"
          ],
          "name": "stdout"
        }
      ]
    },
    {
      "cell_type": "markdown",
      "metadata": {
        "id": "LsuqfT0zoq6B",
        "colab_type": "text"
      },
      "source": [
        "Q17. Write the NumPy program to calculate the sum of all columns of\n",
        "the 2D numpy array?\n",
        "    \n",
        "    Sample OutputOriginal array-\n",
        "    [[ 0 1 2 3 4 5 6 7 8]\n",
        "    [ 9 10 11 12 13 14 15 16 17]\n",
        "    [18 19 20 21 22 23 24 25 26]\n",
        "    [27 28 29 30 31 32 33 34 35]]\n",
        "    Sum of all columns-\n",
        "    [54 58 62 66 70 74 78 82 86]"
      ]
    },
    {
      "cell_type": "code",
      "metadata": {
        "id": "wcofLXfDoq6C",
        "colab_type": "code",
        "colab": {
          "base_uri": "https://localhost:8080/",
          "height": 153
        },
        "outputId": "6c16588f-92f0-49ba-f444-be3b90335cb9"
      },
      "source": [
        "import numpy as np\n",
        "num = np.arange(36)\n",
        "arr1 = np.reshape(num, [4, 9])\n",
        "print(\"Original array:\")\n",
        "print(arr1)\n",
        "result  = arr1.sum(axis=0)\n",
        "print(\"\\nSum of all columns:\")\n",
        "print(result)\n"
      ],
      "execution_count": 23,
      "outputs": [
        {
          "output_type": "stream",
          "text": [
            "Original array:\n",
            "[[ 0  1  2  3  4  5  6  7  8]\n",
            " [ 9 10 11 12 13 14 15 16 17]\n",
            " [18 19 20 21 22 23 24 25 26]\n",
            " [27 28 29 30 31 32 33 34 35]]\n",
            "\n",
            "Sum of all columns:\n",
            "[54 58 62 66 70 74 78 82 86]\n"
          ],
          "name": "stdout"
        }
      ]
    },
    {
      "cell_type": "markdown",
      "metadata": {
        "id": "ZnNogRiuoq6E",
        "colab_type": "text"
      },
      "source": [
        "Q18. Write the NumPy program to calculate averages without NaNs\n",
        "along the given array?\n",
        "    \n",
        "    Sample OutputOriginal array-\n",
        "    [[10. 20. 30.]\n",
        "    [40. 50. nan]\n",
        "    [nan 6. nan]\n",
        "    [nan nan nan]]\n",
        "    Averages without NaNs along the said array-\n",
        "    [20. 45. 6. nan]"
      ]
    },
    {
      "cell_type": "code",
      "metadata": {
        "id": "I2cvW3bmoq6F",
        "colab_type": "code",
        "colab": {
          "base_uri": "https://localhost:8080/",
          "height": 136
        },
        "outputId": "c42aa24b-dc26-4d3b-fef1-a0ae79ec5d0a"
      },
      "source": [
        "import numpy as np\n",
        "arr1 = np.array([[10, 20 ,30], [40, 50, np.nan], [np.nan, 6, np.nan], [np.nan, np.nan, np.nan]])\n",
        "print(\"Original array:\")\n",
        "print(arr1)\n",
        "temp = np.ma.masked_array(arr1,np.isnan(arr1))\n",
        "result = np.mean(temp, axis=1)\n",
        "print(\"Averages without NaNs along the said array:\")\n",
        "print(result.filled(np.nan))\n"
      ],
      "execution_count": 24,
      "outputs": [
        {
          "output_type": "stream",
          "text": [
            "Original array:\n",
            "[[10. 20. 30.]\n",
            " [40. 50. nan]\n",
            " [nan  6. nan]\n",
            " [nan nan nan]]\n",
            "Averages without NaNs along the said array:\n",
            "[20. 45.  6. nan]\n"
          ],
          "name": "stdout"
        }
      ]
    },
    {
      "cell_type": "markdown",
      "metadata": {
        "id": "0e9P3bk4oq6H",
        "colab_type": "text"
      },
      "source": [
        "## Great Job!"
      ]
    }
  ]
}
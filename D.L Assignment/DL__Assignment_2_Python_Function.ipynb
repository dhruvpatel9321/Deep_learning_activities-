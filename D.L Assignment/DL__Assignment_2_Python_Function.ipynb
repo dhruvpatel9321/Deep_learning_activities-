{
  "nbformat": 4,
  "nbformat_minor": 0,
  "metadata": {
    "kernelspec": {
      "display_name": "Python 3",
      "language": "python",
      "name": "python3"
    },
    "language_info": {
      "codemirror_mode": {
        "name": "ipython",
        "version": 3
      },
      "file_extension": ".py",
      "mimetype": "text/x-python",
      "name": "python",
      "nbconvert_exporter": "python",
      "pygments_lexer": "ipython3",
      "version": "3.7.4"
    },
    "colab": {
      "name": "DL__Assignment 2 - Python Function.ipynb",
      "provenance": [],
      "collapsed_sections": []
    }
  },
  "cells": [
    {
      "cell_type": "markdown",
      "metadata": {
        "id": "7YccTzYnbsdt",
        "colab_type": "text"
      },
      "source": [
        "## Problem Statement"
      ]
    },
    {
      "cell_type": "markdown",
      "metadata": {
        "id": "As8lzMmAbsdv",
        "colab_type": "text"
      },
      "source": [
        "Q.1 Write a Python Program to implement your own myreduce() function which works exactly like\n",
        "Python's built-in function reduce()\n"
      ]
    },
    {
      "cell_type": "code",
      "metadata": {
        "id": "BkRp0OFIbsdw",
        "colab_type": "code",
        "colab": {
          "base_uri": "https://localhost:8080/",
          "height": 34
        },
        "outputId": "af44feae-e0be-46e1-96a1-7be0bec4dc7f"
      },
      "source": [
        "# Reduce will produce a single result\n",
        "def myreduce(anyfunc, sequence):\n",
        "\n",
        " # Get first item in sequence and assign to result\n",
        "  result = sequence[0]\n",
        " # iterate over remaining items in sequence and apply reduction function \n",
        "  for item in sequence[1:]:\n",
        "   result = anyfunc(result, item)\n",
        "\n",
        "  return result\n",
        "\n",
        "# test myreduce function\n",
        "\n",
        "def sum(x,y): return x + y\n",
        "\n",
        "\n",
        "print (\"Sum on list [1,2,3] using custom reduce function \"   + str(myreduce(sum, [1,2,3])) )\n"
      ],
      "execution_count": 6,
      "outputs": [
        {
          "output_type": "stream",
          "text": [
            "Sum on list [1,2,3] using custom reduce function 6\n"
          ],
          "name": "stdout"
        }
      ]
    },
    {
      "cell_type": "markdown",
      "metadata": {
        "id": "65vsA4Rmbsd2",
        "colab_type": "text"
      },
      "source": [
        "Q.2 Write a Python program to implement your own myfilter() function which works exactly like\n",
        "Python's built-in function filter()"
      ]
    },
    {
      "cell_type": "code",
      "metadata": {
        "id": "PtAxbEtFbsd3",
        "colab_type": "code",
        "colab": {
          "base_uri": "https://localhost:8080/",
          "height": 34
        },
        "outputId": "4ff6a352-9f21-4972-e47b-b20ca7505c72"
      },
      "source": [
        "# Custom filter function \n",
        "def myfilter(anyfunc, sequence):\n",
        "\n",
        " # Initialize empty list\n",
        " result = []\n",
        " # iterate over sequence of items in sequence and apply filter function\n",
        " for item in sequence:\n",
        "  if anyfunc(item):\n",
        "   result.append(item)\n",
        "\n",
        " # return funal output\n",
        " return result\n",
        "\n",
        "# test myfilter function\n",
        "def ispositive(x):\n",
        " if (x <= 0): \n",
        "  return False \n",
        " else: \n",
        "  return True\n",
        "\n",
        "\n",
        "print (\"Filter only positive Integers on list [0,1,-2,3,4,5] using custom filter function\"  + str(myfilter(ispositive, [0,1,-2,3,4,5])))\n"
      ],
      "execution_count": 3,
      "outputs": [
        {
          "output_type": "stream",
          "text": [
            "Filter only positive Integers on list [0,1,-2,3,4,5] using custom filter function[1, 3, 4, 5]\n"
          ],
          "name": "stdout"
        }
      ]
    },
    {
      "cell_type": "markdown",
      "metadata": {
        "id": "i5yBbtrnbsd7",
        "colab_type": "text"
      },
      "source": [
        "Q.3 Implement List comprehensions to produce the following lists.\n",
        "   Write List comprehensions to produce the following Lists\n",
        "   \n",
        "    ['A', 'C', 'A', 'D', 'G', 'I', ’L’, ‘ D’]\n",
        "   \n",
        "    ['x', 'xx', 'xxx', 'xxxx', 'y', 'yy', 'yyy', 'yyyy', 'z', 'zz', 'zzz', 'zzzz']\n",
        "\n",
        "    ['x', 'y', 'z', 'xx', 'yy', 'zz', 'xx', 'yy', 'zz', 'xxxx', 'yyyy', 'zzzz']\n",
        "    \n",
        "    [[2], [3], [4], [3], [4], [5], [4], [5], [6]]\n",
        "\n",
        "    [[2, 3, 4, 5], [3, 4, 5, 6], [4, 5, 6, 7], [5, 6, 7, 8]]\n",
        "\n",
        "    [(1, 1), (2, 1), (3, 1), (1, 2), (2, 2), (3, 2), (1, 3), (2, 3), (3, 3)]"
      ]
    },
    {
      "cell_type": "code",
      "metadata": {
        "id": "-gulwWllbsd8",
        "colab_type": "code",
        "colab": {
          "base_uri": "https://localhost:8080/",
          "height": 119
        },
        "outputId": "0cfd0e9a-f735-4dc3-c3dd-b75d3c76704c"
      },
      "source": [
        "\n",
        "#########\n",
        "word = \"ACADGILD\"\n",
        "alphabet_list = [ alphabet for alphabet in word ]\n",
        "print (\"ACADGILD => \" + str(alphabet_list))\n",
        "\n",
        "#########\n",
        "# Compress above for loop into a single list comprehension using technique [i <Upper for condition> <lower for condition>]\n",
        "input_list = ['x','y','z']\n",
        "result = [ item*num for item in input_list for num in range(1,5)  ]\n",
        "print(\"['x','y','z'] => \" +   str(result))\n",
        "\n",
        "#########\n",
        "# Compress above for loop into a single list comprehension using technique [i <Upper for condition> <lower for condition>]\n",
        "input_list = ['x','y','z']\n",
        "result = [ item*num for num in range(1,5) for item in input_list  ]\n",
        "print(\"['x','y','z'] => \" +   str(result))\n",
        "\n",
        "#########\n",
        "input_list = [2,3,4]\n",
        "result = [ [item+num] for item in input_list for num in range(0,3)]\n",
        "print(\"[2,3,4] =>\" +  str(result))\n",
        "\n",
        "#########\n",
        "input_list = [2,3,4,5]\n",
        "result = [ [item+num for item in input_list] for num in range(0,4)  ]\n",
        "print(\"[2,3,4,5] =>\" +  str(result))\n",
        "\n",
        "#########\n",
        "input_list=[1,2,3]\n",
        "result = [ (b,a) for a in input_list for b in input_list]\n",
        "print(\"[1,2,3] =>\" +  str(result))\n",
        "\n",
        "#########"
      ],
      "execution_count": 4,
      "outputs": [
        {
          "output_type": "stream",
          "text": [
            "ACADGILD => ['A', 'C', 'A', 'D', 'G', 'I', 'L', 'D']\n",
            "['x','y','z'] => ['x', 'xx', 'xxx', 'xxxx', 'y', 'yy', 'yyy', 'yyyy', 'z', 'zz', 'zzz', 'zzzz']\n",
            "['x','y','z'] => ['x', 'y', 'z', 'xx', 'yy', 'zz', 'xxx', 'yyy', 'zzz', 'xxxx', 'yyyy', 'zzzz']\n",
            "[2,3,4] =>[[2], [3], [4], [3], [4], [5], [4], [5], [6]]\n",
            "[2,3,4,5] =>[[2, 3, 4, 5], [3, 4, 5, 6], [4, 5, 6, 7], [5, 6, 7, 8]]\n",
            "[1,2,3] =>[(1, 1), (2, 1), (3, 1), (1, 2), (2, 2), (3, 2), (1, 3), (2, 3), (3, 3)]\n"
          ],
          "name": "stdout"
        }
      ]
    },
    {
      "cell_type": "markdown",
      "metadata": {
        "id": "tbVGHx11bseA",
        "colab_type": "text"
      },
      "source": [
        "Q.4 Implement a function longestWord() that takes a list of words and returns the longest one."
      ]
    },
    {
      "cell_type": "code",
      "metadata": {
        "id": "p_NcO88gbseB",
        "colab_type": "code",
        "colab": {
          "base_uri": "https://localhost:8080/",
          "height": 34
        },
        "outputId": "e85e1dcd-b85b-4b52-cb63-a6522468a650"
      },
      "source": [
        "def find_longest_word(words_list):\n",
        "    word_len = []\n",
        "    for n in words_list:\n",
        "        word_len.append((len(n), n))\n",
        "    word_len.sort()\n",
        "    return word_len[-1][1]\n",
        "\n",
        "print(find_longest_word([\"mlv\", \"sudhanshu\", \"ineuronaiai\"]))\n"
      ],
      "execution_count": 7,
      "outputs": [
        {
          "output_type": "stream",
          "text": [
            "ineuronaiai\n"
          ],
          "name": "stdout"
        }
      ]
    },
    {
      "cell_type": "markdown",
      "metadata": {
        "id": "ydJj5ZwPbseH",
        "colab_type": "text"
      },
      "source": [
        "Q.5 Write a Python Program(with class concepts) to find the area of the triangle using the below\n",
        "formula.\n",
        "\n",
        "area = (s*(s-a)*(s-b)*(s-c)) ** 0.5\n",
        "\n",
        "Function to take the length of the sides of triangle from user should be defined in the parent\n",
        "class and function to calculate the area should be defined in subclass."
      ]
    },
    {
      "cell_type": "code",
      "metadata": {
        "id": "OA1y7H3obseI",
        "colab_type": "code",
        "colab": {
          "base_uri": "https://localhost:8080/",
          "height": 85
        },
        "outputId": "278c4408-c9b1-4e32-cd9f-bb5a24f9d1ab"
      },
      "source": [
        "class Triangle:\n",
        " def __init__(self, side1, side2, side3):\n",
        "  self.side1 = side1\n",
        "  self.side2 = side2\n",
        "  self.side3 = side3\n",
        "  print (\"Initialised Triagle super class [\" +  str(side1) + \",\" + str(side2) + \",\" + str(side3) + \"]\")\n",
        "\n",
        "class Triangle_Utilities(Triangle):\n",
        " \n",
        " def __init__(self, side1, side2, side3):\n",
        "  print (\"Initialised Utils Child class\" )\n",
        "  super(Triangle_Utilities, self).__init__(side1, side2, side3)\n",
        "\n",
        " def get_area(self):\n",
        "  s = (self.side1 + self.side2 + self.side3)/2\n",
        "  print (str(s))\n",
        "  return (s*(s-self.side1)*(s-self.side2)*(s-self.side3))**0.5\n",
        "\n",
        "instance = Triangle_Utilities(3,4,5)\n",
        "print (\"Area of triangle = \" + str(instance.get_area()) )"
      ],
      "execution_count": 8,
      "outputs": [
        {
          "output_type": "stream",
          "text": [
            "Initialised Utils Child class\n",
            "Initialised Triagle super class [3,4,5]\n",
            "6.0\n",
            "Area of triangle = 6.0\n"
          ],
          "name": "stdout"
        }
      ]
    },
    {
      "cell_type": "markdown",
      "metadata": {
        "id": "cMMk_9x4bseL",
        "colab_type": "text"
      },
      "source": [
        "Q.6 Write a function filter_long_words() that takes a list of words and an integer n and returns the list\n",
        "of words that are longer than n."
      ]
    },
    {
      "cell_type": "code",
      "metadata": {
        "id": "kOfrFzf5bseM",
        "colab_type": "code",
        "colab": {
          "base_uri": "https://localhost:8080/",
          "height": 51
        },
        "outputId": "60d935da-7c96-47ff-a0ee-35a3a7d13eff"
      },
      "source": [
        "class list_Utilities:\n",
        " def __init__(self, wordlist):\n",
        "  self.wordlist = wordlist\n",
        "  print (\"Initialised list_Utilities object\")\n",
        "\n",
        " def filter_long_words(self, n):\n",
        "  return list(filter(lambda x:len(x) > n, self.wordlist))\n",
        "\n",
        "instance = list_Utilities([\"This\",\"is\",\"a\",\"beautiful\",\"day\"])\n",
        "print (\"New List of Words  => \" + str(instance.filter_long_words(3)) ) "
      ],
      "execution_count": 9,
      "outputs": [
        {
          "output_type": "stream",
          "text": [
            "Initialised list_Utilities object\n",
            "New List of Words  => ['This', 'beautiful']\n"
          ],
          "name": "stdout"
        }
      ]
    },
    {
      "cell_type": "markdown",
      "metadata": {
        "id": "hk4m_wpwbseP",
        "colab_type": "text"
      },
      "source": [
        "Q.7 Write a Python program using function concept that maps list of words into a list of integers\n",
        "representing the lengths of the corresponding words.\n",
        "    \n",
        "    Hint: If a list [ ab,cde,erty] is passed on to the python function output should come as [2,3,4]\n",
        "    Here 2,3 and 4 are the lengths of the words in the list."
      ]
    },
    {
      "cell_type": "code",
      "metadata": {
        "id": "Stssd8DhbseP",
        "colab_type": "code",
        "colab": {
          "base_uri": "https://localhost:8080/",
          "height": 34
        },
        "outputId": "0641571b-07c8-4e77-9075-39d66e885895"
      },
      "source": [
        "wordlist = [\"ab\",\"cde\",\"erty\"]\n",
        "\n",
        "def wordlength(wordlist):\n",
        " return list(map(lambda x: len(x), wordlist))\n",
        "\n",
        "print (\"word lengths in array => \" + str(wordlength(wordlist)))\n"
      ],
      "execution_count": 10,
      "outputs": [
        {
          "output_type": "stream",
          "text": [
            "word lengths in array => [2, 3, 4]\n"
          ],
          "name": "stdout"
        }
      ]
    },
    {
      "cell_type": "markdown",
      "metadata": {
        "id": "yn9gz7OvbseT",
        "colab_type": "text"
      },
      "source": [
        "Q.8 Write a Python function which takes a character (i.e. a string of length 1) and returns True if it is\n",
        "a vowel, False otherwise."
      ]
    },
    {
      "cell_type": "code",
      "metadata": {
        "id": "2pK5A5XzbseT",
        "colab_type": "code",
        "colab": {
          "base_uri": "https://localhost:8080/",
          "height": 51
        },
        "outputId": "71db0487-6218-4caf-8268-52f2a2077f9a"
      },
      "source": [
        "def vowel_check(char):\n",
        " if(char == 'a' or char == 'e' or char == 'i' or char == 'o' or char == 'u'):\n",
        "  return True\n",
        " else:\n",
        "  return False\n",
        "\n",
        "# Take user input\n",
        "char = input(\"Enter character: \");\n",
        "\n",
        "# If Invalid input, exit\n",
        "if (char.isalpha() == False):\n",
        " exit();\n",
        "\n",
        "# Invoke function\n",
        "if (vowel_check(char)):\n",
        " print(char, \"is a vowel.\");\n",
        "else:\n",
        " print(char, \"is not a vowel.\"); \n",
        " "
      ],
      "execution_count": 11,
      "outputs": [
        {
          "output_type": "stream",
          "text": [
            "Enter character: h\n",
            "h is not a vowel.\n"
          ],
          "name": "stdout"
        }
      ]
    },
    {
      "cell_type": "markdown",
      "metadata": {
        "id": "_FCyBepZbseX",
        "colab_type": "text"
      },
      "source": [
        "## Great job!"
      ]
    }
  ]
}
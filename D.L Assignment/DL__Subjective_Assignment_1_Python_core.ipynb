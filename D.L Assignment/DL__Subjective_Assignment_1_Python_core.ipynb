{
  "nbformat": 4,
  "nbformat_minor": 0,
  "metadata": {
    "kernelspec": {
      "display_name": "Python 3",
      "language": "python",
      "name": "python3"
    },
    "language_info": {
      "codemirror_mode": {
        "name": "ipython",
        "version": 3
      },
      "file_extension": ".py",
      "mimetype": "text/x-python",
      "name": "python",
      "nbconvert_exporter": "python",
      "pygments_lexer": "ipython3",
      "version": "3.7.4"
    },
    "colab": {
      "name": "DL__Subjective Assignment - 1- Python core.ipynb",
      "provenance": [],
      "collapsed_sections": []
    }
  },
  "cells": [
    {
      "cell_type": "markdown",
      "metadata": {
        "id": "UtslcG6VHWm3",
        "colab_type": "text"
      },
      "source": [
        "Q1. Write a Python program to get the string from the given string where\n",
        "all the occurrence of its first char has been changed to '$,' except first\n",
        "char itself?\n",
        "\n",
        "    Sample String: 'prospect'\n",
        "    Expected Result : 'pros$ect'\n"
      ]
    },
    {
      "cell_type": "code",
      "metadata": {
        "id": "UBe4m7c8HWm6",
        "colab_type": "code",
        "colab": {}
      },
      "source": [
        ""
      ],
      "execution_count": 0,
      "outputs": []
    },
    {
      "cell_type": "code",
      "metadata": {
        "id": "cNN2gR16GHB3",
        "colab_type": "code",
        "colab": {
          "base_uri": "https://localhost:8080/",
          "height": 34
        },
        "outputId": "ac42914d-e514-4d74-9b90-f4b752e73560"
      },
      "source": [
        "def ineuronchar(name):\n",
        "  mlv = name[0]\n",
        "  name = name.replace(mlv, '$')\n",
        "  name = mlv + name[1:]\n",
        "\n",
        "  return name\n",
        "\n",
        "print(ineuronchar('prospect'))"
      ],
      "execution_count": 1,
      "outputs": [
        {
          "output_type": "stream",
          "text": [
            "pros$ect\n"
          ],
          "name": "stdout"
        }
      ]
    },
    {
      "cell_type": "markdown",
      "metadata": {
        "id": "Z8ajlijtHWm_",
        "colab_type": "text"
      },
      "source": [
        "Q2. Write a Python program to get the single string from the two given\n",
        "strings, and separated by the space and swap the first two characters of\n",
        "each string?\n",
        "\n",
        "    Sample String : 'abc', 'xyz'.\n",
        "    Expected Result: 'xyc abz'"
      ]
    },
    {
      "cell_type": "code",
      "metadata": {
        "id": "liFMwmisHWnA",
        "colab_type": "code",
        "colab": {
          "base_uri": "https://localhost:8080/",
          "height": 34
        },
        "outputId": "4ff2ccd3-80fb-49e6-829f-ad321c359afe"
      },
      "source": [
        "def ineuronmswap(p, q):\n",
        "  swap_p = q[:2] + p[2:]\n",
        "  swap_q = p[:2] + q[2:]\n",
        "\n",
        "  return swap_p + ' ' + swap_q\n",
        "print(ineuronmswap('abc', 'xyz'))"
      ],
      "execution_count": 2,
      "outputs": [
        {
          "output_type": "stream",
          "text": [
            "xyc abz\n"
          ],
          "name": "stdout"
        }
      ]
    },
    {
      "cell_type": "markdown",
      "metadata": {
        "id": "JmUcDJHfHWnD",
        "colab_type": "text"
      },
      "source": [
        "Q3. Write the Python program to add 'ing' at the end of the given string\n",
        "(length of the string should be at least 3). If given string already ends\n",
        "with 'ing,' then add 'ly' instead. If string length of the given string is less\n",
        "than 3, leave it unchanged?\n",
        "\n",
        "\n",
        "    Sample string: ' abc '\n",
        "    Expected result: ' abcing '\n",
        "    Sample string: ' string '\n",
        "    Expected result: ' stringly '\n"
      ]
    },
    {
      "cell_type": "code",
      "metadata": {
        "id": "q8_0Pj97HWnE",
        "colab_type": "code",
        "colab": {
          "base_uri": "https://localhost:8080/",
          "height": 51
        },
        "outputId": "428b3dd2-8ba2-4388-a990-0484d0f961f6"
      },
      "source": [
        "def add_string(str1):\n",
        "  length = len(str1)\n",
        "\n",
        "  if length > 2:\n",
        "    if str1[-3:] == 'ing':\n",
        "      str1 += 'ly'\n",
        "    else:\n",
        "      str1 += 'ing'\n",
        "\n",
        "  return str1\n",
        "\n",
        "print(add_string('abc'))\n",
        "print(add_string('string'))"
      ],
      "execution_count": 3,
      "outputs": [
        {
          "output_type": "stream",
          "text": [
            "abcing\n",
            "stringly\n"
          ],
          "name": "stdout"
        }
      ]
    },
    {
      "cell_type": "markdown",
      "metadata": {
        "id": "EqsTus--HWnI",
        "colab_type": "text"
      },
      "source": [
        "Q4. Write the Python program to find the first appearance of the\n",
        "substring 'not' and 'poor' from the given string, if 'not' follows the 'poor',\n",
        "replace the whole 'not'...' poor' substring with 'good'.Return the resulting\n",
        "string.\n",
        "\n",
        "    Sample string: 'The lyrics are not that poor!'\n",
        "    'The lyrics are poor!'\n",
        "    Expected Result: 'The lyrics are good!'\n",
        "    'The lyrics are poor!'"
      ]
    },
    {
      "cell_type": "code",
      "metadata": {
        "id": "s3NvSIgEHWnI",
        "colab_type": "code",
        "colab": {
          "base_uri": "https://localhost:8080/",
          "height": 51
        },
        "outputId": "05b6f3f0-e340-481f-880f-ec2deb19095f"
      },
      "source": [
        "def not_poor(str1):\n",
        "  snot = str1.find('not')\n",
        "  spoor = str1.find('poor')\n",
        "  \n",
        "\n",
        "  if spoor > snot and snot>0 and spoor>0:\n",
        "    str1 = str1.replace(str1[snot:(spoor+4)], 'good')\n",
        "    return str1\n",
        "  else:\n",
        "    return str1\n",
        "print(not_poor('The lyrics are not that poor!'))\n",
        "print(not_poor('The lyrics are poor!'))"
      ],
      "execution_count": 6,
      "outputs": [
        {
          "output_type": "stream",
          "text": [
            "The lyrics are good!\n",
            "The lyrics are poor!\n"
          ],
          "name": "stdout"
        }
      ]
    },
    {
      "cell_type": "markdown",
      "metadata": {
        "id": "AbSmokxiHWnP",
        "colab_type": "text"
      },
      "source": [
        "Q5. Write the Python program to remove the characters which have odd\n",
        "index values of a given string."
      ]
    },
    {
      "cell_type": "code",
      "metadata": {
        "id": "C2KBbh0gHWnQ",
        "colab_type": "code",
        "colab": {
          "base_uri": "https://localhost:8080/",
          "height": 51
        },
        "outputId": "4450f125-9d78-4117-bb2e-9387f369651e"
      },
      "source": [
        "def odd_values_string(str):\n",
        "  result = \"\" \n",
        "  for i in range(len(str)):\n",
        "    if i % 2 == 0:\n",
        "      result = result + str[i]\n",
        "  return result\n",
        "\n",
        "print(odd_values_string('abcdef'))\n",
        "print(odd_values_string('python'))\n"
      ],
      "execution_count": 7,
      "outputs": [
        {
          "output_type": "stream",
          "text": [
            "ace\n",
            "pto\n"
          ],
          "name": "stdout"
        }
      ]
    },
    {
      "cell_type": "markdown",
      "metadata": {
        "id": "sg8bet-2HWnV",
        "colab_type": "text"
      },
      "source": [
        "Q6. Write the python program to print the following floating numbers up\n",
        "to 2 decimal places?"
      ]
    },
    {
      "cell_type": "code",
      "metadata": {
        "id": "UuCIqK1NHWnV",
        "colab_type": "code",
        "colab": {
          "base_uri": "https://localhost:8080/",
          "height": 102
        },
        "outputId": "63d1290f-b801-4c92-bccb-b3bb2af20a6a"
      },
      "source": [
        "x = 56.45685585\n",
        "y = 45586.66655\n",
        "print(\"Original Number: \", x)\n",
        "print(\"Formatted Number: \"+\"{:.2f}\".format(x));\n",
        "print(\"Original Number: \", y)\n",
        "print(\"Formatted Number: \"+\"{:.2f}\".format(y));\n",
        "print() \n"
      ],
      "execution_count": 12,
      "outputs": [
        {
          "output_type": "stream",
          "text": [
            "Original Number:  56.45685585\n",
            "Formatted Number: 56.46\n",
            "Original Number:  45586.66655\n",
            "Formatted Number: 45586.67\n",
            "\n"
          ],
          "name": "stdout"
        }
      ]
    },
    {
      "cell_type": "markdown",
      "metadata": {
        "id": "m3AsO5sCHWnf",
        "colab_type": "text"
      },
      "source": [
        "Q7. Write the Python program to format a number with a percentage?"
      ]
    },
    {
      "cell_type": "code",
      "metadata": {
        "id": "Lb0npaYfHWnf",
        "colab_type": "code",
        "colab": {
          "base_uri": "https://localhost:8080/",
          "height": 102
        },
        "outputId": "42256baf-2d88-4ee7-b1ca-f7a8e06e9877"
      },
      "source": [
        "x = 0.35\n",
        "y = -0.42\n",
        "print(\"nOriginal Number: \", x)\n",
        "print(\"Formatted Number with percentage: \"+\"{:.2%}\".format(x));\n",
        "print(\"Original Number: \", y)\n",
        "print(\"Formatted Number with percentage: \"+\"{:.2%}\".format(y));\n",
        "print()\n"
      ],
      "execution_count": 14,
      "outputs": [
        {
          "output_type": "stream",
          "text": [
            "nOriginal Number:  0.35\n",
            "Formatted Number with percentage: 35.00%\n",
            "Original Number:  -0.42\n",
            "Formatted Number with percentage: -42.00%\n",
            "\n"
          ],
          "name": "stdout"
        }
      ]
    },
    {
      "cell_type": "markdown",
      "metadata": {
        "id": "XEG51BSKHWni",
        "colab_type": "text"
      },
      "source": [
        "Q8. Write the Python program to count occurrences of a substring in a\n",
        "String?"
      ]
    },
    {
      "cell_type": "code",
      "metadata": {
        "id": "IFNFob59HWnj",
        "colab_type": "code",
        "colab": {
          "base_uri": "https://localhost:8080/",
          "height": 34
        },
        "outputId": "39901951-da31-4dab-99a4-c15642b278dd"
      },
      "source": [
        "str1 = 'The ineuron ai is the besy for ml, ineuron is best for dl.'\n",
        "\n",
        "print(str1.count(\"ineuron\"))\n",
        "\n"
      ],
      "execution_count": 17,
      "outputs": [
        {
          "output_type": "stream",
          "text": [
            "2\n"
          ],
          "name": "stdout"
        }
      ]
    },
    {
      "cell_type": "markdown",
      "metadata": {
        "id": "KrKFKXr0HWnm",
        "colab_type": "text"
      },
      "source": [
        "Q9. Write the Python program to count repeated characters in a string.\n",
        "\n",
        "    Sample string: ' thequickbrownjumpsoverthelazydog '\n",
        "    \n",
        "    Expected output:\n",
        "    o 3\n",
        "    e 3\n",
        "    u 2\n",
        "    h 2\n",
        "    r 2\n",
        "    t 2"
      ]
    },
    {
      "cell_type": "code",
      "metadata": {
        "id": "73dhM_OYHWnn",
        "colab_type": "code",
        "colab": {
          "base_uri": "https://localhost:8080/",
          "height": 153
        },
        "outputId": "f18d2d1d-f71a-4efe-a0d4-e2e37b0b5c54"
      },
      "source": [
        "import collections\n",
        "str1 = 'theineuronaffordableaiisverygood'\n",
        "d = collections.defaultdict(int)\n",
        "for c in str1:\n",
        "    d[c] += 1\n",
        "\n",
        "for c in sorted(d, key=d.get, reverse=True):\n",
        "  if d[c] > 1:\n",
        "      print('%s %d' % (c, d[c]))\n"
      ],
      "execution_count": 19,
      "outputs": [
        {
          "output_type": "stream",
          "text": [
            "e 4\n",
            "o 4\n",
            "i 3\n",
            "r 3\n",
            "a 3\n",
            "n 2\n",
            "f 2\n",
            "d 2\n"
          ],
          "name": "stdout"
        }
      ]
    },
    {
      "cell_type": "markdown",
      "metadata": {
        "id": "IGmG5AAAHWnt",
        "colab_type": "text"
      },
      "source": [
        "Q10. Write the Python program to print the square and cube symbol in\n",
        "the area of a rectangle and volume of a cylinder?\n",
        "\n",
        "    Sample outputThe area of the rectangle is 1256.66cm2\n",
        "    The volume of the cylinder is 1254.725cm3\n"
      ]
    },
    {
      "cell_type": "code",
      "metadata": {
        "id": "JoxExF57HWnu",
        "colab_type": "code",
        "colab": {
          "base_uri": "https://localhost:8080/",
          "height": 51
        },
        "outputId": "c131debc-c09a-4370-b9c5-1e7e161dd53e"
      },
      "source": [
        "area = 1256.66\n",
        "volume = 1254.725\n",
        "decimals = 2\n",
        "print(\"The area of the rectangle is {0:.{1}f}cm\\u00b2\".format(area, decimals))\n",
        "decimals = 3\n",
        "print(\"The volume of the cylinder is {0:.{1}f}cm\\u00b3\".format(volume, decimals))\n"
      ],
      "execution_count": 21,
      "outputs": [
        {
          "output_type": "stream",
          "text": [
            "The area of the rectangle is 1256.66cm²\n",
            "The volume of the cylinder is 1254.725cm³\n"
          ],
          "name": "stdout"
        }
      ]
    },
    {
      "cell_type": "markdown",
      "metadata": {
        "id": "GWwBPM8pHWn2",
        "colab_type": "text"
      },
      "source": [
        "Q11. Write the Python program to check if a string contains all letters of\n",
        "the alphabet?"
      ]
    },
    {
      "cell_type": "code",
      "metadata": {
        "id": "_3lr9dZ3HWn2",
        "colab_type": "code",
        "colab": {
          "base_uri": "https://localhost:8080/",
          "height": 51
        },
        "outputId": "674ea36e-e660-4eb5-96b5-c73a14762625"
      },
      "source": [
        "import string\n",
        "alphabet = set(string.ascii_lowercase)\n",
        "input_string = 'The quick brown fox jumps over the lazy dog'\n",
        "print(set(input_string.lower()) >= alphabet)\n",
        "input_string = 'The quick brown fox jumps over the lazy cat'\n",
        "print(set(input_string.lower()) >= alphabet)\n"
      ],
      "execution_count": 22,
      "outputs": [
        {
          "output_type": "stream",
          "text": [
            "True\n",
            "False\n"
          ],
          "name": "stdout"
        }
      ]
    },
    {
      "cell_type": "markdown",
      "metadata": {
        "id": "AdhwgnouHWn5",
        "colab_type": "text"
      },
      "source": [
        "Q12. Write the Python program to find the second most repeated word\n",
        "in a given string?"
      ]
    },
    {
      "cell_type": "code",
      "metadata": {
        "id": "37SMtjeZHWn6",
        "colab_type": "code",
        "colab": {
          "base_uri": "https://localhost:8080/",
          "height": 34
        },
        "outputId": "db785c89-911f-45fd-bcc7-ab6881e9ca62"
      },
      "source": [
        "def word_count(str):\n",
        "    counts = dict()\n",
        "    words = str.split()\n",
        "\n",
        "    for word in words:\n",
        "        if word in counts:\n",
        "            counts[word] += 1\n",
        "        else:\n",
        "            counts[word] = 1\n",
        "\n",
        "    counts_x = sorted(counts.items(), key=lambda kv: kv[1])\n",
        "    #print(counts_x)\n",
        "    return counts_x[-2]\n",
        " \n",
        "print(word_count(\"indian army is the best, indian navy is best , india is best \"))\n"
      ],
      "execution_count": 27,
      "outputs": [
        {
          "output_type": "stream",
          "text": [
            "('best', 2)\n"
          ],
          "name": "stdout"
        }
      ]
    },
    {
      "cell_type": "markdown",
      "metadata": {
        "id": "CMLbJlNOHWn_",
        "colab_type": "text"
      },
      "source": [
        "Q13. Write the Python program to find the minimum window in the given\n",
        "string, which will contains all the characters of another given\n",
        "strings?\n",
        "\n",
        "    Example 1\n",
        "    Input : string1 = \" PRWSOERIUSFK \"\n",
        "    string2 = \" OSU \"\n",
        "    Output: Minimum window is \"OERIUS\""
      ]
    },
    {
      "cell_type": "code",
      "metadata": {
        "id": "YvnmQyyeHWoA",
        "colab_type": "code",
        "colab": {
          "base_uri": "https://localhost:8080/",
          "height": 102
        },
        "outputId": "8b5d7c15-5e50-4ae3-f5c8-38404b6d6313"
      },
      "source": [
        "import collections\n",
        "def min_window(str1, str2):\n",
        "    result_char, missing_char = collections.Counter(str2), len(str2)\n",
        "    i = p = q = 0\n",
        "    for j, c in enumerate(str1, 1):\n",
        "        missing_char -= result_char[c] > 0\n",
        "        result_char[c] -= 1\n",
        "        if not missing_char:\n",
        "            while i < q and result_char[str1[i]] < 0:\n",
        "                result_char[str1[i]] += 1\n",
        "                i += 1\n",
        "            if not q or j - i <= q - p:\n",
        "                p, q = i, j\n",
        "    return str1[p:q]\n",
        "           \n",
        "str1 = \"PRWSOERIUSFK\"\n",
        "str2 = \"OSU\"\n",
        "print(\"Original Strings:\\n\",str1,\"\\n\",str2)\n",
        "print(\"Minimum window:\")\n",
        "print(min_window(str1,str2))\n"
      ],
      "execution_count": 28,
      "outputs": [
        {
          "output_type": "stream",
          "text": [
            "Original Strings:\n",
            " PRWSOERIUSFK \n",
            " OSU\n",
            "Minimum window:\n",
            "OERIUS\n"
          ],
          "name": "stdout"
        }
      ]
    },
    {
      "cell_type": "markdown",
      "metadata": {
        "id": "FDqYH0WRHWoD",
        "colab_type": "text"
      },
      "source": [
        "Q14. Write the Python program to count number of substrings from a\n",
        "given string of lowercase alphabets with exactly k distinct (given)\n",
        "characters?\n",
        "\n",
        "    Input a string (lowercase alphabets): wolf\n",
        "    Input k: 4\n",
        "    Number of substrings with exactly 4 distinct characters: 1"
      ]
    },
    {
      "cell_type": "code",
      "metadata": {
        "id": "KXiNQdSqHWoE",
        "colab_type": "code",
        "colab": {
          "base_uri": "https://localhost:8080/",
          "height": 68
        },
        "outputId": "a805e90b-208a-4754-8525-f673aca2cc69"
      },
      "source": [
        "def count_k_dist(str1, k): \n",
        "\tstr_len = len(str1) \n",
        "\t\n",
        "\tresult = 0\n",
        "\n",
        "\tctr = [0] * 27\n",
        "\n",
        "\tfor i in range(0, str_len): \n",
        "\t\tdist_ctr = 0\n",
        "\n",
        "\t\tctr = [0] * 27\n",
        "\n",
        "\t\tfor j in range(i, str_len): \n",
        "\t\t\t\n",
        "\t\t\tif(ctr[ord(str1[j]) - 97] == 0): \n",
        "\t\t\t\tdist_ctr += 1\n",
        "\n",
        "\t\t\tctr[ord(str1[j]) - 97] += 1\n",
        "\n",
        "\t\t\tif(dist_ctr == k): \n",
        "\t\t\t\tresult += 1\n",
        "\t\t\tif(dist_ctr > k): \n",
        "\t\t\t\tbreak\n",
        "\n",
        "\treturn result \n",
        "\n",
        "str1 = input(\"Input a string (lowercase alphabets):\")\n",
        "k = int(input(\"Input k: \"))\n",
        "print(\"Number of substrings with exactly\", k, \"distinct characters : \", end = \"\") \n",
        "print(count_k_dist(str1, k))\n"
      ],
      "execution_count": 30,
      "outputs": [
        {
          "output_type": "stream",
          "text": [
            "Input a string (lowercase alphabets):wolf\n",
            "Input k: 4\n",
            "Number of substrings with exactly 4 distinct characters : 1\n"
          ],
          "name": "stdout"
        }
      ]
    },
    {
      "cell_type": "markdown",
      "metadata": {
        "id": "9s2vE9mzHWoI",
        "colab_type": "text"
      },
      "source": [
        "Q15. Write the Python program to count number of substrings with same\n",
        "first and last characters of the given string?\n",
        "\n",
        "    Input a string: abcd\n",
        "    4\n"
      ]
    },
    {
      "cell_type": "code",
      "metadata": {
        "id": "u6Rp5ty5HWoJ",
        "colab_type": "code",
        "colab": {
          "base_uri": "https://localhost:8080/",
          "height": 51
        },
        "outputId": "020b7640-eddd-42fb-f8f6-70d221515fc1"
      },
      "source": [
        "def no_of_substring_with_equalEnds(str1): \n",
        "\tresult = 0; \n",
        "\tn = len(str1); \n",
        "\tfor i in range(n): \n",
        "\t\tfor j in range(i, n): \n",
        "\t\t\tif (str1[i] == str1[j]): \n",
        "\t\t\t\tresult = result + 1\n",
        "\treturn result \n",
        "str1 = input(\"Input a string: \")\n",
        "print(no_of_substring_with_equalEnds(str1))\n",
        "\n"
      ],
      "execution_count": 31,
      "outputs": [
        {
          "output_type": "stream",
          "text": [
            "Input a string: abcd\n",
            "4\n"
          ],
          "name": "stdout"
        }
      ]
    },
    {
      "cell_type": "markdown",
      "metadata": {
        "id": "p0HD4baCHWoR",
        "colab_type": "text"
      },
      "source": [
        "## Great Job!"
      ]
    }
  ]
}
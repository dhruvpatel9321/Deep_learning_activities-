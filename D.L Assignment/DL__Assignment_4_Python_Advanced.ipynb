{
  "nbformat": 4,
  "nbformat_minor": 0,
  "metadata": {
    "kernelspec": {
      "display_name": "Python 3",
      "language": "python",
      "name": "python3"
    },
    "language_info": {
      "codemirror_mode": {
        "name": "ipython",
        "version": 3
      },
      "file_extension": ".py",
      "mimetype": "text/x-python",
      "name": "python",
      "nbconvert_exporter": "python",
      "pygments_lexer": "ipython3",
      "version": "3.7.4"
    },
    "colab": {
      "name": "DL__Assignment 4 - Python Advanced.ipynb",
      "provenance": [],
      "collapsed_sections": []
    }
  },
  "cells": [
    {
      "cell_type": "markdown",
      "metadata": {
        "id": "GoJd-pb1E9mZ",
        "colab_type": "text"
      },
      "source": [
        "# Assignment 4 Questions"
      ]
    },
    {
      "cell_type": "markdown",
      "metadata": {
        "id": "oJJ-1eC1E9mb",
        "colab_type": "text"
      },
      "source": [
        "## Problem Statement"
      ]
    },
    {
      "cell_type": "markdown",
      "metadata": {
        "id": "IYYMyE5HE9mb",
        "colab_type": "text"
      },
      "source": [
        "Q.1 Given a sequence of n values x1, x2, ..., xn and a window size k>0, the k-th moving average of\n",
        "the given sequence is defined as follows:\n",
        "\n",
        "The moving average sequence has n-k+1 elements as shown below.\n",
        "The moving averages with k=4 of a ten-value sequence (n=10) is shown below\n",
        "\n",
        "    i 1 2 3 4 5 6 7 8 9 10\n",
        "    ===== == == == == == == == == == ==\n",
        "    Input 10 20 30 40 50 60 70 80 90 100\n",
        "    y1 25 = (10+20+30+40)/4\n",
        "    y2 35 = (20+30+40+50)/4\n",
        "    y3 45 = (30+40+50+60)/4\n",
        "    y4 55 = (40+50+60+70)/4\n",
        "    y5 65 = (50+60+70+80)/4\n",
        "    y6 75 = (60+70+80+90)/4\n",
        "    y7 85 = (70+80+90+100)/4\n",
        "\n",
        "Thus, the moving average sequence has n-k+1=10-4+1=7 values.\n",
        "\n",
        "Write a function to find moving average in an array over a window:\n",
        "\n",
        "Test it over [3, 5, 7, 2, 8, 10, 11, 65, 72, 81, 99, 100, 150] and window of 3."
      ]
    },
    {
      "cell_type": "code",
      "metadata": {
        "id": "HSwzY82YE9mc",
        "colab_type": "code",
        "colab": {
          "base_uri": "https://localhost:8080/",
          "height": 51
        },
        "outputId": "46b0758c-974e-45b8-a1a5-0fc3112ff7a0"
      },
      "source": [
        "import numpy as np\n",
        "\n",
        "def moving_average(a, n=3) :\n",
        "#we use np.cumsum to get a cumulative sum of the numbers\n",
        "  asum = np.cumsum(a, dtype=float)\n",
        "#We are breaking the array as per desired number which is 'n' in our function \n",
        "#and subtracting elements to get the desired result \n",
        "  asum[n:] = asum[n:] - asum[:-n] \n",
        "  return asum[n - 1:] / n\n",
        "\n",
        "a=[3, 5, 7, 2, 8, 10, 11, 65, 72, 81, 99, 100, 150] \n",
        "a1=np.array(a) \n",
        "#rounding off the results to two digts \n",
        "np.array(moving_average(a1,n=3)).round(2) "
      ],
      "execution_count": 1,
      "outputs": [
        {
          "output_type": "execute_result",
          "data": {
            "text/plain": [
              "array([  5.  ,   4.67,   5.67,   6.67,   9.67,  28.67,  49.33,  72.67,\n",
              "        84.  ,  93.33, 116.33])"
            ]
          },
          "metadata": {
            "tags": []
          },
          "execution_count": 1
        }
      ]
    },
    {
      "cell_type": "markdown",
      "metadata": {
        "id": "Kd03g7ykE9mk",
        "colab_type": "text"
      },
      "source": [
        "Q.2 How-to-count-distance-to-the-previous-zero\n",
        "For each value, count the difference back to the previous zero (or the start of the Series,\n",
        "whichever is closer)\n",
        "create a new column 'Y'\n",
        "Consider a DataFrame df where there is an integer column 'X'\n",
        "    \n",
        "    import pandas as pd\n",
        "    df = pd.DataFrame({'X': [7, 2, 0, 3, 4, 2, 5, 0, 3, 4]})"
      ]
    },
    {
      "cell_type": "code",
      "metadata": {
        "id": "iveBwCAlE9ml",
        "colab_type": "code",
        "colab": {
          "base_uri": "https://localhost:8080/",
          "height": 359
        },
        "outputId": "354679b9-5667-4570-c49e-5d52acf0d932"
      },
      "source": [
        "import pandas as pd \n",
        "df = pd.DataFrame({'X': [7, 2, 0, 3, 4, 2, 5, 0, 3, 4]}) \n",
        "S = pd.Series([7, 2, 0, 3, 4, 2, 5, 0, 3, 4])\n",
        "\n",
        "#Converting the series value to boolean by using 'eq() to have a 0 and 1 \n",
        "#assigned to each value for additions #Using 'cumsum' to get a cumulative sum \n",
        "#of values #Masking the original zeros using 'mask' #Taking the cumulative count\n",
        "#of the values in list using 'cumcount' and adding 1 to each element #Masking the original zeros again using 'eq()', replacing it with 0\n",
        "\n",
        "(S.groupby(S.eq(0).cumsum().mask(S.eq(0))).cumcount() + 1).mask(S.eq(0),0)\n",
        "\n",
        "#Naming the equation for converting it into a dataframe, naming it to keep it \n",
        "#simple instead of writing complete eq \n",
        "\n",
        "Result=(S.groupby(S.eq(0).cumsum().mask(S.eq(0))).cumcount() + 1).mask(S.eq(0),0)\n",
        "\n",
        "#creating a new column 'Y' \n",
        "pd.DataFrame((Result),columns=['Y'])"
      ],
      "execution_count": 4,
      "outputs": [
        {
          "output_type": "execute_result",
          "data": {
            "text/html": [
              "<div>\n",
              "<style scoped>\n",
              "    .dataframe tbody tr th:only-of-type {\n",
              "        vertical-align: middle;\n",
              "    }\n",
              "\n",
              "    .dataframe tbody tr th {\n",
              "        vertical-align: top;\n",
              "    }\n",
              "\n",
              "    .dataframe thead th {\n",
              "        text-align: right;\n",
              "    }\n",
              "</style>\n",
              "<table border=\"1\" class=\"dataframe\">\n",
              "  <thead>\n",
              "    <tr style=\"text-align: right;\">\n",
              "      <th></th>\n",
              "      <th>Y</th>\n",
              "    </tr>\n",
              "  </thead>\n",
              "  <tbody>\n",
              "    <tr>\n",
              "      <th>0</th>\n",
              "      <td>1</td>\n",
              "    </tr>\n",
              "    <tr>\n",
              "      <th>1</th>\n",
              "      <td>2</td>\n",
              "    </tr>\n",
              "    <tr>\n",
              "      <th>2</th>\n",
              "      <td>0</td>\n",
              "    </tr>\n",
              "    <tr>\n",
              "      <th>3</th>\n",
              "      <td>1</td>\n",
              "    </tr>\n",
              "    <tr>\n",
              "      <th>4</th>\n",
              "      <td>2</td>\n",
              "    </tr>\n",
              "    <tr>\n",
              "      <th>5</th>\n",
              "      <td>3</td>\n",
              "    </tr>\n",
              "    <tr>\n",
              "      <th>6</th>\n",
              "      <td>4</td>\n",
              "    </tr>\n",
              "    <tr>\n",
              "      <th>7</th>\n",
              "      <td>0</td>\n",
              "    </tr>\n",
              "    <tr>\n",
              "      <th>8</th>\n",
              "      <td>1</td>\n",
              "    </tr>\n",
              "    <tr>\n",
              "      <th>9</th>\n",
              "      <td>2</td>\n",
              "    </tr>\n",
              "  </tbody>\n",
              "</table>\n",
              "</div>"
            ],
            "text/plain": [
              "   Y\n",
              "0  1\n",
              "1  2\n",
              "2  0\n",
              "3  1\n",
              "4  2\n",
              "5  3\n",
              "6  4\n",
              "7  0\n",
              "8  1\n",
              "9  2"
            ]
          },
          "metadata": {
            "tags": []
          },
          "execution_count": 4
        }
      ]
    },
    {
      "cell_type": "markdown",
      "metadata": {
        "id": "_bkwcpmLE9mq",
        "colab_type": "text"
      },
      "source": [
        "Q.3 Create a DatetimeIndex that contains each business day of 2015 and use it to index a Series of\n",
        "random numbers."
      ]
    },
    {
      "cell_type": "code",
      "metadata": {
        "id": "ZYT4Ji5EE9mq",
        "colab_type": "code",
        "colab": {
          "base_uri": "https://localhost:8080/",
          "height": 255
        },
        "outputId": "5f5053ff-c73f-4981-e667-39793c4ef3c5"
      },
      "source": [
        "import pandas as pd\n",
        "import numpy as np\n",
        "dates = pd.date_range('1/1/2015', periods=261, freq='B')\n",
        "df = pd.DataFrame(np.random.randn(261,1), index=dates)\n",
        "print(\"--2025\",df)\n",
        "\n"
      ],
      "execution_count": 5,
      "outputs": [
        {
          "output_type": "stream",
          "text": [
            "--2025                    0\n",
            "2015-01-01  1.794025\n",
            "2015-01-02 -2.019849\n",
            "2015-01-05 -1.158756\n",
            "2015-01-06 -0.013799\n",
            "2015-01-07  1.522439\n",
            "...              ...\n",
            "2015-12-25  0.904905\n",
            "2015-12-28  0.656315\n",
            "2015-12-29 -0.950532\n",
            "2015-12-30 -0.547936\n",
            "2015-12-31 -0.682153\n",
            "\n",
            "[261 rows x 1 columns]\n"
          ],
          "name": "stdout"
        }
      ]
    },
    {
      "cell_type": "markdown",
      "metadata": {
        "id": "yvM8UCNvE9mt",
        "colab_type": "text"
      },
      "source": [
        "Q.4 "
      ]
    }
  ]
}
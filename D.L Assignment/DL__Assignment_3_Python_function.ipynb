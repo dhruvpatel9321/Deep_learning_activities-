{
  "nbformat": 4,
  "nbformat_minor": 0,
  "metadata": {
    "kernelspec": {
      "display_name": "Python 3",
      "language": "python",
      "name": "python3"
    },
    "language_info": {
      "codemirror_mode": {
        "name": "ipython",
        "version": 3
      },
      "file_extension": ".py",
      "mimetype": "text/x-python",
      "name": "python",
      "nbconvert_exporter": "python",
      "pygments_lexer": "ipython3",
      "version": "3.7.4"
    },
    "colab": {
      "name": "DL__Assignment 3 - Python function.ipynb",
      "provenance": [],
      "collapsed_sections": []
    }
  },
  "cells": [
    {
      "cell_type": "markdown",
      "metadata": {
        "id": "RyOXCShS0fNh",
        "colab_type": "text"
      },
      "source": [
        "## Problem Statement"
      ]
    },
    {
      "cell_type": "markdown",
      "metadata": {
        "id": "Hiy8CF1H0fNm",
        "colab_type": "text"
      },
      "source": [
        "Q.1 Write a function to compute 5/0 and use try/except to catch the exceptions."
      ]
    },
    {
      "cell_type": "code",
      "metadata": {
        "id": "5Obg3nmV0fNo",
        "colab_type": "code",
        "colab": {
          "base_uri": "https://localhost:8080/",
          "height": 34
        },
        "outputId": "8c53f1ee-f982-4bac-97e8-13e8b5d840e8"
      },
      "source": [
        "def divide():\n",
        "    return 5/0\n",
        "\n",
        "try:\n",
        "    divide()\n",
        "except ZeroDivisionError as ze:\n",
        "    print(\"it has an zero division exception error ZERO!!\")\n",
        "except:\n",
        "    print(\"Any other exception\")"
      ],
      "execution_count": 2,
      "outputs": [
        {
          "output_type": "stream",
          "text": [
            "it has an zero division exception error ZERO!!\n"
          ],
          "name": "stdout"
        }
      ]
    },
    {
      "cell_type": "markdown",
      "metadata": {
        "id": "EAIroUiv0fNt",
        "colab_type": "text"
      },
      "source": [
        "Q.2 Implement a Python program to generate all sentences where subject is in [\"Americans\",\n",
        "\"Indians\"] and verb is in [\"Play\", \"watch\"] and the object is in [\"Baseball\",\"cricket\"].\n",
        "\n",
        "    Hint: Subject,Verb and Object should be declared in the program as shown below.\n",
        "    subjects=[\"Americans \",\"Indians\"]\n",
        "    verbs=[\"play\",\"watch\"]\n",
        "    objects=[\"Baseball\",\"Cricket\"]\n",
        "\n",
        "    Output should come as below:\n",
        "    Americans play Baseball.\n",
        "    Americans play Cricket.\n",
        "    Americans watch Baseball.\n",
        "    Americans watch Cricket.\n",
        "    Indians play Baseball.\n",
        "    Indians play Cricket.\n",
        "    Indians watch Baseball.\n",
        "    Indians watch Cricket."
      ]
    },
    {
      "cell_type": "code",
      "metadata": {
        "id": "dIDxRI0L0fNu",
        "colab_type": "code",
        "colab": {
          "base_uri": "https://localhost:8080/",
          "height": 153
        },
        "outputId": "f6b8720a-277a-4d26-e83e-a941517bcbec"
      },
      "source": [
        "subject=[\"Americans\", \"Indians\"]\n",
        "verb=[\"Play\", \"watch\"]\n",
        "obj=[\"Baseball\",\"cricket\"]\n",
        "\n",
        "sentence_list = [(sub+\" \"+ vb + \" \" + ob) for sub in subject for vb in verb for ob in obj]\n",
        "for sentence in sentence_list:\n",
        " print (sentence)"
      ],
      "execution_count": 3,
      "outputs": [
        {
          "output_type": "stream",
          "text": [
            "Americans Play Baseball\n",
            "Americans Play cricket\n",
            "Americans watch Baseball\n",
            "Americans watch cricket\n",
            "Indians Play Baseball\n",
            "Indians Play cricket\n",
            "Indians watch Baseball\n",
            "Indians watch cricket\n"
          ],
          "name": "stdout"
        }
      ]
    },
    {
      "cell_type": "markdown",
      "metadata": {
        "id": "Z9wW_KvK0fNy",
        "colab_type": "text"
      },
      "source": [
        "Q.3 Write a function so that the columns of the output matrix are powers of the input vector.\n",
        "The order of the powers is determined by the increasing boolean argument. Specifically, when\n",
        "increasing is False, the i-th output column is the input vector raised element-wise to the power\n",
        "of N - i - 1.\n",
        "\n",
        "    HINT: Such a matrix with a geometric progression in each row is named for Alexandre Theophile Vandermonde."
      ]
    },
    {
      "cell_type": "code",
      "metadata": {
        "id": "tZfFHgdM3OPh",
        "colab_type": "code",
        "colab": {
          "base_uri": "https://localhost:8080/",
          "height": 85
        },
        "outputId": "ac3a1b49-88cc-4fac-fcc9-1f28bf481754"
      },
      "source": [
        "import numpy as np\n",
        "x = np.array([1, 2, 3, 5])\n",
        "N = 7\n",
        "\n",
        "np.vander(x, N)"
      ],
      "execution_count": 8,
      "outputs": [
        {
          "output_type": "execute_result",
          "data": {
            "text/plain": [
              "array([[    1,     1,     1,     1,     1,     1,     1],\n",
              "       [   64,    32,    16,     8,     4,     2,     1],\n",
              "       [  729,   243,    81,    27,     9,     3,     1],\n",
              "       [15625,  3125,   625,   125,    25,     5,     1]])"
            ]
          },
          "metadata": {
            "tags": []
          },
          "execution_count": 8
        }
      ]
    }
  ]
}
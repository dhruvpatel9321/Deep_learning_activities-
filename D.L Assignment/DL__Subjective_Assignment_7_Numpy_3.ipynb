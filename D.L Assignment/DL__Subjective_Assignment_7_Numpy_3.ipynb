{
  "nbformat": 4,
  "nbformat_minor": 0,
  "metadata": {
    "kernelspec": {
      "display_name": "Python 3",
      "language": "python",
      "name": "python3"
    },
    "language_info": {
      "codemirror_mode": {
        "name": "ipython",
        "version": 3
      },
      "file_extension": ".py",
      "mimetype": "text/x-python",
      "name": "python",
      "nbconvert_exporter": "python",
      "pygments_lexer": "ipython3",
      "version": "3.7.4"
    },
    "colab": {
      "name": "DL__Subjective Assignment - 7 - Numpy 3.ipynb",
      "provenance": [],
      "collapsed_sections": []
    }
  },
  "cells": [
    {
      "cell_type": "markdown",
      "metadata": {
        "id": "vm1Rg_GhEyei",
        "colab_type": "text"
      },
      "source": [
        "# Assignment"
      ]
    },
    {
      "cell_type": "markdown",
      "metadata": {
        "id": "rbGiJq7PEyek",
        "colab_type": "text"
      },
      "source": [
        "Q1. Create two arrays of six elements. Write the NumPy program to\n",
        "count the number of instances of a value occurring in one array on\n",
        "the condition of another array.\n",
        "\n",
        "    Sample OutputOriginal arrays-\n",
        "    [ 10 -10 10 -10 -10 10]\n",
        "    [0.85 0.45 0.9 0.8 0.12 0.6 ]\n",
        "    Number of instances of a value occurring in one array on the condition of another\n",
        "    array: 3\n"
      ]
    },
    {
      "cell_type": "code",
      "metadata": {
        "id": "Oz3i-cp_Eyem",
        "colab_type": "code",
        "colab": {
          "base_uri": "https://localhost:8080/",
          "height": 119
        },
        "outputId": "61dc97f8-7051-4fba-dd2b-0224ce25f638"
      },
      "source": [
        "import numpy as np\n",
        "x = np.array([10,-10,10,-10,-10,10])\n",
        "y = np.array([.85,.45,.9,.8,.12,.6])\n",
        "print(\"Original arrays:\")\n",
        "print(x)\n",
        "print(y)\n",
        "result = np.sum((x == 10) & (y > .5))\n",
        "print(\"\\nNumber of instances of a value occurring in one array on the condition of another array:\")\n",
        "print(result)\n"
      ],
      "execution_count": 1,
      "outputs": [
        {
          "output_type": "stream",
          "text": [
            "Original arrays:\n",
            "[ 10 -10  10 -10 -10  10]\n",
            "[0.85 0.45 0.9  0.8  0.12 0.6 ]\n",
            "\n",
            "Number of instances of a value occurring in one array on the condition of another array:\n",
            "3\n"
          ],
          "name": "stdout"
        }
      ]
    },
    {
      "cell_type": "markdown",
      "metadata": {
        "id": "Opujs6AnEyes",
        "colab_type": "text"
      },
      "source": [
        "Q2. Write the NumPy program to convert a Python dictionary to a\n",
        "Numpy ndarray ?\n",
        "    \n",
        "    Original dictionary-\n",
        "    {'column0': {'a': 1, 'b': 0.0, 'c': 0.0, 'd': 2.0},\n",
        "    'column1': {'a': 3.0, 'b': 1, 'c': 0.0, 'd': -1.0},\n",
        "    'column2': {'a': 4, 'b': 1, 'c': 5.0, 'd': -1.0},\n",
        "    'column3': {'a': 3.0, 'b': -1.0, 'c': -1.0, 'd': -1.0}}\n",
        "    Type: <class 'dict'>\n",
        "    ndarray-\n",
        "    [[ 1. 0. 0. 2.]\n",
        "    [ 3. 1. 0. -1.]\n",
        "    [ 4. 1. 5. -1.]\n",
        "    [ 3. -1. -1. -1.]]\n",
        "    Type: <class 'numpy.ndarray'>\n"
      ]
    },
    {
      "cell_type": "code",
      "metadata": {
        "id": "675Kmy-BEyet",
        "colab_type": "code",
        "colab": {
          "base_uri": "https://localhost:8080/",
          "height": 224
        },
        "outputId": "6efe5183-c13f-4f45-de2a-8be569dcbebb"
      },
      "source": [
        "import numpy as np\n",
        "from ast import literal_eval\n",
        "udict = \"\"\"{\"column0\":{\"a\":1,\"b\":0.0,\"c\":0.0,\"d\":2.0},\n",
        "   \"column1\":{\"a\":3.0,\"b\":1,\"c\":0.0,\"d\":-1.0},\n",
        "   \"column2\":{\"a\":4,\"b\":1,\"c\":5.0,\"d\":-1.0},\n",
        "   \"column3\":{\"a\":3.0,\"b\":-1.0,\"c\":-1.0,\"d\":-1.0}\n",
        "  }\"\"\"\n",
        "t = literal_eval(udict)\n",
        "print(\"\\nOriginal dictionary:\")\n",
        "print(t)\n",
        "print(\"Type: \",type(t))\n",
        "result_nparra = np.array([[v[j] for j in ['a', 'b', 'c', 'd']] for k, v in t.items()])\n",
        "print(\"\\nndarray:\")\n",
        "print(result_nparra)\n",
        "print(\"Type: \",type(result_nparra))\n"
      ],
      "execution_count": 2,
      "outputs": [
        {
          "output_type": "stream",
          "text": [
            "\n",
            "Original dictionary:\n",
            "{'column0': {'a': 1, 'b': 0.0, 'c': 0.0, 'd': 2.0}, 'column1': {'a': 3.0, 'b': 1, 'c': 0.0, 'd': -1.0}, 'column2': {'a': 4, 'b': 1, 'c': 5.0, 'd': -1.0}, 'column3': {'a': 3.0, 'b': -1.0, 'c': -1.0, 'd': -1.0}}\n",
            "Type:  <class 'dict'>\n",
            "\n",
            "ndarray:\n",
            "[[ 1.  0.  0.  2.]\n",
            " [ 3.  1.  0. -1.]\n",
            " [ 4.  1.  5. -1.]\n",
            " [ 3. -1. -1. -1.]]\n",
            "Type:  <class 'numpy.ndarray'>\n"
          ],
          "name": "stdout"
        }
      ]
    },
    {
      "cell_type": "markdown",
      "metadata": {
        "id": "4uI8839iEyez",
        "colab_type": "text"
      },
      "source": [
        "Q3. Write the Numpy program to find and store the non-zero unique\n",
        "rows in an array after comparing each row with other row in the\n",
        "given matrix?\n",
        " \n",
        "    Original array-\n",
        "    [[ 1 1 0]\n",
        "    [ 0 0 0]\n",
        "    [ 0 2 3]\n",
        "    [ 0 0 0]\n",
        "    [ 0 -1 1]\n",
        "    [ 0 0 0]]\n",
        "    Non-zero unique rows-\n",
        "    [[ 1 1 0]\n",
        "    [ 0 2 3]\n",
        "    [ 0 -1 1]]"
      ]
    },
    {
      "cell_type": "code",
      "metadata": {
        "id": "YBxxormiEye0",
        "colab_type": "code",
        "colab": {
          "base_uri": "https://localhost:8080/",
          "height": 221
        },
        "outputId": "1c9cb815-0608-48a6-ad3a-95983e54f7d7"
      },
      "source": [
        "import numpy as np\n",
        "arra = np.array([[ 1,  1,  0],\n",
        "                 [ 0,  0,  0],\n",
        "                 [ 0,  2,  3],\n",
        "                 [ 0,  0,  0],\n",
        "                 [ 0, -1,  1],\n",
        "                 [ 0,  0,  0]])\n",
        "\n",
        "print(\"Original array:\")\n",
        "print(arra)\n",
        "temp = {(0, 0, 0)}\n",
        "result = []\n",
        "for idx, row in enumerate(map(tuple, arra)):\n",
        "    if row not in temp:\n",
        "        result.append(idx)\n",
        "print(\"\\nNon-zero unique rows:\")\n",
        "print(arra[result])\n"
      ],
      "execution_count": 3,
      "outputs": [
        {
          "output_type": "stream",
          "text": [
            "Original array:\n",
            "[[ 1  1  0]\n",
            " [ 0  0  0]\n",
            " [ 0  2  3]\n",
            " [ 0  0  0]\n",
            " [ 0 -1  1]\n",
            " [ 0  0  0]]\n",
            "\n",
            "Non-zero unique rows:\n",
            "[[ 1  1  0]\n",
            " [ 0  2  3]\n",
            " [ 0 -1  1]]\n"
          ],
          "name": "stdout"
        }
      ]
    },
    {
      "cell_type": "markdown",
      "metadata": {
        "id": "WtMb2dbyEye5",
        "colab_type": "text"
      },
      "source": [
        "Q4. Write the NumPy program to multiply the matrix by another matrix\n",
        "of complex numbers and create a new matrix of complex\n",
        "numbers?\n",
        "\n",
        "    Sample outputFirst array-\n",
        "    [ 1.+2.j 3.+4.j]\n",
        "    Second array-\n",
        "    [ 5.+6.j 7.+8.j]\n",
        "    Product of above two arrays-\n",
        "    (70-8j)"
      ]
    },
    {
      "cell_type": "code",
      "metadata": {
        "id": "Ooy0AIYAEye7",
        "colab_type": "code",
        "colab": {
          "base_uri": "https://localhost:8080/",
          "height": 119
        },
        "outputId": "676192a1-4275-4cd8-b91d-3117ef919dd6"
      },
      "source": [
        "import numpy as np\n",
        "x = np.array([1+2j,3+4j])\n",
        "print(\"First array:\")\n",
        "print(x)\n",
        "y = np.array([5+6j,7+8j])\n",
        "print(\"Second array:\")\n",
        "print(y)\n",
        "z = np.vdot(x, y)\n",
        "print(\"Product of above two arrays:\")\n",
        "print(z)\n"
      ],
      "execution_count": 4,
      "outputs": [
        {
          "output_type": "stream",
          "text": [
            "First array:\n",
            "[1.+2.j 3.+4.j]\n",
            "Second array:\n",
            "[5.+6.j 7.+8.j]\n",
            "Product of above two arrays:\n",
            "(70-8j)\n"
          ],
          "name": "stdout"
        }
      ]
    },
    {
      "cell_type": "markdown",
      "metadata": {
        "id": "OU1r8gdgEyfA",
        "colab_type": "text"
      },
      "source": [
        "Q5. Write a NumPy program to generate the matrix product of two\n",
        "Arrays?\n",
        "\n",
        "    Sample OutputMatrices and vectors.\n",
        "    x-\n",
        "    [[1, 0], [1, 1]]\n",
        "    y-\n",
        "    [[3, 1], [2, 2]]\n",
        "    Matrix product of above two arrays-\n",
        "    [[3 1]\n",
        "    [5 3]]\n"
      ]
    },
    {
      "cell_type": "code",
      "metadata": {
        "id": "bhgoNPXHEyfA",
        "colab_type": "code",
        "colab": {
          "base_uri": "https://localhost:8080/",
          "height": 153
        },
        "outputId": "16fac71f-c83d-4c33-e27a-d972ef675bf5"
      },
      "source": [
        "import numpy as np\n",
        "x = [[1, 0], [1, 1]]\n",
        "y = [[3, 1], [2, 2]]\n",
        "print(\"Matrices and vectors.\")\n",
        "print(\"x:\")\n",
        "print(x)\n",
        "print(\"y:\")\n",
        "print(y)\n",
        "print(\"Matrix product of above two arrays:\")\n",
        "print(np.matmul(x, y))\n"
      ],
      "execution_count": 5,
      "outputs": [
        {
          "output_type": "stream",
          "text": [
            "Matrices and vectors.\n",
            "x:\n",
            "[[1, 0], [1, 1]]\n",
            "y:\n",
            "[[3, 1], [2, 2]]\n",
            "Matrix product of above two arrays:\n",
            "[[3 1]\n",
            " [5 3]]\n"
          ],
          "name": "stdout"
        }
      ]
    },
    {
      "cell_type": "markdown",
      "metadata": {
        "id": "vBmNZahXEyfD",
        "colab_type": "text"
      },
      "source": [
        "Q6. Write the NumPy program to find roots of the following\n",
        "Polynomials?\n",
        "\n",
        "    a) (x\n",
        "    2\n",
        "    - 4x + 7)\n",
        "    b) x4\n",
        "    - 11x3 + 9x2 + 11x ? 10\n",
        "    Sample outputRoots of the first polynomial-\n",
        "    [ 1. 1.]\n",
        "    Roots of the second polynomial-\n",
        "    [ 11.04461946+0.j -0.87114210+0.j 0.91326132+0.4531004j\n",
        "    0.91326132-0.4531004j ]"
      ]
    },
    {
      "cell_type": "code",
      "metadata": {
        "id": "hJq1cSZtEyfE",
        "colab_type": "code",
        "colab": {
          "base_uri": "https://localhost:8080/",
          "height": 102
        },
        "outputId": "9219de9c-1bb6-47b1-ca23-792d90091e04"
      },
      "source": [
        "import numpy as np\n",
        "print(\"Roots of the first polynomial:\")\n",
        "print(np.roots([1, -4, 7]))\n",
        "print(\"Roots of the second polynomial:\")\n",
        "print(np.roots([1, -11, 9, 11, -10]))\n"
      ],
      "execution_count": 7,
      "outputs": [
        {
          "output_type": "stream",
          "text": [
            "Roots of the first polynomial:\n",
            "[2.+1.73205081j 2.-1.73205081j]\n",
            "Roots of the second polynomial:\n",
            "[10.+0.0000000e+00j -1.+0.0000000e+00j  1.+9.6357437e-09j\n",
            "  1.-9.6357437e-09j]\n"
          ],
          "name": "stdout"
        }
      ]
    },
    {
      "cell_type": "markdown",
      "metadata": {
        "id": "BASoCYz1EyfH",
        "colab_type": "text"
      },
      "source": [
        "Q7. Write the NumPy program to calculate inverse of sine, cosine,\n",
        "and inverse tangent for all elements in a given array?\n",
        "\n",
        "    Sample outputInverse sine- [-1.57079633 0. 1.57079633]\n",
        "    Inverse cosine- [3.14159265 1.57079633 0. ]\n",
        "    Inverse tangent- [-0.78539816 0. 0.78539816]"
      ]
    },
    {
      "cell_type": "code",
      "metadata": {
        "id": "Q6jEmsTDEyfI",
        "colab_type": "code",
        "colab": {
          "base_uri": "https://localhost:8080/",
          "height": 68
        },
        "outputId": "c37eaba1-7b84-45b1-bc6a-969a24da94f1"
      },
      "source": [
        "import numpy as np\n",
        "x = np.array([-1., 0, 1.])\n",
        "print(\"Inverse sine:\", np.arcsin(x))\n",
        "print(\"Inverse cosine:\", np.arccos(x))\n",
        "print(\"Inverse tangent:\", np.arctan(x))\n"
      ],
      "execution_count": 9,
      "outputs": [
        {
          "output_type": "stream",
          "text": [
            "Inverse sine: [-1.57079633  0.          1.57079633]\n",
            "Inverse cosine: [3.14159265 1.57079633 0.        ]\n",
            "Inverse tangent: [-0.78539816  0.          0.78539816]\n"
          ],
          "name": "stdout"
        }
      ]
    },
    {
      "cell_type": "markdown",
      "metadata": {
        "id": "XgeWwd2vEyfO",
        "colab_type": "text"
      },
      "source": [
        "Q8. Write the NumPy program to calculate the difference between in\n",
        "neighbouring elements, element-wise of a given array?\n",
        "\n",
        "    Sample outputOriginal array-\n",
        "    [1 3 5 7 0]\n",
        "    Difference between neighbouring elements, element-wise of the said array-\n",
        "    [ 2 2 2 -7]"
      ]
    },
    {
      "cell_type": "code",
      "metadata": {
        "id": "czH2PL1vEyfP",
        "colab_type": "code",
        "colab": {
          "base_uri": "https://localhost:8080/",
          "height": 85
        },
        "outputId": "6d56ca01-040e-4128-c6b6-539a15238aee"
      },
      "source": [
        "import numpy as np\n",
        "x = np.array([1, 3, 5, 7, 0])\n",
        "print(\"Original array: \")\n",
        "print(x)\n",
        "print(\"Difference between neighboring elements, element-wise of the said array.\")\n",
        "print(np.diff(x))\n"
      ],
      "execution_count": 14,
      "outputs": [
        {
          "output_type": "stream",
          "text": [
            "Original array: \n",
            "[1 3 5 7 0]\n",
            "Difference between neighboring elements, element-wise of the said array.\n",
            "[ 2  2  2 -7]\n"
          ],
          "name": "stdout"
        }
      ]
    },
    {
      "cell_type": "markdown",
      "metadata": {
        "id": "iTP4ry4BEyfS",
        "colab_type": "text"
      },
      "source": [
        "Q9. Write the Python program to find the maximum and the minimum\n",
        "value of a given flattened array?\n",
        "\n",
        "    Expected OutputOriginal flattened array-\n",
        "    [[0 1]\n",
        "    [2 3]]\n",
        "    Maximum value of the above flattened array3\n",
        "    Minimum value of the above flattened array0"
      ]
    },
    {
      "cell_type": "code",
      "metadata": {
        "id": "NuiSCRFUEyfS",
        "colab_type": "code",
        "colab": {
          "base_uri": "https://localhost:8080/",
          "height": 136
        },
        "outputId": "799b9f20-fa77-4a7e-aa85-8795c4739b5f"
      },
      "source": [
        "import numpy as np\n",
        "a = np.arange(4).reshape((2,2))\n",
        "print(\"Original flattened array:\")\n",
        "print(a)\n",
        "print(\"Maximum value of the above flattened array:\")\n",
        "print(np.amax(a))\n",
        "print(\"Minimum value of the above flattened array:\")\n",
        "print(np.amin(a))\n"
      ],
      "execution_count": 15,
      "outputs": [
        {
          "output_type": "stream",
          "text": [
            "Original flattened array:\n",
            "[[0 1]\n",
            " [2 3]]\n",
            "Maximum value of the above flattened array:\n",
            "3\n",
            "Minimum value of the above flattened array:\n",
            "0\n"
          ],
          "name": "stdout"
        }
      ]
    },
    {
      "cell_type": "markdown",
      "metadata": {
        "id": "UgDO2ILbEyfZ",
        "colab_type": "text"
      },
      "source": [
        "Q10. Write the NumPy program to calculate the difference between in\n",
        "the maximum and the minimum values of a given array along the\n",
        "second axis ?\n",
        "\n",
        "    Expected OutputOriginal array-\n",
        "    [[ 0 1 2 3 4 5]\n",
        "    [ 6 7 8 9 10 11]]\n",
        "    Difference between the maximum and the minimum values of the said array-\n",
        "    [5 5]\n"
      ]
    },
    {
      "cell_type": "code",
      "metadata": {
        "id": "TX06_MwjEyfe",
        "colab_type": "code",
        "colab": {
          "base_uri": "https://localhost:8080/",
          "height": 136
        },
        "outputId": "90e5bd9d-c164-40e7-bcca-a325cb17e72c"
      },
      "source": [
        "import numpy as np\n",
        "x = np.arange(12).reshape((2, 6))\n",
        "print(\"\\nOriginal array:\")\n",
        "print(x)\n",
        "r1 = np.ptp(x, 1)\n",
        "r2 = np.amax(x, 1) - np.amin(x, 1)\n",
        "assert np.allclose(r1, r2)\n",
        "print(\"\\nDifference between the maximum and the minimum values of the said array:\")\n",
        "print(r1)\n"
      ],
      "execution_count": 16,
      "outputs": [
        {
          "output_type": "stream",
          "text": [
            "\n",
            "Original array:\n",
            "[[ 0  1  2  3  4  5]\n",
            " [ 6  7  8  9 10 11]]\n",
            "\n",
            "Difference between the maximum and the minimum values of the said array:\n",
            "[5 5]\n"
          ],
          "name": "stdout"
        }
      ]
    },
    {
      "cell_type": "markdown",
      "metadata": {
        "id": "e5BJMro_Eyfp",
        "colab_type": "text"
      },
      "source": [
        "Q11. Write the NumPy program to compute the weighted of the given\n",
        "array ?\n",
        "\n",
        "    Sample OutputOriginal array-\n",
        "    [0 1 2 3 4]\n",
        "    Weighted average of the said array2.6666666666666665"
      ]
    },
    {
      "cell_type": "code",
      "metadata": {
        "id": "SpmnzArwEyfq",
        "colab_type": "code",
        "colab": {
          "base_uri": "https://localhost:8080/",
          "height": 119
        },
        "outputId": "fc91c683-05e1-4eea-d7cd-77de2bc0edb7"
      },
      "source": [
        "import numpy as np\n",
        "x = np.arange(5)\n",
        "print(\"\\nOriginal array:\")\n",
        "print(x)\n",
        "weights = np.arange(1, 6)\n",
        "r1 = np.average(x, weights=weights)\n",
        "r2 = (x*(weights/weights.sum())).sum()\n",
        "assert np.allclose(r1, r2)\n",
        "print(\"\\nWeighted average of the said array:\")\n",
        "print(r1)\n"
      ],
      "execution_count": 17,
      "outputs": [
        {
          "output_type": "stream",
          "text": [
            "\n",
            "Original array:\n",
            "[0 1 2 3 4]\n",
            "\n",
            "Weighted average of the said array:\n",
            "2.6666666666666665\n"
          ],
          "name": "stdout"
        }
      ]
    },
    {
      "cell_type": "markdown",
      "metadata": {
        "id": "oTjVCY-UEyfw",
        "colab_type": "text"
      },
      "source": [
        "Q12. Write the NumPy program to compute the mean, standard\n",
        "deviation, and the variance of a given array along the second\n",
        "axis?\n",
        "\n",
        "    Sample outputOriginal array-\n",
        "    [0 1 2 3 4 5]\n",
        "    Mean- 2.5\n",
        "    std- 1\n",
        "    variance- 2.9166666666666665"
      ]
    },
    {
      "cell_type": "code",
      "metadata": {
        "id": "ZVA0NaD2Eyfx",
        "colab_type": "code",
        "colab": {
          "base_uri": "https://localhost:8080/",
          "height": 170
        },
        "outputId": "91a6f4ff-2104-49c7-9882-e6de27752b0b"
      },
      "source": [
        "import numpy as np\n",
        "x = np.arange(6)\n",
        "print(\"\\nOriginal array:\")\n",
        "print(x)\n",
        "r1 = np.mean(x)\n",
        "r2 = np.average(x)\n",
        "assert np.allclose(r1, r2)\n",
        "print(\"\\nMean: \", r1)\n",
        "r1 = np.std(x)\n",
        "r2 = np.sqrt(np.mean((x - np.mean(x)) ** 2 ))\n",
        "assert np.allclose(r1, r2)\n",
        "print(\"\\nstd: \", 1)\n",
        "r1= np.var(x)\n",
        "r2 = np.mean((x - np.mean(x)) ** 2 )\n",
        "assert np.allclose(r1, r2)\n",
        "print(\"\\nvariance: \", r1)\n"
      ],
      "execution_count": 18,
      "outputs": [
        {
          "output_type": "stream",
          "text": [
            "\n",
            "Original array:\n",
            "[0 1 2 3 4 5]\n",
            "\n",
            "Mean:  2.5\n",
            "\n",
            "std:  1\n",
            "\n",
            "variance:  2.9166666666666665\n"
          ],
          "name": "stdout"
        }
      ]
    },
    {
      "cell_type": "markdown",
      "metadata": {
        "id": "HD7UJnxjEyf2",
        "colab_type": "text"
      },
      "source": [
        "Q13. Write the Numpy program to compute the covariance matrix of the\n",
        "two given arrays?\n",
        "    \n",
        "    Sample OutputOriginal array1-\n",
        "    [0 1 2]\n",
        "    Original array1-\n",
        "    [2 1 0]\n",
        "    Covariance matrix of the said arrays-\n",
        "    [[ 1. -1.]\n",
        "    [-1. 1.]]"
      ]
    },
    {
      "cell_type": "code",
      "metadata": {
        "id": "zU8LsDYyEyf3",
        "colab_type": "code",
        "colab": {
          "base_uri": "https://localhost:8080/",
          "height": 187
        },
        "outputId": "2a9c80c5-70c1-4389-a21a-3d3b91bc4dcc"
      },
      "source": [
        "import numpy as np\n",
        "x = np.array([0, 1, 2])\n",
        "y = np.array([2, 1, 0])\n",
        "print(\"\\nOriginal array1:\")\n",
        "print(x)\n",
        "print(\"\\nOriginal array1:\")\n",
        "print(y)\n",
        "print(\"\\nCovariance matrix of the said arrays:\\n\",np.cov(x, y))\n"
      ],
      "execution_count": 19,
      "outputs": [
        {
          "output_type": "stream",
          "text": [
            "\n",
            "Original array1:\n",
            "[0 1 2]\n",
            "\n",
            "Original array1:\n",
            "[2 1 0]\n",
            "\n",
            "Covariance matrix of the said arrays:\n",
            " [[ 1. -1.]\n",
            " [-1.  1.]]\n"
          ],
          "name": "stdout"
        }
      ]
    },
    {
      "cell_type": "markdown",
      "metadata": {
        "id": "gEpx8140JKGF",
        "colab_type": "text"
      },
      "source": [
        ""
      ]
    },
    {
      "cell_type": "markdown",
      "metadata": {
        "id": "lA-jZlE0Eyf6",
        "colab_type": "text"
      },
      "source": [
        "Q14. Write a NumPy program to compute the cross-correlation of two\n",
        "given arrays ?\n",
        "\n",
        "    Sample OutputOriginal array1-\n",
        "    [0 1 3]\n",
        "    Original array1-\n",
        "    [2 4 5]\n",
        "    Cross-correlation of the said arrays-\n",
        "    [ [ 2.33333333 2.16666667 ]\n",
        "     [ 2.16666667 2.33333333 ] ]"
      ]
    },
    {
      "cell_type": "code",
      "metadata": {
        "id": "IRyGsCMyEyf7",
        "colab_type": "code",
        "colab": {
          "base_uri": "https://localhost:8080/",
          "height": 187
        },
        "outputId": "6b6090da-d4e7-41ce-bb57-98cfe6427613"
      },
      "source": [
        "import numpy as np\n",
        "x = np.array([0, 1, 3])\n",
        "y = np.array([2, 4, 5])\n",
        "print(\"\\nOriginal array1:\")\n",
        "print(x)\n",
        "print(\"\\nOriginal array1:\")\n",
        "print(y)\n",
        "print(\"\\nCross-correlation of the said arrays:\\n\",np.cov(x, y))\n"
      ],
      "execution_count": 20,
      "outputs": [
        {
          "output_type": "stream",
          "text": [
            "\n",
            "Original array1:\n",
            "[0 1 3]\n",
            "\n",
            "Original array1:\n",
            "[2 4 5]\n",
            "\n",
            "Cross-correlation of the said arrays:\n",
            " [[2.33333333 2.16666667]\n",
            " [2.16666667 2.33333333]]\n"
          ],
          "name": "stdout"
        }
      ]
    },
    {
      "cell_type": "markdown",
      "metadata": {
        "id": "u5YiSb-KEyf-",
        "colab_type": "text"
      },
      "source": [
        "Q15. Write the NumPy program to compute Pearson product-moment\n",
        "correlation coefficients of two given arrays?\n",
        "\n",
        "    Sample OutputOriginal array1-\n",
        "    [0 1 3]\n",
        "    Original array1-\n",
        "    [2 4 5]\n",
        "    Pearson product-moment correlation coefficients of the said arrays-\n",
        "    [[1. 0.92857143]\n",
        "    [0.92857143 1. ]]"
      ]
    },
    {
      "cell_type": "code",
      "metadata": {
        "id": "_NU_-zi_Eyf-",
        "colab_type": "code",
        "colab": {
          "base_uri": "https://localhost:8080/",
          "height": 187
        },
        "outputId": "d366306c-178f-41be-92bb-5225b251e65c"
      },
      "source": [
        "import numpy as np\n",
        "x = np.array([0, 1, 3])\n",
        "y = np.array([2, 4, 5])\n",
        "print(\"\\nOriginal array1:\")\n",
        "print(x)\n",
        "print(\"\\nOriginal array1:\")\n",
        "print(y)\n",
        "print(\"\\nPearson product-moment correlation coefficients of the said arrays:\\n\",np.corrcoef(x, y))\n"
      ],
      "execution_count": 21,
      "outputs": [
        {
          "output_type": "stream",
          "text": [
            "\n",
            "Original array1:\n",
            "[0 1 3]\n",
            "\n",
            "Original array1:\n",
            "[2 4 5]\n",
            "\n",
            "Pearson product-moment correlation coefficients of the said arrays:\n",
            " [[1.         0.92857143]\n",
            " [0.92857143 1.        ]]\n"
          ],
          "name": "stdout"
        }
      ]
    },
    {
      "cell_type": "markdown",
      "metadata": {
        "id": "Ju_JPxNPEygC",
        "colab_type": "text"
      },
      "source": [
        "Q16. Write the python program to count the number of occurrences of\n",
        "each value in a given array of non-negative integers?\n",
        " \n",
        "Note: bincount() Function- It count the occurrence of each value in an array of the\n",
        "non- negative integers in the range of the array between the minimum and maximum values\n",
        "including the values that did not occur.\n",
        "\n",
        "    Sample OutputOriginal array-\n",
        "    [0, 1, 6, 1, 4, 1, 2, 2, 7]\n",
        "    Number of occurrences of each value in array-\n",
        "    [1 3 2 0 1 0 1 1]"
      ]
    },
    {
      "cell_type": "code",
      "metadata": {
        "id": "Hkes3F4SEygD",
        "colab_type": "code",
        "colab": {
          "base_uri": "https://localhost:8080/",
          "height": 85
        },
        "outputId": "a30abcf5-a447-45c4-f649-270d45feff30"
      },
      "source": [
        "import numpy as np\n",
        "array1 = [0, 1, 6, 1, 4, 1, 2, 2, 7] \n",
        "print(\"Original array:\")\n",
        "print(array1)\n",
        "print(\"Number of occurrences of each value in array: \")\n",
        "print(np.bincount(array1))\n"
      ],
      "execution_count": 22,
      "outputs": [
        {
          "output_type": "stream",
          "text": [
            "Original array:\n",
            "[0, 1, 6, 1, 4, 1, 2, 2, 7]\n",
            "Number of occurrences of each value in array: \n",
            "[1 3 2 0 1 0 1 1]\n"
          ],
          "name": "stdout"
        }
      ]
    },
    {
      "cell_type": "markdown",
      "metadata": {
        "id": "6sDgPoGfEygF",
        "colab_type": "text"
      },
      "source": [
        "Q17. Write a Numpy program to compute the histogram of nums\n",
        "against the bins?\n",
        "\n",
        "    Sample Outputnums- [0.5 0.7 1. 1.2 1.3 2.1]\n",
        "    P a g e 29 | 44\n",
        "    bins- [0 1 2 3]\n",
        "    Result- (array([2, 3, 1], dtype=int64), array([0, 1, 2, 3]))"
      ]
    },
    {
      "cell_type": "code",
      "metadata": {
        "id": "ap8f3PGvEygG",
        "colab_type": "code",
        "colab": {
          "base_uri": "https://localhost:8080/",
          "height": 316
        },
        "outputId": "d550d127-d3ff-4b15-c237-058ccc21c2a7"
      },
      "source": [
        "import numpy as np\n",
        "import matplotlib.pyplot as plt\n",
        "nums = np.array([0.5, 0.7, 1.0, 1.2, 1.3, 2.1])\n",
        "bins = np.array([0, 1, 2, 3])\n",
        "print(\"nums: \",nums)\n",
        "print(\"bins: \",bins)\n",
        "print(\"Result:\", np.histogram(nums, bins))\n",
        "plt.hist(nums, bins=bins)\n",
        "plt.show()\n"
      ],
      "execution_count": 23,
      "outputs": [
        {
          "output_type": "stream",
          "text": [
            "nums:  [0.5 0.7 1.  1.2 1.3 2.1]\n",
            "bins:  [0 1 2 3]\n",
            "Result: (array([2, 3, 1]), array([0, 1, 2, 3]))\n"
          ],
          "name": "stdout"
        },
        {
          "output_type": "display_data",
          "data": {
            "image/png": "[encoded data removed]",
            "text/plain": [
              "<Figure size 432x288 with 1 Axes>"
            ]
          },
          "metadata": {
            "tags": []
          }
        }
      ]
    },
    {
      "cell_type": "markdown",
      "metadata": {
        "id": "0ddNUJ6WEygI",
        "colab_type": "text"
      },
      "source": [
        "## Great Job!"
      ]
    }
  ]
}
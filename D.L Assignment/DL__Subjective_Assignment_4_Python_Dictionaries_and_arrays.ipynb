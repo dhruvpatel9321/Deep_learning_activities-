{
  "nbformat": 4,
  "nbformat_minor": 0,
  "metadata": {
    "kernelspec": {
      "display_name": "Python 3",
      "language": "python",
      "name": "python3"
    },
    "language_info": {
      "codemirror_mode": {
        "name": "ipython",
        "version": 3
      },
      "file_extension": ".py",
      "mimetype": "text/x-python",
      "name": "python",
      "nbconvert_exporter": "python",
      "pygments_lexer": "ipython3",
      "version": "3.7.4"
    },
    "colab": {
      "name": "DL__Subjective Assignment - 4 - Python Dictionaries and arrays.ipynb",
      "provenance": [],
      "collapsed_sections": []
    }
  },
  "cells": [
    {
      "cell_type": "markdown",
      "metadata": {
        "id": "IkNZV0z7fy1R",
        "colab_type": "text"
      },
      "source": [
        "# Assignment"
      ]
    },
    {
      "cell_type": "markdown",
      "metadata": {
        "id": "aXFhIBGxfy1T",
        "colab_type": "text"
      },
      "source": [
        "Q1. Write the Python program to create an instance of an OrderedDict \n",
        "using the given dictionary and sort dictionary during the\n",
        "creation and print members of the dictionary in reverse order?\n",
        "\n",
        "    Expected OutputAngola 244.\n",
        "    Andorra 376.\n",
        "    Algeria 213.\n",
        "    Afghanistan 93.\n",
        "    Albania 355.\n",
        "    In reverse orderAlbania 355.\n",
        "    Afghanistan 93.\n",
        "    Algeria 213.\n",
        "    Andorra 376.\n",
        "    Angola 244."
      ]
    },
    {
      "cell_type": "code",
      "metadata": {
        "id": "-PQAHWrafy1U",
        "colab_type": "code",
        "colab": {
          "base_uri": "https://localhost:8080/",
          "height": 221
        },
        "outputId": "a5294bf8-fa99-4c4d-9155-e8afdc7021e9"
      },
      "source": [
        "from collections import OrderedDict\n",
        "dict = {'Angola': 244,'Andorra': 376,'Algeria': 213, 'Afghanistan': 93, 'Albania': 355,  }\n",
        "new_dict = OrderedDict(dict.items())\n",
        "for key in new_dict:\n",
        "    print (key, new_dict[key])\n",
        "\n",
        "print(\"\\nIn reverse order:\")\n",
        "for key in reversed(new_dict):\n",
        "    print (key, new_dict[key])\n"
      ],
      "execution_count": 20,
      "outputs": [
        {
          "output_type": "stream",
          "text": [
            "Angola 244\n",
            "Andorra 376\n",
            "Algeria 213\n",
            "Afghanistan 93\n",
            "Albania 355\n",
            "\n",
            "In reverse order:\n",
            "Albania 355\n",
            "Afghanistan 93\n",
            "Algeria 213\n",
            "Andorra 376\n",
            "Angola 244\n"
          ],
          "name": "stdout"
        }
      ]
    },
    {
      "cell_type": "markdown",
      "metadata": {
        "id": "k5__HNT_fy1b",
        "colab_type": "text"
      },
      "source": [
        "Q2. Write the Python program to compare two unordered lists (not\n",
        "sets)?\n",
        " \n",
        "     Expected Output: False"
      ]
    },
    {
      "cell_type": "code",
      "metadata": {
        "id": "TqR0N-7ufy1c",
        "colab_type": "code",
        "colab": {
          "base_uri": "https://localhost:8080/",
          "height": 34
        },
        "outputId": "cfaf61e1-8b52-4b67-d62a-4e4ccb781bc0"
      },
      "source": [
        "from collections import Counter\n",
        "def compare_lists(x, y):\n",
        "    return Counter(x) == Counter(y)\n",
        "n1 = [20, 10, 30, 10, 20, 30]\n",
        "n2 = [30, 20, 10, 30, 20, 50]\n",
        "print(compare_lists(n1, n2))\n"
      ],
      "execution_count": 21,
      "outputs": [
        {
          "output_type": "stream",
          "text": [
            "False\n"
          ],
          "name": "stdout"
        }
      ]
    },
    {
      "cell_type": "markdown",
      "metadata": {
        "id": "qDG6G_xpfy1g",
        "colab_type": "text"
      },
      "source": [
        "Q3. Write the Python program to get an array buffer information?\n",
        "\n",
        "    Expected OutputArray buffer start address in memory and number of elements.\n",
        "    (25855056, 2)\n"
      ]
    },
    {
      "cell_type": "code",
      "metadata": {
        "id": "bzyzTkhLfy1h",
        "colab_type": "code",
        "colab": {
          "base_uri": "https://localhost:8080/",
          "height": 51
        },
        "outputId": "473ed855-2870-4364-9dd4-c59e0244e5b8"
      },
      "source": [
        "from array import array\n",
        "a = array(\"I\", (12,15))\n",
        "print(\"Array buffer start address in memory and number of elements.\")\n",
        "print(a.buffer_info())\n"
      ],
      "execution_count": 22,
      "outputs": [
        {
          "output_type": "stream",
          "text": [
            "Array buffer start address in memory and number of elements.\n",
            "(140411000973752, 2)\n"
          ],
          "name": "stdout"
        }
      ]
    },
    {
      "cell_type": "markdown",
      "metadata": {
        "id": "R-RsQ9brfy1n",
        "colab_type": "text"
      },
      "source": [
        "Q4. Write the Python program to convert an array to an array of\n",
        "machine values and return the bytes representation?\n",
        "\n",
        "    Expected OutputOriginal arrayA1: array('i', [1, 2, 3, 4, 5, 6])\n",
        "    Array of bytes:\n",
        "    b'010000000200000003000000040000000500000006000000"
      ]
    },
    {
      "cell_type": "code",
      "metadata": {
        "id": "p5sNYLLify1o",
        "colab_type": "code",
        "colab": {
          "base_uri": "https://localhost:8080/",
          "height": 51
        },
        "outputId": "bad8bcf4-ff8c-48d0-ece4-a1459f2df2ec"
      },
      "source": [
        "from array import *\n",
        "print(\"array of bytes\")\n",
        "x = array('i', [1,2,3,4,5,6])\n",
        "s = x.tobytes()\n",
        "print(s)\n"
      ],
      "execution_count": 23,
      "outputs": [
        {
          "output_type": "stream",
          "text": [
            "array of bytes\n",
            "b'\\x01\\x00\\x00\\x00\\x02\\x00\\x00\\x00\\x03\\x00\\x00\\x00\\x04\\x00\\x00\\x00\\x05\\x00\\x00\\x00\\x06\\x00\\x00\\x00'\n"
          ],
          "name": "stdout"
        }
      ]
    },
    {
      "cell_type": "markdown",
      "metadata": {
        "id": "tAwkvOMvfy1s",
        "colab_type": "text"
      },
      "source": [
        "Q5. Write the Python program to read a string and interpreting the\n",
        "string as an array of machine values?\n",
        "\n",
        "    Expected Outputarray1- array('i', [7, 8, 9, 10])\n",
        "    Bytes- b'0700000008000000090000000a000000'\n",
        "    array2- array('i', [7, 8, 9, 10])"
      ]
    },
    {
      "cell_type": "code",
      "metadata": {
        "id": "OAWHXLNFfy1s",
        "colab_type": "code",
        "colab": {
          "base_uri": "https://localhost:8080/",
          "height": 68
        },
        "outputId": "1726869c-2d13-4d31-8b45-262f312624d0"
      },
      "source": [
        "from array import array\n",
        "import binascii\n",
        "array1 = array('i', [7, 8, 9, 10])\n",
        "print('array1:', array1)\n",
        "as_bytes = array1.tobytes()\n",
        "print('Bytes:', binascii.hexlify(as_bytes))\n",
        "array2 = array('i')\n",
        "array2.frombytes(as_bytes)\n",
        "print('array2:', array2)\n"
      ],
      "execution_count": 24,
      "outputs": [
        {
          "output_type": "stream",
          "text": [
            "array1: array('i', [7, 8, 9, 10])\n",
            "Bytes: b'0700000008000000090000000a000000'\n",
            "array2: array('i', [7, 8, 9, 10])\n"
          ],
          "name": "stdout"
        }
      ]
    },
    {
      "cell_type": "markdown",
      "metadata": {
        "id": "I5SpYcmhfy1v",
        "colab_type": "text"
      },
      "source": [
        "Q6. Write the Python program to push three items into the heap and\n",
        "return the smallest item from the heap. Also, return and pop the\n",
        "smallest item from the heap?\n",
        "    \n",
        "    Expected OutputItems in the heap-\n",
        "    ('VI', 1).\n",
        "    ('VII', 3).\n",
        "    ('VIII', 2).\n",
        "    ----------------------\n",
        "    The smallest item in the heap:\n",
        "    ('VI', 1).\n",
        "     ----------------------\n",
        "    Pop the smallest item in the heap:\n",
        "    ('VII', 2).\n",
        "    ('VIII', 3)."
      ]
    },
    {
      "cell_type": "code",
      "metadata": {
        "id": "lvjQG5G8fy1w",
        "colab_type": "code",
        "colab": {
          "base_uri": "https://localhost:8080/",
          "height": 204
        },
        "outputId": "85c54ed4-374a-410a-f7f6-7d980b908b91"
      },
      "source": [
        "import heapq\n",
        "heap = []\n",
        "heapq.heappush(heap, ('V', 3))\n",
        "heapq.heappush(heap, ('V', 2))\n",
        "heapq.heappush(heap, ('V', 1))\n",
        "print(\"Items in the heap:\")\n",
        "for a in heap:\n",
        "\tprint(a)\n",
        "print(\"----------------------\")\n",
        "print(\"The smallest item in the heap:\")\n",
        "print(heap[0])\n",
        "print(\"----------------------\")\n",
        "print(\"Pop the smallest item in the heap:\")\n",
        "heapq.heappop(heap)\n",
        "for a in heap:\n",
        "\tprint(a)\n"
      ],
      "execution_count": 25,
      "outputs": [
        {
          "output_type": "stream",
          "text": [
            "Items in the heap:\n",
            "('V', 1)\n",
            "('V', 3)\n",
            "('V', 2)\n",
            "----------------------\n",
            "The smallest item in the heap:\n",
            "('V', 1)\n",
            "----------------------\n",
            "Pop the smallest item in the heap:\n",
            "('V', 2)\n",
            "('V', 3)\n"
          ],
          "name": "stdout"
        }
      ]
    },
    {
      "cell_type": "markdown",
      "metadata": {
        "id": "QtR_8Lkjfy10",
        "colab_type": "text"
      },
      "source": [
        "Q7. Write the Python program to locate the left insertion point for a\n",
        "specified value in sorted order?\n",
        "\n",
        "    Expected Output:\n",
        "    4\n",
        "    2"
      ]
    },
    {
      "cell_type": "code",
      "metadata": {
        "id": "sOoWFA7afy10",
        "colab_type": "code",
        "colab": {
          "base_uri": "https://localhost:8080/",
          "height": 51
        },
        "outputId": "86fca51c-0aba-46ce-c963-a28d4cb6dfc3"
      },
      "source": [
        "import bisect\n",
        "def index(a, x):\n",
        "    i = bisect.bisect_left(a, x)\n",
        "    return i\n",
        "    \n",
        "a = [1,2,4,5]\n",
        "print(index(a, 6))\n",
        "print(index(a, 3))\n"
      ],
      "execution_count": 26,
      "outputs": [
        {
          "output_type": "stream",
          "text": [
            "4\n",
            "2\n"
          ],
          "name": "stdout"
        }
      ]
    },
    {
      "cell_type": "markdown",
      "metadata": {
        "id": "jtJ9xkNPfy13",
        "colab_type": "text"
      },
      "source": [
        "Q8. Write the Python program to create the FIFO queue?\n",
        "\n",
        "    Expected Output:\n",
        "    0 1 2 3"
      ]
    },
    {
      "cell_type": "code",
      "metadata": {
        "id": "5SLOeeFofy14",
        "colab_type": "code",
        "colab": {
          "base_uri": "https://localhost:8080/",
          "height": 51
        },
        "outputId": "34a6478c-d850-4571-f46b-a2801a65e77e"
      },
      "source": [
        "import queue\n",
        "q = queue.Queue()\n",
        "#insert items at the end of the queue \n",
        "for x in range(4):\n",
        "    q.put(str(x))\n",
        "#remove items from the head of the queue \n",
        "while not q.empty():\n",
        "    print(q.get(), end=\" \")\n",
        "print(\"\\n\")\n"
      ],
      "execution_count": 27,
      "outputs": [
        {
          "output_type": "stream",
          "text": [
            "0 1 2 3 \n",
            "\n"
          ],
          "name": "stdout"
        }
      ]
    },
    {
      "cell_type": "markdown",
      "metadata": {
        "id": "fTqTDs98fy17",
        "colab_type": "text"
      },
      "source": [
        "Q9. Write the Python program to calculate the harmonic sum of n-1.\n",
        " Note: The harmonic sum is the sum of reciprocals of the positive\n",
        "Integers?\n",
        "\n",
        "    Example:\n",
        "    1+1/2+1/3+1/4+1/5+...."
      ]
    },
    {
      "cell_type": "code",
      "metadata": {
        "id": "Soo-AS9Qfy19",
        "colab_type": "code",
        "colab": {
          "base_uri": "https://localhost:8080/",
          "height": 51
        },
        "outputId": "49500002-7539-4e00-8076-f76793ee083c"
      },
      "source": [
        "def harmonic_sum(n):\n",
        "  if n < 2:\n",
        "    return 1\n",
        "  else:\n",
        "    return 1 / n + (harmonic_sum(n - 1))\n",
        "    \n",
        "print(harmonic_sum(17))\n",
        "print(harmonic_sum(4))\n"
      ],
      "execution_count": 28,
      "outputs": [
        {
          "output_type": "stream",
          "text": [
            "3.439552522640758\n",
            "2.083333333333333\n"
          ],
          "name": "stdout"
        }
      ]
    },
    {
      "cell_type": "markdown",
      "metadata": {
        "id": "qsC46pGIfy2A",
        "colab_type": "text"
      },
      "source": [
        "## Great Job!"
      ]
    }
  ]
}
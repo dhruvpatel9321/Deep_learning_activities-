{
 "cells": [
  {
   "cell_type": "markdown",
   "metadata": {},
   "source": [
    "# Skip-gram word2vec\n",
    "\n",
    "In this notebook, I'll lead you through using TensorFlow to implement the word2vec algorithm using the skip-gram architecture. By implementing this, you'll learn about embedding words for use in natural language processing. \n",
    "\n",
    "## Word embeddings\n",
    "\n",
    "When you're dealing with language and words, you end up with tens of thousands of classes to predict, one for each word. Trying to one-hot encode these words is massively inefficient, you'll have one element set to 1 and the other 50,000 set to 0. The word2vec algorithm finds much more efficient representations by finding vectors that represent the words. These vectors also contain semantic information about the words. Words that show up in similar contexts, such as \"black\", \"white\", and \"red\" will have vectors near each other. There are two architectures for implementing word2vec, CBOW (Continuous Bag-Of-Words) and Skip-gram.\n",
    "\n",
    "![](https://cdn-images-1.medium.com/max/800/1*EJ3wL_gJs1gSdwjHM3OcHg.png)\n",
    "\n",
    "In this implementation, we'll be using the skip-gram architecture because it performs better than CBOW. Here, we pass in a word and try to predict the words surrounding it in the text. In this way, we can train the network to learn representations for words that show up in similar contexts.\n",
    "\n",
    "## First up, importing packages."
   ]
  },
  {
   "cell_type": "code",
   "execution_count": 1,
   "metadata": {
    "collapsed": true
   },
   "outputs": [],
   "source": [
    "import time\n",
    "\n",
    "import numpy as np\n",
    "import tensorflow as tf"
   ]
  },
  {
   "cell_type": "markdown",
   "metadata": {},
   "source": [
    "Now we will write some helper for the ease, it is not mandatory to understand these."
   ]
  },
  {
   "cell_type": "code",
   "execution_count": 2,
   "metadata": {
    "collapsed": true
   },
   "outputs": [],
   "source": [
    "import re\n",
    "from collections import Counter\n",
    "\n",
    "def preprocess(text):\n",
    "\n",
    "    # Replace punctuation with tokens so we can use them in our model\n",
    "    text = text.lower()\n",
    "    text = text.replace('.', ' <PERIOD> ')\n",
    "    text = text.replace(',', ' <COMMA> ')\n",
    "    text = text.replace('\"', ' <QUOTATION_MARK> ')\n",
    "    text = text.replace(';', ' <SEMICOLON> ')\n",
    "    text = text.replace('!', ' <EXCLAMATION_MARK> ')\n",
    "    text = text.replace('?', ' <QUESTION_MARK> ')\n",
    "    text = text.replace('(', ' <LEFT_PAREN> ')\n",
    "    text = text.replace(')', ' <RIGHT_PAREN> ')\n",
    "    text = text.replace('--', ' <HYPHENS> ')\n",
    "    text = text.replace('?', ' <QUESTION_MARK> ')\n",
    "    # text = text.replace('\\n', ' <NEW_LINE> ')\n",
    "    text = text.replace(':', ' <COLON> ')\n",
    "    words = text.split()\n",
    "    \n",
    "    # Remove all words with  5 or fewer occurences\n",
    "    word_counts = Counter(words)\n",
    "    trimmed_words = [word for word in words if word_counts[word] > 5]\n",
    "\n",
    "    return trimmed_words\n",
    "\n",
    "def get_batches(int_text, batch_size, seq_length):\n",
    "    \"\"\"\n",
    "    Return batches of input and target\n",
    "    :param int_text: Text with the words replaced by their ids\n",
    "    :param batch_size: The size of batch\n",
    "    :param seq_length: The length of sequence\n",
    "    :return: A list where each item is a tuple of (batch of input, batch of target).\n",
    "    \"\"\"\n",
    "    n_batches = int(len(int_text) / (batch_size * seq_length))\n",
    "\n",
    "    # Drop the last few characters to make only full batches\n",
    "    xdata = np.array(int_text[: n_batches * batch_size * seq_length])\n",
    "    ydata = np.array(int_text[1: n_batches * batch_size * seq_length + 1])\n",
    "\n",
    "    x_batches = np.split(xdata.reshape(batch_size, -1), n_batches, 1)\n",
    "    y_batches = np.split(ydata.reshape(batch_size, -1), n_batches, 1)\n",
    "\n",
    "    return list(zip(x_batches, y_batches))\n",
    "\n",
    "\n",
    "def create_lookup_tables(words):\n",
    "    \"\"\"\n",
    "    Create lookup tables for vocabulary\n",
    "    :param words: Input list of words\n",
    "    :return: A tuple of dicts.  The first dict....\n",
    "    \"\"\"\n",
    "    word_counts = Counter(words)\n",
    "    sorted_vocab = sorted(word_counts, key=word_counts.get, reverse=True)\n",
    "    int_to_vocab = {ii: word for ii, word in enumerate(sorted_vocab)}\n",
    "    vocab_to_int = {word: ii for ii, word in int_to_vocab.items()}\n",
    "\n",
    "    return vocab_to_int, int_to_vocab"
   ]
  },
  {
   "cell_type": "markdown",
   "metadata": {},
   "source": [
    "Load the [text8 dataset](http://mattmahoney.net/dc/textdata.html), a file of cleaned up Wikipedia articles from Matt Mahoney. The next cell will download the data set to the `data` folder. Then you can extract it and delete the archive file to save storage space."
   ]
  },
  {
   "cell_type": "code",
   "execution_count": 3,
   "metadata": {},
   "outputs": [
    {
     "name": "stderr",
     "output_type": "stream",
     "text": [
      "Text8 Dataset: 31.4MB [01:42, 306KB/s]                            \n"
     ]
    }
   ],
   "source": [
    "from urllib.request import urlretrieve\n",
    "from os.path import isfile, isdir\n",
    "from tqdm import tqdm\n",
    "import zipfile\n",
    "\n",
    "dataset_folder_path = 'data'\n",
    "dataset_filename = 'text8.zip'\n",
    "dataset_name = 'Text8 Dataset'\n",
    "\n",
    "class DLProgress(tqdm):\n",
    "    last_block = 0\n",
    "\n",
    "    def hook(self, block_num=1, block_size=1, total_size=None):\n",
    "        self.total = total_size\n",
    "        self.update((block_num - self.last_block) * block_size)\n",
    "        self.last_block = block_num\n",
    "\n",
    "if not isfile(dataset_filename):\n",
    "    with DLProgress(unit='B', unit_scale=True, miniters=1, desc=dataset_name) as pbar:\n",
    "        urlretrieve(\n",
    "            'http://mattmahoney.net/dc/text8.zip',\n",
    "            dataset_filename,\n",
    "            pbar.hook)\n",
    "\n",
    "if not isdir(dataset_folder_path):\n",
    "    with zipfile.ZipFile(dataset_filename) as zip_ref:\n",
    "        zip_ref.extractall(dataset_folder_path)\n",
    "        \n",
    "with open('data/text8') as f:\n",
    "    text = f.read()"
   ]
  },
  {
   "cell_type": "markdown",
   "metadata": {},
   "source": [
    "## Preprocessing\n",
    "\n",
    "Here I'm fixing up the text to make training easier.  The `preprocess` function coverts any punctuation into tokens, so a period is changed to ` <PERIOD> `. In this data set, there aren't any periods, but it will help in other NLP problems. I'm also removing all words that show up five or fewer times in the dataset. This will greatly reduce issues due to noise in the data and improve the quality of the vector representations. If you want to write your own functions for this stuff, go for it."
   ]
  },
  {
   "cell_type": "code",
   "execution_count": 4,
   "metadata": {},
   "outputs": [
    {
     "name": "stdout",
     "output_type": "stream",
     "text": [
      "['anarchism', 'originated', 'as', 'a', 'term', 'of', 'abuse', 'first', 'used', 'against', 'early', 'working', 'class', 'radicals', 'including', 'the', 'diggers', 'of', 'the', 'english', 'revolution', 'and', 'the', 'sans', 'culottes', 'of', 'the', 'french', 'revolution', 'whilst']\n"
     ]
    }
   ],
   "source": [
    "words = preprocess(text)\n",
    "print(words[:30])"
   ]
  },
  {
   "cell_type": "code",
   "execution_count": 5,
   "metadata": {},
   "outputs": [
    {
     "name": "stdout",
     "output_type": "stream",
     "text": [
      "Total words: 16680599\n",
      "Unique words: 63641\n"
     ]
    }
   ],
   "source": [
    "print(\"Total words: {}\".format(len(words)))\n",
    "print(\"Unique words: {}\".format(len(set(words))))"
   ]
  },
  {
   "cell_type": "markdown",
   "metadata": {},
   "source": [
    "And here I'm creating dictionaries to covert words to integers and backwards, integers to words. The integers are assigned in descending frequency order, so the most frequent word (\"the\") is given the integer 0 and the next most frequent is 1 and so on. The words are converted to integers and stored in the list `int_words`."
   ]
  },
  {
   "cell_type": "code",
   "execution_count": 6,
   "metadata": {
    "collapsed": true
   },
   "outputs": [],
   "source": [
    "vocab_to_int, int_to_vocab = create_lookup_tables(words)\n",
    "int_words = [vocab_to_int[word] for word in words]"
   ]
  },
  {
   "cell_type": "markdown",
   "metadata": {},
   "source": [
    "## Subsampling\n",
    "\n",
    "Words that show up often such as \"the\", \"of\", and \"for\" don't provide much context to the nearby words. If we discard some of them, we can remove some of the noise from our data and in return get faster training and better representations. This process is called subsampling by Mikolov. For each word $w_i$ in the training set, we'll discard it with probability given by \n",
    "\n",
    "$$ P(w_i) = 1 - \\sqrt{\\frac{t}{f(w_i)}} $$\n",
    "\n",
    "where $t$ is a threshold parameter and $f(w_i)$ is the frequency of word $w_i$ in the total dataset.\n",
    "\n",
    "I'm going to leave this up to you as an exercise. This is more of a programming challenge, than about deep learning specifically. But, being able to prepare your data for your network is an important skill to have. Check out my solution to see how I did it.\n",
    "\n",
    "> **Exercise:** Implement subsampling for the words in `int_words`. That is, go through `int_words` and discard each word given the probablility $P(w_i)$ shown above. Note that $P(w_i)$ is the probability that a word is discarded. Assign the subsampled data to `train_words`."
   ]
  },
  {
   "cell_type": "code",
   "execution_count": 7,
   "metadata": {
    "collapsed": true
   },
   "outputs": [],
   "source": [
    "\n",
    "from collections import Counter\n",
    "import random\n",
    "\n",
    "threshold = 1e-5\n",
    "word_counts = Counter(int_words)\n",
    "total_count = len(int_words)\n",
    "freqs = {word: count / total_count for word, count in word_counts.items()}\n",
    "p_drop = {word: 1 - np.sqrt(threshold / freqs[word]) for word in word_counts}\n",
    "train_words = [word for word in int_words if p_drop[word] < random.random()]"
   ]
  },
  {
   "cell_type": "markdown",
   "metadata": {},
   "source": [
    "## Making batches"
   ]
  },
  {
   "cell_type": "markdown",
   "metadata": {},
   "source": [
    "Now that our data is in good shape, we need to get it into the proper form to pass it into our network. With the skip-gram architecture, for each word in the text, we want to grab all the words in a window around that word, with size $C$. \n",
    "\n",
    "From [Mikolov et al.](https://arxiv.org/pdf/1301.3781.pdf): \n",
    "\n",
    "\"Since the more distant words are usually less related to the current word than those close to it, we give less weight to the distant words by sampling less from those words in our training examples... If we choose $C = 5$, for each training word we will select randomly a number $R$ in range $< 1; C >$, and then use $R$ words from history and $R$ words from the future of the current word as correct labels.\""
   ]
  },
  {
   "cell_type": "code",
   "execution_count": 8,
   "metadata": {
    "collapsed": true
   },
   "outputs": [],
   "source": [
    "def get_target(words, idx, window_size=5):\n",
    "    ''' Get a list of words in a window around an index. '''\n",
    "    R = random.randint(1, window_size + 1)\n",
    "    start = idx - R if (idx - R) > 0 else 0\n",
    "    stop = idx + R\n",
    "    target_words = set(words[start:idx] + words[idx + 1:stop+1])\n",
    "    \n",
    "    return target_words"
   ]
  },
  {
   "cell_type": "markdown",
   "metadata": {},
   "source": [
    "Here's a function that returns batches for our network. The idea is that it grabs `batch_size` words from a words list. Then for each of those words, it gets the target words in the window. I haven't found a way to pass in a random number of target words and get it to work with the architecture, so I make one row per input-target pair. This is a generator function by the way, helps save memory."
   ]
  },
  {
   "cell_type": "code",
   "execution_count": 9,
   "metadata": {
    "collapsed": true
   },
   "outputs": [],
   "source": [
    "def get_batches(words, batch_size, window_size=5):\n",
    "    ''' Create a generator of word batches as a tuple (inputs, targets) '''\n",
    "    \n",
    "    n_batches = len(words)//batch_size\n",
    "    \n",
    "    # only full batches\n",
    "    words = words[:n_batches*batch_size]\n",
    "    \n",
    "    for idx in range(0, len(words), batch_size):\n",
    "        x, y = [], []\n",
    "        batch = words[idx:idx+batch_size]\n",
    "        for ii in range(len(batch)):\n",
    "            batch_x = batch[ii]\n",
    "            batch_y = get_target(batch, ii, window_size)\n",
    "            y.extend(batch_y)\n",
    "            x.extend([batch_x]*len(batch_y))\n",
    "        yield x, y\n",
    "    "
   ]
  },
  {
   "cell_type": "markdown",
   "metadata": {},
   "source": [
    "## Building the graph\n",
    "\n",
    "From Chris McCormick's blog, we can see the general structure of our network.\n",
    "![embedding_network](http://mccormickml.com/assets/word2vec/skip_gram_net_arch.png)\n",
    "\n",
    "The input words are passed in as one-hot encoded vectors. This will go into a hidden layer of linear units, then into a softmax layer. We'll use the softmax layer to make a prediction like normal.\n",
    "\n",
    "The idea here is to train the hidden layer weight matrix to find efficient representations for our words. This weight matrix is usually called the embedding matrix or embedding look-up table. We can discard the softmax layer becuase we don't really care about making predictions with this network. We just want the embedding matrix so we can use it in other networks we build from the dataset.\n",
    "\n",
    "I'm going to have you build the graph in stages now. First off, creating the `inputs` and `labels` placeholders like normal.\n"
   ]
  },
  {
   "cell_type": "code",
   "execution_count": 10,
   "metadata": {
    "collapsed": true
   },
   "outputs": [],
   "source": [
    "train_graph = tf.Graph()\n",
    "with train_graph.as_default():\n",
    "    inputs = tf.placeholder(tf.int32, shape=[None], name=\"inputs\")\n",
    "    labels = tf.placeholder(tf.int32, shape=[None, None], name=\"labels\")"
   ]
  },
  {
   "cell_type": "markdown",
   "metadata": {},
   "source": [
    "## Embedding\n",
    "\n"
   ]
  },
  {
   "cell_type": "markdown",
   "metadata": {
    "collapsed": true
   },
   "source": [
    "The embedding matrix has a size of the number of words by the number of neurons in the hidden layer. So, if you have 10,000 words and 300 hidden units, the matrix will have size $10,000 \\times 300$. Remember that we're using one-hot encoded vectors for our inputs. When you do the matrix multiplication of the one-hot vector with the embedding matrix, you end up selecting only one row out of the entire matrix:\n",
    "\n",
    "![one-hot matrix multiplication](http://mccormickml.com/assets/word2vec/matrix_mult_w_one_hot.png)\n",
    "\n",
    "You don't actually need to do the matrix multiplication, you just need to select the row in the embedding matrix that corresponds to the input word. Then, the embedding matrix becomes a lookup table, you're looking up a vector the size of the hidden layer that represents the input word.\n",
    "\n",
    "![](http://mccormickml.com/assets/word2vec/word2vec_weight_matrix_lookup_table.png)"
   ]
  },
  {
   "cell_type": "code",
   "execution_count": 11,
   "metadata": {
    "collapsed": true
   },
   "outputs": [],
   "source": [
    "n_vocab = len(int_to_vocab)\n",
    "n_embedding =  200   # Number of embedding features \n",
    "with train_graph.as_default():\n",
    "    # create embedding weight matrix here\n",
    "    embedding = tf.Variable(tf.random_uniform([n_vocab, n_embedding], -1.0, 1.0))\n",
    "    # use tf.nn.embedding_lookup to get the hidden layer output\n",
    "    embed = tf.nn.embedding_lookup(embedding, inputs)"
   ]
  },
  {
   "cell_type": "markdown",
   "metadata": {},
   "source": [
    "## Negative sampling\n",
    "\n"
   ]
  },
  {
   "cell_type": "markdown",
   "metadata": {},
   "source": [
    "For every example we give the network, we train it using the output from the softmax layer. That means for each input, we're making very small changes to millions of weights even though we only have one true example. This makes training the network very inefficient. We can approximate the loss from the softmax layer by only updating a small subset of all the weights at once. We'll update the weights for the correct label, but only a small number of incorrect labels. This is called [\"negative sampling\"](http://papers.nips.cc/paper/5021-distributed-representations-of-words-and-phrases-and-their-compositionality.pdf). Tensorflow has a convenient function to do this, [`tf.nn.sampled_softmax_loss`](https://www.tensorflow.org/api_docs/python/tf/nn/sampled_softmax_loss)."
   ]
  },
  {
   "cell_type": "code",
   "execution_count": 12,
   "metadata": {
    "collapsed": true
   },
   "outputs": [],
   "source": [
    "# Number of negative labels to sample\n",
    "n_sampled = 100\n",
    "with train_graph.as_default():\n",
    "    # create softmax weight matrix here\n",
    "    softmax_w = tf.Variable(tf.truncated_normal((n_vocab, n_embedding), stddev=0.1))\n",
    "    # create softmax biases here\n",
    "    softmax_b = tf.Variable(tf.zeros(n_vocab))\n",
    "    \n",
    "    # Calculate the loss using negative sampling\n",
    "    loss = tf.nn.sampled_softmax_loss(softmax_w, softmax_b, \n",
    "                                      labels, embed, \n",
    "                                      n_sampled, n_vocab)\n",
    "    \n",
    "    cost = tf.reduce_mean(loss)\n",
    "    optimizer = tf.train.AdamOptimizer().minimize(cost)"
   ]
  },
  {
   "cell_type": "markdown",
   "metadata": {},
   "source": [
    "## Validation\n",
    "\n",
    "This code is from Thushan Ganegedara's implementation. Here we're going to choose a few common words and few uncommon words. Then, we'll print out the closest words to them. It's a nice way to check that our embedding table is grouping together words with similar semantic meanings."
   ]
  },
  {
   "cell_type": "code",
   "execution_count": 13,
   "metadata": {
    "collapsed": true
   },
   "outputs": [],
   "source": [
    "with train_graph.as_default():\n",
    "    ## From Thushan Ganegedara's implementation\n",
    "    valid_size = 16 # Random set of words to evaluate similarity on.\n",
    "    valid_window = 100\n",
    "    # pick 8 samples from (0,100) and (1000,1100) each ranges. lower id implies more frequent \n",
    "    valid_examples = np.array(random.sample(range(valid_window), valid_size//2))\n",
    "    valid_examples = np.append(valid_examples, \n",
    "                               random.sample(range(1000,1000+valid_window), valid_size//2))\n",
    "\n",
    "    valid_dataset = tf.constant(valid_examples, dtype=tf.int32)\n",
    "    \n",
    "    # We use the cosine distance:\n",
    "    norm = tf.sqrt(tf.reduce_sum(tf.square(embedding), 1, keep_dims=True))\n",
    "    normalized_embedding = embedding / norm\n",
    "    valid_embedding = tf.nn.embedding_lookup(normalized_embedding, valid_dataset)\n",
    "    similarity = tf.matmul(valid_embedding, tf.transpose(normalized_embedding))"
   ]
  },
  {
   "cell_type": "code",
   "execution_count": 14,
   "metadata": {
    "collapsed": true
   },
   "outputs": [],
   "source": [
    "# If the checkpoints directory doesn't exist:\n",
    "!mkdir checkpoints"
   ]
  },
  {
   "cell_type": "markdown",
   "metadata": {},
   "source": [
    "## Training\n",
    "\n",
    "Below is the code to train the network. Every 100 batches it reports the training loss. Every 1000 batches, it'll print out the validation words."
   ]
  },
  {
   "cell_type": "code",
   "execution_count": 16,
   "metadata": {},
   "outputs": [
    {
     "name": "stdout",
     "output_type": "stream",
     "text": [
      "Epoch 1/1 Iteration: 100 Avg. Training loss: 5.6964 0.1647 sec/batch\n",
      "Epoch 1/1 Iteration: 200 Avg. Training loss: 5.5986 0.1599 sec/batch\n",
      "Epoch 1/1 Iteration: 300 Avg. Training loss: 5.5117 0.1611 sec/batch\n",
      "Epoch 1/1 Iteration: 400 Avg. Training loss: 5.6024 0.1625 sec/batch\n",
      "Epoch 1/1 Iteration: 500 Avg. Training loss: 5.5095 0.1624 sec/batch\n",
      "Epoch 1/1 Iteration: 600 Avg. Training loss: 5.5292 0.1626 sec/batch\n",
      "Epoch 1/1 Iteration: 700 Avg. Training loss: 5.5739 0.1621 sec/batch\n",
      "Epoch 1/1 Iteration: 800 Avg. Training loss: 5.5794 0.1618 sec/batch\n",
      "Epoch 1/1 Iteration: 900 Avg. Training loss: 5.4482 0.1621 sec/batch\n",
      "Epoch 1/1 Iteration: 1000 Avg. Training loss: 5.4645 0.1623 sec/batch\n",
      "Nearest to all: eben, nc, actinidia, intermodal, row, succinic, worthy, estate,\n",
      "Nearest to would: booty, mutombo, exercises, asceticism, kala, bacteriology, isp, crisscrossed,\n",
      "Nearest to can: ethic, traditionalist, noradrenaline, hamdan, caff, archipelagoes, riskin, margarine,\n",
      "Nearest to first: scientists, misfit, naruto, pinky, comprise, recombinant, comden, sunni,\n",
      "Nearest to or: sister, ioannes, kerosene, complementing, butt, ascii, topeka, mountaineer,\n",
      "Nearest to as: dowd, darwinian, hrothgar, italiana, seneca, chau, varnothing, principality,\n",
      "Nearest to by: before, disregards, ej, spanish, booming, frankfort, headaches, proportions,\n",
      "Nearest to s: overcrowding, androgynous, forested, dashed, plunkett, global, maio, doubting,\n",
      "Nearest to report: claudia, complements, meknes, hyakutake, engaging, ethnocentrism, antagonist, exerted,\n",
      "Nearest to smith: renoir, ligament, wise, cohan, compound, einstein, epidemic, undone,\n",
      "Nearest to http: volcanoes, windowtext, trotskyist, prepaid, questioner, pro, opolska, declarative,\n",
      "Nearest to marriage: could, communaute, bridal, paullus, barrymore, superiors, fate, rahilly,\n",
      "Nearest to freedom: constantinople, vlaanderen, contralto, inspections, kamehameha, taj, detonates, approx,\n",
      "Nearest to orthodox: screened, obtainable, hno, starbucks, stretched, foil, expedite, excretory,\n",
      "Nearest to road: tgv, traded, fleshy, jena, betray, directly, staroffice, chancellor,\n",
      "Nearest to file: leinster, frightened, russians, crucifix, overt, girlfriends, tzar, jehoash,\n",
      "Epoch 1/1 Iteration: 1100 Avg. Training loss: 5.4968 0.1655 sec/batch\n",
      "Epoch 1/1 Iteration: 1200 Avg. Training loss: 5.3834 0.1612 sec/batch\n",
      "Epoch 1/1 Iteration: 1300 Avg. Training loss: 5.2891 0.1611 sec/batch\n",
      "Epoch 1/1 Iteration: 1400 Avg. Training loss: 5.2427 0.1616 sec/batch\n",
      "Epoch 1/1 Iteration: 1500 Avg. Training loss: 5.1957 0.1612 sec/batch\n",
      "Epoch 1/1 Iteration: 1600 Avg. Training loss: 5.1222 0.1610 sec/batch\n",
      "Epoch 1/1 Iteration: 1700 Avg. Training loss: 5.0817 0.1611 sec/batch\n",
      "Epoch 1/1 Iteration: 1800 Avg. Training loss: 5.0470 0.1610 sec/batch\n",
      "Epoch 1/1 Iteration: 1900 Avg. Training loss: 4.9688 0.1613 sec/batch\n",
      "Epoch 1/1 Iteration: 2000 Avg. Training loss: 4.9741 0.1696 sec/batch\n",
      "Nearest to all: row, eben, estate, worthy, contributing, null, copies, nc,\n",
      "Nearest to would: exercises, reputation, mutombo, deny, undertaken, valuable, booty, awareness,\n",
      "Nearest to can: ethic, traditionalist, noradrenaline, state, night, archipelagoes, hamdan, nouns,\n",
      "Nearest to first: scientists, comprise, sunni, divine, pinky, affect, misfit, total,\n",
      "Nearest to or: sister, completely, kerosene, trailing, monty, identities, must, turn,\n",
      "Nearest to as: darwinian, dowd, compound, italiana, attached, attacked, horizontally, hrothgar,\n",
      "Nearest to by: before, spanish, proportions, booming, ej, already, true, deeper,\n",
      "Nearest to s: global, forested, androgynous, overcrowding, able, loosely, remain, nation,\n",
      "Nearest to report: complements, engaging, claudia, shock, exerted, seminal, hyakutake, antagonist,\n",
      "Nearest to smith: ligament, wise, compound, epidemic, renoir, shadowrun, oilseed, gait,\n",
      "Nearest to http: pro, volcanoes, anyway, prepaid, soared, trotskyist, questioner, dreyfus,\n",
      "Nearest to marriage: could, oni, fate, barrymore, publicized, communaute, bridal, paullus,\n",
      "Nearest to freedom: constantinople, contralto, responded, inspections, northwestern, vlaanderen, approx, henri,\n",
      "Nearest to orthodox: screened, obtainable, foil, stretched, evergreen, hno, switches, attracted,\n",
      "Nearest to road: traded, tgv, directly, services, show, creators, island, jena,\n",
      "Nearest to file: leinster, russians, overt, grouping, offered, frightened, keats, raiders,\n",
      "Epoch 1/1 Iteration: 2100 Avg. Training loss: 4.9156 0.1622 sec/batch\n",
      "Epoch 1/1 Iteration: 2200 Avg. Training loss: 4.8746 0.1601 sec/batch\n",
      "Epoch 1/1 Iteration: 2300 Avg. Training loss: 4.8612 0.1612 sec/batch\n",
      "Epoch 1/1 Iteration: 2400 Avg. Training loss: 4.8738 0.1611 sec/batch\n",
      "Epoch 1/1 Iteration: 2500 Avg. Training loss: 4.8102 0.1604 sec/batch\n",
      "Epoch 1/1 Iteration: 2600 Avg. Training loss: 4.8124 0.1602 sec/batch\n",
      "Epoch 1/1 Iteration: 2700 Avg. Training loss: 4.7904 0.1798 sec/batch\n",
      "Epoch 1/1 Iteration: 2800 Avg. Training loss: 4.7958 0.1690 sec/batch\n",
      "Epoch 1/1 Iteration: 2900 Avg. Training loss: 4.7901 0.1604 sec/batch\n",
      "Epoch 1/1 Iteration: 3000 Avg. Training loss: 4.7674 0.1613 sec/batch\n",
      "Nearest to all: eben, row, estate, null, copies, analytic, worthy, inscriptions,\n",
      "Nearest to would: exercises, booty, asceticism, isp, subduing, deny, bacteriology, mutombo,\n",
      "Nearest to can: ethic, traditionalist, noradrenaline, archipelagoes, nouns, disbelief, margarine, riskin,\n",
      "Nearest to first: comprise, pinky, scientists, recombinant, rainy, misfit, precedent, affect,\n",
      "Nearest to or: sister, kerosene, completely, identities, complementing, constituents, trailing, ascii,\n",
      "Nearest to as: darwinian, italiana, dowd, horizontally, hrothgar, compound, attacked, dozens,\n",
      "Nearest to by: before, ej, booming, proportions, spanish, scuba, lapsed, midlands,\n",
      "Nearest to s: forested, global, overcrowding, androgynous, doubting, dashed, unambiguous, nation,\n",
      "Nearest to report: complements, engaging, claudia, seminal, antagonist, undo, exerted, infusion,\n",
      "Nearest to smith: ligament, compound, renoir, wise, drury, psychologist, epidemic, einstein,\n",
      "Nearest to http: pro, soared, kerenyi, dreyfus, declarative, anyway, generals, trotskyist,\n",
      "Nearest to marriage: could, oni, bridal, communaute, fate, barrymore, superiors, plummeted,\n",
      "Nearest to freedom: constantinople, inspections, contralto, approx, henri, vlaanderen, kamehameha, responded,\n",
      "Nearest to orthodox: screened, obtainable, foil, stretched, monarchs, booming, recognises, relativist,\n",
      "Nearest to road: traded, tgv, island, chancellor, staroffice, jena, services, betray,\n",
      "Nearest to file: overt, russians, grouping, offered, banning, raiders, keats, computations,\n",
      "Epoch 1/1 Iteration: 3100 Avg. Training loss: 4.7660 0.1618 sec/batch\n",
      "Epoch 1/1 Iteration: 3200 Avg. Training loss: 4.7327 0.1608 sec/batch\n",
      "Epoch 1/1 Iteration: 3300 Avg. Training loss: 4.7236 0.1908 sec/batch\n",
      "Epoch 1/1 Iteration: 3400 Avg. Training loss: 4.7020 0.1606 sec/batch\n",
      "Epoch 1/1 Iteration: 3500 Avg. Training loss: 4.7580 0.1605 sec/batch\n",
      "Epoch 1/1 Iteration: 3600 Avg. Training loss: 4.6873 0.1767 sec/batch\n",
      "Epoch 1/1 Iteration: 3700 Avg. Training loss: 4.6909 0.1831 sec/batch\n",
      "Epoch 1/1 Iteration: 3800 Avg. Training loss: 4.7447 0.1603 sec/batch\n",
      "Epoch 1/1 Iteration: 3900 Avg. Training loss: 4.7011 0.1600 sec/batch\n",
      "Epoch 1/1 Iteration: 4000 Avg. Training loss: 4.6810 0.1611 sec/batch\n",
      "Nearest to all: eben, null, analytic, row, copies, estate, inscriptions, actinidia,\n",
      "Nearest to would: booty, exercises, subduing, grievances, isp, asceticism, conclusive, propellant,\n",
      "Nearest to can: ethic, traditionalist, noradrenaline, disbelief, archipelagoes, margarine, nouns, exopterygota,\n",
      "Nearest to first: recombinant, pinky, comprise, rainy, misfit, deteriorated, scientists, savages,\n",
      "Nearest to or: kerosene, identities, completely, ascii, sister, complementing, must, constituents,\n",
      "Nearest to as: darwinian, italiana, dowd, hrothgar, tar, horizontally, kcl, pearl,\n",
      "Nearest to by: before, ej, tcp, booming, lapsed, scuba, buckingham, midlands,\n",
      "Nearest to s: forested, overcrowding, doubting, androgynous, global, nation, dashed, plunkett,\n",
      "Nearest to report: complements, claudia, engaging, graze, undo, hyakutake, seminal, antagonist,\n",
      "Nearest to smith: ligament, drury, ideologies, renoir, psychologist, patriarchate, bowing, optimates,\n",
      "Nearest to http: pro, declarative, soared, kerenyi, trotskyist, dreyfus, baroque, questioner,\n",
      "Nearest to marriage: oni, superiors, bridal, could, communaute, fate, plummeted, barrymore,\n",
      "Nearest to freedom: constantinople, kamehameha, inspections, contralto, vlaanderen, detonates, henri, chinatown,\n",
      "Nearest to orthodox: screened, obtainable, foil, stretched, floods, monarchs, expedite, damning,\n",
      "Nearest to road: tgv, traded, staroffice, island, patriots, jena, betray, fleshy,\n",
      "Nearest to file: overt, russians, keats, offered, computations, rien, discrimination, grouping,\n",
      "Epoch 1/1 Iteration: 4100 Avg. Training loss: 4.6907 0.1619 sec/batch\n",
      "Epoch 1/1 Iteration: 4200 Avg. Training loss: 4.6630 0.1607 sec/batch\n",
      "Epoch 1/1 Iteration: 4300 Avg. Training loss: 4.5939 0.1639 sec/batch\n",
      "Epoch 1/1 Iteration: 4400 Avg. Training loss: 4.6301 0.1905 sec/batch\n",
      "Epoch 1/1 Iteration: 4500 Avg. Training loss: 4.6125 0.1632 sec/batch\n",
      "Epoch 1/1 Iteration: 4600 Avg. Training loss: 4.6374 0.1613 sec/batch\n"
     ]
    }
   ],
   "source": [
    "epochs = 1\n",
    "batch_size = 1000\n",
    "window_size = 10\n",
    "\n",
    "with train_graph.as_default():\n",
    "    saver = tf.train.Saver()\n",
    "\n",
    "with tf.Session(graph=train_graph) as sess:\n",
    "    iteration = 1\n",
    "    loss = 0\n",
    "    sess.run(tf.global_variables_initializer())\n",
    "\n",
    "    for e in range(1, epochs+1):\n",
    "        batches = get_batches(train_words, batch_size, window_size)\n",
    "        start = time.time()\n",
    "        for x, y in batches:\n",
    "            \n",
    "            feed = {inputs: x,\n",
    "                    labels: np.array(y)[:, None]}\n",
    "            train_loss, _ = sess.run([cost, optimizer], feed_dict=feed)\n",
    "            \n",
    "            loss += train_loss\n",
    "            \n",
    "            if iteration % 100 == 0: \n",
    "                end = time.time()\n",
    "                print(\"Epoch {}/{}\".format(e, epochs),\n",
    "                      \"Iteration: {}\".format(iteration),\n",
    "                      \"Avg. Training loss: {:.4f}\".format(loss/100),\n",
    "                      \"{:.4f} sec/batch\".format((end-start)/100))\n",
    "                loss = 0\n",
    "                start = time.time()\n",
    "            \n",
    "            if iteration % 1000 == 0:\n",
    "                sim = similarity.eval()\n",
    "                for i in range(valid_size):\n",
    "                    valid_word = int_to_vocab[valid_examples[i]]\n",
    "                    top_k = 8 # number of nearest neighbors\n",
    "                    nearest = (-sim[i, :]).argsort()[1:top_k+1]\n",
    "                    log = 'Nearest to %s:' % valid_word\n",
    "                    for k in range(top_k):\n",
    "                        close_word = int_to_vocab[nearest[k]]\n",
    "                        log = '%s %s,' % (log, close_word)\n",
    "                    print(log)\n",
    "            \n",
    "            iteration += 1\n",
    "    save_path = saver.save(sess, \"checkpoints/text8.ckpt\")\n",
    "    embed_mat = sess.run(normalized_embedding)"
   ]
  },
  {
   "cell_type": "markdown",
   "metadata": {},
   "source": [
    "Restore the trained network if you need to:"
   ]
  },
  {
   "cell_type": "code",
   "execution_count": 17,
   "metadata": {
    "collapsed": true
   },
   "outputs": [],
   "source": [
    "with train_graph.as_default():\n",
    "    saver = tf.train.Saver()\n",
    "\n",
    "with tf.Session(graph=train_graph) as sess:\n",
    "    saver.restore(sess, tf.train.latest_checkpoint('checkpoints'))\n",
    "    embed_mat = sess.run(embedding)"
   ]
  },
  {
   "cell_type": "code",
   "execution_count": null,
   "metadata": {
    "collapsed": true
   },
   "outputs": [],
   "source": []
  }
 ],
 "metadata": {
  "kernelspec": {
   "display_name": "Python 3",
   "language": "python",
   "name": "python3"
  },
  "language_info": {
   "codemirror_mode": {
    "name": "ipython",
    "version": 3
   },
   "file_extension": ".py",
   "mimetype": "text/x-python",
   "name": "python",
   "nbconvert_exporter": "python",
   "pygments_lexer": "ipython3",
   "version": "3.7.3"
  }
 },
 "nbformat": 4,
 "nbformat_minor": 2
}

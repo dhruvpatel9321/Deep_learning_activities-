{
 "cells": [
  {
   "cell_type": "markdown",
   "metadata": {},
   "source": [
    "# Assignment"
   ]
  },
  {
   "cell_type": "markdown",
   "metadata": {},
   "source": [
    "Q1. Create two arrays of six elements. Write the NumPy program to\n",
    "count the number of instances of a value occurring in one array on\n",
    "the condition of another array.\n",
    "\n",
    "    Sample OutputOriginal arrays-\n",
    "    [ 10 -10 10 -10 -10 10]\n",
    "    [0.85 0.45 0.9 0.8 0.12 0.6 ]\n",
    "    Number of instances of a value occurring in one array on the condition of another\n",
    "    array: 3\n"
   ]
  },
  {
   "cell_type": "code",
   "execution_count": null,
   "metadata": {},
   "outputs": [],
   "source": []
  },
  {
   "cell_type": "markdown",
   "metadata": {},
   "source": [
    "Q2. Write the NumPy program to convert a Python dictionary to a\n",
    "Numpy ndarray ?\n",
    "    \n",
    "    Original dictionary-\n",
    "    {'column0': {'a': 1, 'b': 0.0, 'c': 0.0, 'd': 2.0},\n",
    "    'column1': {'a': 3.0, 'b': 1, 'c': 0.0, 'd': -1.0},\n",
    "    'column2': {'a': 4, 'b': 1, 'c': 5.0, 'd': -1.0},\n",
    "    'column3': {'a': 3.0, 'b': -1.0, 'c': -1.0, 'd': -1.0}}\n",
    "    Type: <class 'dict'>\n",
    "    ndarray-\n",
    "    [[ 1. 0. 0. 2.]\n",
    "    [ 3. 1. 0. -1.]\n",
    "    [ 4. 1. 5. -1.]\n",
    "    [ 3. -1. -1. -1.]]\n",
    "    Type: <class 'numpy.ndarray'>\n"
   ]
  },
  {
   "cell_type": "code",
   "execution_count": null,
   "metadata": {},
   "outputs": [],
   "source": []
  },
  {
   "cell_type": "markdown",
   "metadata": {},
   "source": [
    "Q3. Write the Numpy program to find and store the non-zero unique\n",
    "rows in an array after comparing each row with other row in the\n",
    "given matrix?\n",
    " \n",
    "    Original array-\n",
    "    [[ 1 1 0]\n",
    "    [ 0 0 0]\n",
    "    [ 0 2 3]\n",
    "    [ 0 0 0]\n",
    "    [ 0 -1 1]\n",
    "    [ 0 0 0]]\n",
    "    Non-zero unique rows-\n",
    "    [[ 1 1 0]\n",
    "    [ 0 2 3]\n",
    "    [ 0 -1 1]]"
   ]
  },
  {
   "cell_type": "code",
   "execution_count": null,
   "metadata": {},
   "outputs": [],
   "source": []
  },
  {
   "cell_type": "markdown",
   "metadata": {},
   "source": [
    "Q4. Write the NumPy program to multiply the matrix by another matrix\n",
    "of complex numbers and create a new matrix of complex\n",
    "numbers?\n",
    "\n",
    "    Sample outputFirst array-\n",
    "    [ 1.+2.j 3.+4.j]\n",
    "    Second array-\n",
    "    [ 5.+6.j 7.+8.j]\n",
    "    Product of above two arrays-\n",
    "    (70-8j)"
   ]
  },
  {
   "cell_type": "code",
   "execution_count": null,
   "metadata": {},
   "outputs": [],
   "source": []
  },
  {
   "cell_type": "markdown",
   "metadata": {},
   "source": [
    "Q5. Write a NumPy program to generate the matrix product of two\n",
    "Arrays?\n",
    "\n",
    "    Sample OutputMatrices and vectors.\n",
    "    x-\n",
    "    [[1, 0], [1, 1]]\n",
    "    y-\n",
    "    [[3, 1], [2, 2]]\n",
    "    Matrix product of above two arrays-\n",
    "    [[3 1]\n",
    "    [5 3]]\n"
   ]
  },
  {
   "cell_type": "code",
   "execution_count": null,
   "metadata": {},
   "outputs": [],
   "source": []
  },
  {
   "cell_type": "markdown",
   "metadata": {},
   "source": [
    "Q6. Write the NumPy program to find roots of the following\n",
    "Polynomials?\n",
    "\n",
    "    a) (x\n",
    "    2\n",
    "    - 4x + 7)\n",
    "    b) x4\n",
    "    - 11x3 + 9x2 + 11x ? 10\n",
    "    Sample outputRoots of the first polynomial-\n",
    "    [ 1. 1.]\n",
    "    Roots of the second polynomial-\n",
    "    [ 11.04461946+0.j -0.87114210+0.j 0.91326132+0.4531004j\n",
    "    0.91326132-0.4531004j ]"
   ]
  },
  {
   "cell_type": "code",
   "execution_count": null,
   "metadata": {},
   "outputs": [],
   "source": []
  },
  {
   "cell_type": "markdown",
   "metadata": {},
   "source": [
    "Q7. Write the NumPy program to calculate inverse of sine, cosine,\n",
    "and inverse tangent for all elements in a given array?\n",
    "\n",
    "    Sample outputInverse sine- [-1.57079633 0. 1.57079633]\n",
    "    Inverse cosine- [3.14159265 1.57079633 0. ]\n",
    "    Inverse tangent- [-0.78539816 0. 0.78539816]"
   ]
  },
  {
   "cell_type": "code",
   "execution_count": null,
   "metadata": {},
   "outputs": [],
   "source": []
  },
  {
   "cell_type": "markdown",
   "metadata": {},
   "source": [
    "Q8. Write the NumPy program to calculate the difference between in\n",
    "neighbouring elements, element-wise of a given array?\n",
    "\n",
    "    Sample outputOriginal array-\n",
    "    [1 3 5 7 0]\n",
    "    Difference between neighbouring elements, element-wise of the said array-\n",
    "    [ 2 2 2 -7]"
   ]
  },
  {
   "cell_type": "code",
   "execution_count": null,
   "metadata": {},
   "outputs": [],
   "source": []
  },
  {
   "cell_type": "markdown",
   "metadata": {},
   "source": [
    "Q9. Write the Python program to find the maximum and the minimum\n",
    "value of a given flattened array?\n",
    "\n",
    "    Expected OutputOriginal flattened array-\n",
    "    [[0 1]\n",
    "    [2 3]]\n",
    "    Maximum value of the above flattened array3\n",
    "    Minimum value of the above flattened array0"
   ]
  },
  {
   "cell_type": "code",
   "execution_count": null,
   "metadata": {},
   "outputs": [],
   "source": []
  },
  {
   "cell_type": "markdown",
   "metadata": {},
   "source": [
    "Q10. Write the NumPy program to calculate the difference between in\n",
    "the maximum and the minimum values of a given array along the\n",
    "second axis ?\n",
    "\n",
    "    Expected OutputOriginal array-\n",
    "    [[ 0 1 2 3 4 5]\n",
    "    [ 6 7 8 9 10 11]]\n",
    "    Difference between the maximum and the minimum values of the said array-\n",
    "    [5 5]\n"
   ]
  },
  {
   "cell_type": "code",
   "execution_count": null,
   "metadata": {},
   "outputs": [],
   "source": []
  },
  {
   "cell_type": "markdown",
   "metadata": {},
   "source": [
    "Q11. Write the NumPy program to compute the weighted of the given\n",
    "array ?\n",
    "\n",
    "    Sample OutputOriginal array-\n",
    "    [0 1 2 3 4]\n",
    "    Weighted average of the said array2.6666666666666665"
   ]
  },
  {
   "cell_type": "code",
   "execution_count": null,
   "metadata": {},
   "outputs": [],
   "source": []
  },
  {
   "cell_type": "markdown",
   "metadata": {},
   "source": [
    "Q12. Write the NumPy program to compute the mean, standard\n",
    "deviation, and the variance of a given array along the second\n",
    "axis?\n",
    "\n",
    "    Sample outputOriginal array-\n",
    "    [0 1 2 3 4 5]\n",
    "    Mean- 2.5\n",
    "    std- 1\n",
    "    variance- 2.9166666666666665"
   ]
  },
  {
   "cell_type": "code",
   "execution_count": null,
   "metadata": {},
   "outputs": [],
   "source": []
  },
  {
   "cell_type": "markdown",
   "metadata": {},
   "source": [
    "Q13. Write the Numpy program to compute the covariance matrix of the\n",
    "two given arrays?\n",
    "    \n",
    "    Sample OutputOriginal array1-\n",
    "    [0 1 2]\n",
    "    Original array1-\n",
    "    [2 1 0]\n",
    "    Covariance matrix of the said arrays-\n",
    "    [[ 1. -1.]\n",
    "    [-1. 1.]]"
   ]
  },
  {
   "cell_type": "code",
   "execution_count": null,
   "metadata": {},
   "outputs": [],
   "source": []
  },
  {
   "cell_type": "markdown",
   "metadata": {},
   "source": [
    "Q14. Write a NumPy program to compute the cross-correlation of two\n",
    "given arrays ?\n",
    "\n",
    "    Sample OutputOriginal array1-\n",
    "    [0 1 3]\n",
    "    Original array1-\n",
    "    [2 4 5]\n",
    "    Cross-correlation of the said arrays-\n",
    "    [ [ 2.33333333 2.16666667 ]\n",
    "     [ 2.16666667 2.33333333 ] ]"
   ]
  },
  {
   "cell_type": "code",
   "execution_count": null,
   "metadata": {},
   "outputs": [],
   "source": []
  },
  {
   "cell_type": "markdown",
   "metadata": {},
   "source": [
    "Q15. Write the NumPy program to compute Pearson product-moment\n",
    "correlation coefficients of two given arrays?\n",
    "\n",
    "    Sample OutputOriginal array1-\n",
    "    [0 1 3]\n",
    "    Original array1-\n",
    "    [2 4 5]\n",
    "    Pearson product-moment correlation coefficients of the said arrays-\n",
    "    [[1. 0.92857143]\n",
    "    [0.92857143 1. ]]"
   ]
  },
  {
   "cell_type": "code",
   "execution_count": null,
   "metadata": {},
   "outputs": [],
   "source": []
  },
  {
   "cell_type": "markdown",
   "metadata": {},
   "source": [
    "Q16. Write the python program to count the number of occurrences of\n",
    "each value in a given array of non-negative integers?\n",
    " \n",
    "Note: bincount() Function- It count the occurrence of each value in an array of the\n",
    "non- negative integers in the range of the array between the minimum and maximum values\n",
    "including the values that did not occur.\n",
    "\n",
    "    Sample OutputOriginal array-\n",
    "    [0, 1, 6, 1, 4, 1, 2, 2, 7]\n",
    "    Number of occurrences of each value in array-\n",
    "    [1 3 2 0 1 0 1 1]"
   ]
  },
  {
   "cell_type": "code",
   "execution_count": null,
   "metadata": {},
   "outputs": [],
   "source": []
  },
  {
   "cell_type": "markdown",
   "metadata": {},
   "source": [
    "Q17. Write a Numpy program to compute the histogram of nums\n",
    "against the bins?\n",
    "\n",
    "    Sample Outputnums- [0.5 0.7 1. 1.2 1.3 2.1]\n",
    "    P a g e 29 | 44\n",
    "    bins- [0 1 2 3]\n",
    "    Result- (array([2, 3, 1], dtype=int64), array([0, 1, 2, 3]))"
   ]
  },
  {
   "cell_type": "code",
   "execution_count": null,
   "metadata": {},
   "outputs": [],
   "source": []
  },
  {
   "cell_type": "markdown",
   "metadata": {},
   "source": [
    "## Great Job!"
   ]
  }
 ],
 "metadata": {
  "kernelspec": {
   "display_name": "Python 3",
   "language": "python",
   "name": "python3"
  },
  "language_info": {
   "codemirror_mode": {
    "name": "ipython",
    "version": 3
   },
   "file_extension": ".py",
   "mimetype": "text/x-python",
   "name": "python",
   "nbconvert_exporter": "python",
   "pygments_lexer": "ipython3",
   "version": "3.7.4"
  }
 },
 "nbformat": 4,
 "nbformat_minor": 2
}
